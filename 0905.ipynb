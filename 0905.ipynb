{
 "cells": [
  {
   "cell_type": "code",
   "execution_count": 1,
   "metadata": {},
   "outputs": [
    {
     "name": "stdout",
     "output_type": "stream",
     "text": [
      "점수를 입력하세요: 59\n",
      "->Fail!\n"
     ]
    }
   ],
   "source": [
    "score = int(input(\"점수를 입력하세요: \"))\n",
    "if score > 60: print(\"-> Pass!\")\n",
    "else : print(\"->Fail!\")"
   ]
  },
  {
   "cell_type": "code",
   "execution_count": null,
   "metadata": {},
   "outputs": [
    {
     "name": "stdout",
     "output_type": "stream",
     "text": [
      "점수를 입력하세요: 59\n",
      "-> Fail!\n",
      "점수를 입력하세요: 58\n",
      "-> Fail!\n",
      "점수를 입력하세요: 60\n",
      "-> Fail!\n",
      "점수를 입력하세요: 61\n",
      "-> Pass!\n"
     ]
    }
   ],
   "source": [
    "while True:\n",
    "    score = int(input(\"점수를 입력하세요: \"))\n",
    "    if score > 60: print(\"-> Pass!\")\n",
    "    else: print(\"-> Fail!\")"
   ]
  },
  {
   "cell_type": "code",
   "execution_count": 2,
   "metadata": {},
   "outputs": [
    {
     "name": "stdout",
     "output_type": "stream",
     "text": [
      "숫자를 하나 입력하세요: 1\n",
      "입력된 숫자는 1 입니다\n",
      "끝\n"
     ]
    }
   ],
   "source": [
    "num = int(input(\"숫자를 하나 입력하세요: \"))\n",
    "\n",
    "if num >= 0:\n",
    "    print('입력된 숫자는', num, '입니다') # 1회 수행\n",
    "print('끝')"
   ]
  },
  {
   "cell_type": "code",
   "execution_count": 3,
   "metadata": {},
   "outputs": [
    {
     "name": "stdout",
     "output_type": "stream",
     "text": [
      "숫자를 하나 입력하세요: 3\n",
      "입력된 숫자는 3 입니다\n",
      "입력된 숫자는 2 입니다\n",
      "입력된 숫자는 1 입니다\n",
      "입력된 숫자는 0 입니다\n",
      "끝\n"
     ]
    }
   ],
   "source": [
    "num = int(input(\"숫자를 하나 입력하세요: \"))\n",
    "\n",
    "while num >=0:\n",
    "    print('입력된 숫자는', num, '입니다') # 반복 수행\n",
    "    num -= 1 #num = num -1\n",
    "print('끝')"
   ]
  },
  {
   "cell_type": "code",
   "execution_count": 4,
   "metadata": {},
   "outputs": [
    {
     "name": "stdout",
     "output_type": "stream",
     "text": [
      "나무를 1 번 찍었습니다 쾅\n",
      "나무를 2 번 찍었습니다 쾅, 쾅\n",
      "나무를 3 번 찍었습니다 쾅, 쾅, 쾅\n",
      "나무를 4 번 찍었습니다 쾅, 쾅, 쾅, 쾅\n",
      "나무를 5 번 찍었습니다 쾅, 쾅, 쾅, 쾅, 쾅\n",
      "나무를 6 번 찍었습니다 쾅, 쾅, 쾅, 쾅, 쾅, 쾅\n",
      "나무를 7 번 찍었습니다 쾅, 쾅, 쾅, 쾅, 쾅, 쾅, 쾅\n",
      "나무를 8 번 찍었습니다 쾅, 쾅, 쾅, 쾅, 쾅, 쾅, 쾅, 쾅\n",
      "나무를 9 번 찍었습니다 쾅, 쾅, 쾅, 쾅, 쾅, 쾅, 쾅, 쾅, 쾅\n",
      "나무가 넘어갔습니다\n"
     ]
    }
   ],
   "source": [
    "n = 1 # 초기값\n",
    "while n < 10: # 범위(끝)\n",
    "    print('나무를', n, '번 찍었습니다', '쾅, '*(n-1)+'쾅')\n",
    "    n += 1 #증감\n",
    "print('나무가 넘어갔습니다')"
   ]
  },
  {
   "cell_type": "code",
   "execution_count": 5,
   "metadata": {},
   "outputs": [
    {
     "name": "stdout",
     "output_type": "stream",
     "text": [
      "나무 크기: 10\n",
      "잎 모양: 모\n",
      "줄기 모양:ㅣ\n",
      "         모\n",
      "        모모\n",
      "       모모모\n",
      "      모모모모\n",
      "     모모모모모\n",
      "    모모모모모모\n",
      "   모모모모모모모\n",
      "  모모모모모모모모\n",
      " 모모모모모모모모모\n",
      "모모모모모모모모모모\n",
      "         ㅣ\n",
      "         ㅣ\n"
     ]
    }
   ],
   "source": [
    "size = int(input('나무 크기: '))\n",
    "leaf = input('잎 모양: ')\n",
    "stem = input('줄기 모양:')\n",
    "\n",
    "n = 1\n",
    "while n <= size:\n",
    "    print(' ' * (size-n) + leaf * n)\n",
    "    n += 1\n",
    "\n",
    "print(' '*(size-1) + stem)\n",
    "print(' '*(size-1) + stem)"
   ]
  },
  {
   "cell_type": "code",
   "execution_count": 1,
   "metadata": {},
   "outputs": [
    {
     "name": "stdout",
     "output_type": "stream",
     "text": [
      "출력하기 원하는 단을 입력하세요: 3\n",
      "3  *  1 = 3\n",
      "3  *  2 = 6\n",
      "3  *  3 = 9\n",
      "3  *  4 = 12\n",
      "3  *  5 = 15\n",
      "3  *  6 = 18\n",
      "3  *  7 = 21\n",
      "3  *  8 = 24\n",
      "3  *  9 = 27\n"
     ]
    }
   ],
   "source": [
    "gugudan = int(input('출력하기 원하는 단을 입력하세요: '))\n",
    "n = 1\n",
    "\n",
    "if gugudan < 1 and gugudan > 9:\n",
    "    print(\"입력오류 입니다! \")\n",
    "else :\n",
    "    while n <= 9:\n",
    "        print(gugudan, ' * ', n, '=', (gugudan*n))\n",
    "        n += 1"
   ]
  },
  {
   "cell_type": "code",
   "execution_count": 10,
   "metadata": {},
   "outputs": [
    {
     "name": "stdout",
     "output_type": "stream",
     "text": [
      "출력하기 원하는 단을 입력하세요: 8\n",
      "8  *  1 = 8\n",
      "8  *  2 = 16\n",
      "8  *  3 = 24\n",
      "8  *  4 = 32\n",
      "8  *  5 = 40\n",
      "8  *  6 = 48\n",
      "8  *  7 = 56\n",
      "8  *  8 = 64\n",
      "8  *  9 = 72\n",
      "9  *  1 = 9\n",
      "9  *  2 = 18\n",
      "9  *  3 = 27\n",
      "9  *  4 = 36\n",
      "9  *  5 = 45\n",
      "9  *  6 = 54\n",
      "9  *  7 = 63\n",
      "9  *  8 = 72\n",
      "9  *  9 = 81\n"
     ]
    }
   ],
   "source": [
    "gugudan = int(input('출력하기 원하는 단을 입력하세요: '))\n",
    "n = 1\n",
    "\n",
    "if gugudan < 1 and gugudan > 9:\n",
    "    print(\"입력오류 입니다! \")\n",
    "else :\n",
    "    while gugudan <= 9:\n",
    "        n = 1\n",
    "        while n <= 9:\n",
    "            print(gugudan, ' * ', n, '=', (gugudan*n))\n",
    "            n += 1\n",
    "        gugudan += 1"
   ]
  },
  {
   "cell_type": "code",
   "execution_count": 16,
   "metadata": {},
   "outputs": [
    {
     "name": "stdout",
     "output_type": "stream",
     "text": [
      "나무 크기: 7\n",
      "잎 모양: 모\n",
      "줄기 모양: ㅣ\n",
      "      모\n",
      "     모모\n",
      "    모모모\n",
      "   모모모모\n",
      "  모모모모모\n",
      " 모모모모모모\n",
      "모모모모모모모\n",
      "      ㅣ\n",
      "      ㅣ\n",
      "      ㅣ\n",
      "      ㅣ\n"
     ]
    }
   ],
   "source": [
    "size = int(input('나무 크기: '))\n",
    "leaf = input('잎 모양: ')\n",
    "stem = input('줄기 모양: ')\n",
    "\n",
    "n = 1\n",
    "while n <= size:\n",
    "    print(' ' * (size-n) + leaf * n)\n",
    "    n += 1\n",
    "\n",
    "s = int(size / 2)\n",
    "while s >= 0:\n",
    "    print(' '*(size-1) + stem)\n",
    "    s -= 1"
   ]
  },
  {
   "cell_type": "code",
   "execution_count": 20,
   "metadata": {},
   "outputs": [
    {
     "name": "stdout",
     "output_type": "stream",
     "text": [
      "동전을 넣으세요: 1700\n",
      "현재 금액:  1700  원\n",
      "음료를 선택하세요 (콜라: 0, 사이다: 1, 환타: 2)0\n",
      "콜라 가 나왔습니다.\n",
      "\n",
      "현재 금액:  1200  원\n",
      "음료를 선택하세요 (콜라: 0, 사이다: 1, 환타: 2)1\n",
      "사이다 가 나왔습니다.\n",
      "\n",
      "현재 금액:  700  원\n",
      "음료를 선택하세요 (콜라: 0, 사이다: 1, 환타: 2)2\n",
      "환타 가 나왔습니다.\n",
      "\n",
      "거스름돈:  200  원\n"
     ]
    }
   ],
   "source": [
    "money = int(input('동전을 넣으세요: '))\n",
    "c = '콜라'\n",
    "s = '사이다'\n",
    "h = '환타'\n",
    "\n",
    "while money >= 500:\n",
    "    print('현재 금액: ', money, ' 원')\n",
    "    choice = int(input('음료를 선택하세요 (콜라: 0, 사이다: 1, 환타: 2)'))\n",
    "    if choice == 0:\n",
    "        print(c, '가 나왔습니다.')\n",
    "        print()\n",
    "    elif choice == 1:\n",
    "        print(s, '가 나왔습니다.')\n",
    "        print()\n",
    "    else:\n",
    "        print(h, '가 나왔습니다.')\n",
    "        print()\n",
    "    money -= 500\n",
    "print('거스름돈: ', money, ' 원')"
   ]
  },
  {
   "cell_type": "code",
   "execution_count": 27,
   "metadata": {},
   "outputs": [
    {
     "name": "stdout",
     "output_type": "stream",
     "text": [
      "동전을 넣으세요: 1700\n",
      "현재 금액: 1700 원\n",
      "음료를 선택하세요 (콜라: 0, 사이다: 1, 환타: 2, 환불: 3)4\n",
      "잘못 누르셨습니다. \n",
      "\n",
      "현재 금액: 1700 원\n",
      "음료를 선택하세요 (콜라: 0, 사이다: 1, 환타: 2, 환불: 3)3\n",
      "돈이 환불됩니다.\n",
      "거스름돈: 1700 원\n"
     ]
    }
   ],
   "source": [
    "coin = int(input(\"동전을 넣으세요: \"))\n",
    "while coin >= 500:\n",
    "    print(\"현재 금액:\", coin, \"원\")\n",
    "    drink = int(input(\"음료를 선택하세요 (콜라: 0, 사이다: 1, 환타: 2, 환불: 3)\"))\n",
    "    if drink == 0: print(\"콜라가 나왔습니다\")          # 콜라 선택\n",
    "    elif drink == 1: print(\"사이다가 나왔습니다\")      # 사이다 선택\n",
    "    elif drink == 2: print(\"환타가 나왔습니다\")        # 환타 선택\n",
    "    elif drink == 3: \n",
    "        print('돈이 환불됩니다.')\n",
    "        break                             # 환불 선택\n",
    "    else: \n",
    "        print('잘못 누르셨습니다. \\n')\n",
    "        continue                                     # 그 외\n",
    "    print()\n",
    "    coin -= 500\n",
    "print(\"거스름돈:\", coin, \"원\")"
   ]
  },
  {
   "cell_type": "code",
   "execution_count": 28,
   "metadata": {},
   "outputs": [
    {
     "name": "stdout",
     "output_type": "stream",
     "text": [
      "Num: 1\n",
      "1\n"
     ]
    }
   ],
   "source": [
    "n = int(input('Num: '))\n",
    "while n >= 0:\n",
    "    print(n)\n",
    "    if n == 1: break\n",
    "    n -= 1\n",
    "else:\n",
    "    print(n, 'is negative')"
   ]
  },
  {
   "cell_type": "code",
   "execution_count": 33,
   "metadata": {},
   "outputs": [
    {
     "name": "stdout",
     "output_type": "stream",
     "text": [
      "Num: 1\n",
      "1\n",
      "0\n",
      "-1 is negative\n"
     ]
    }
   ],
   "source": [
    "n = int(input('Num: '))\n",
    "while n >= 0:\n",
    "    print(n)\n",
    "    n -= 1\n",
    "print(n, 'is negative')"
   ]
  },
  {
   "cell_type": "code",
   "execution_count": 35,
   "metadata": {},
   "outputs": [
    {
     "name": "stdout",
     "output_type": "stream",
     "text": [
      "Num: 11\n",
      "11 % 3 = 2\n",
      "11 % 5 = 1\n",
      "11 % 7 = 4\n",
      "11 % 9 = 2\n",
      "11 is prime\n"
     ]
    }
   ],
   "source": [
    "n = int(input('Num: '))\n",
    "divisor = 3\n",
    "while divisor < n:\n",
    "    remain = n % divisor\n",
    "    print(n, '%', divisor, '=', remain)\n",
    "    if n % divisor == 0:\n",
    "        print(n, 'is composite number')\n",
    "        break\n",
    "    divisor += 2\n",
    "else: print(n, 'is prime')"
   ]
  },
  {
   "cell_type": "code",
   "execution_count": 49,
   "metadata": {},
   "outputs": [
    {
     "data": {
      "text/plain": [
       "0.5372067252852499"
      ]
     },
     "execution_count": 49,
     "metadata": {},
     "output_type": "execute_result"
    }
   ],
   "source": [
    "random.uniform(0.5, 0.7)"
   ]
  },
  {
   "cell_type": "code",
   "execution_count": 50,
   "metadata": {},
   "outputs": [
    {
     "data": {
      "text/plain": [
       "3"
      ]
     },
     "execution_count": 50,
     "metadata": {},
     "output_type": "execute_result"
    }
   ],
   "source": [
    "random.randint(1,5)"
   ]
  },
  {
   "cell_type": "code",
   "execution_count": 51,
   "metadata": {},
   "outputs": [
    {
     "data": {
      "text/plain": [
       "'b'"
      ]
     },
     "execution_count": 51,
     "metadata": {},
     "output_type": "execute_result"
    }
   ],
   "source": [
    "random.choice('abc')"
   ]
  },
  {
   "cell_type": "code",
   "execution_count": 55,
   "metadata": {},
   "outputs": [
    {
     "data": {
      "text/plain": [
       "['f', 'e', 'g']"
      ]
     },
     "execution_count": 55,
     "metadata": {},
     "output_type": "execute_result"
    }
   ],
   "source": [
    "random.sample('abcdefg', 3)"
   ]
  },
  {
   "cell_type": "code",
   "execution_count": 54,
   "metadata": {},
   "outputs": [
    {
     "ename": "TypeError",
     "evalue": "'str' object does not support item assignment",
     "output_type": "error",
     "traceback": [
      "\u001b[1;31m---------------------------------------------------------------------------\u001b[0m",
      "\u001b[1;31mTypeError\u001b[0m                                 Traceback (most recent call last)",
      "\u001b[1;32m<ipython-input-54-9f1a96e73380>\u001b[0m in \u001b[0;36m<module>\u001b[1;34m\u001b[0m\n\u001b[1;32m----> 1\u001b[1;33m \u001b[0mrandom\u001b[0m\u001b[1;33m.\u001b[0m\u001b[0mshuffle\u001b[0m\u001b[1;33m(\u001b[0m\u001b[1;34m'abc'\u001b[0m\u001b[1;33m)\u001b[0m\u001b[1;33m\u001b[0m\u001b[1;33m\u001b[0m\u001b[0m\n\u001b[0m",
      "\u001b[1;32m~\\Anaconda3\\lib\\random.py\u001b[0m in \u001b[0;36mshuffle\u001b[1;34m(self, x, random)\u001b[0m\n\u001b[0;32m    276\u001b[0m                 \u001b[1;31m# pick an element in x[:i+1] with which to exchange x[i]\u001b[0m\u001b[1;33m\u001b[0m\u001b[1;33m\u001b[0m\u001b[1;33m\u001b[0m\u001b[0m\n\u001b[0;32m    277\u001b[0m                 \u001b[0mj\u001b[0m \u001b[1;33m=\u001b[0m \u001b[0mrandbelow\u001b[0m\u001b[1;33m(\u001b[0m\u001b[0mi\u001b[0m\u001b[1;33m+\u001b[0m\u001b[1;36m1\u001b[0m\u001b[1;33m)\u001b[0m\u001b[1;33m\u001b[0m\u001b[1;33m\u001b[0m\u001b[0m\n\u001b[1;32m--> 278\u001b[1;33m                 \u001b[0mx\u001b[0m\u001b[1;33m[\u001b[0m\u001b[0mi\u001b[0m\u001b[1;33m]\u001b[0m\u001b[1;33m,\u001b[0m \u001b[0mx\u001b[0m\u001b[1;33m[\u001b[0m\u001b[0mj\u001b[0m\u001b[1;33m]\u001b[0m \u001b[1;33m=\u001b[0m \u001b[0mx\u001b[0m\u001b[1;33m[\u001b[0m\u001b[0mj\u001b[0m\u001b[1;33m]\u001b[0m\u001b[1;33m,\u001b[0m \u001b[0mx\u001b[0m\u001b[1;33m[\u001b[0m\u001b[0mi\u001b[0m\u001b[1;33m]\u001b[0m\u001b[1;33m\u001b[0m\u001b[1;33m\u001b[0m\u001b[0m\n\u001b[0m\u001b[0;32m    279\u001b[0m         \u001b[1;32melse\u001b[0m\u001b[1;33m:\u001b[0m\u001b[1;33m\u001b[0m\u001b[1;33m\u001b[0m\u001b[0m\n\u001b[0;32m    280\u001b[0m             \u001b[0m_int\u001b[0m \u001b[1;33m=\u001b[0m \u001b[0mint\u001b[0m\u001b[1;33m\u001b[0m\u001b[1;33m\u001b[0m\u001b[0m\n",
      "\u001b[1;31mTypeError\u001b[0m: 'str' object does not support item assignment"
     ]
    }
   ],
   "source": [
    "random.shuffle('abc')"
   ]
  },
  {
   "cell_type": "code",
   "execution_count": 58,
   "metadata": {},
   "outputs": [
    {
     "name": "stdout",
     "output_type": "stream",
     "text": [
      "나무 내구력:10 -> HiT!! 3\n",
      "나무 내구력:9 -> HiT!! 5\n",
      "나무 내구력:8 -> HiT!! !\n",
      "나무 내구력:7 -> HiT!! !\n",
      "나무 내구력:6 -> HiT!! !\n",
      "나무 내구력:5 -> HiT!! !\n",
      "나무 내구력:4 -> HiT!! !\n",
      "나무 내구력:3 -> HiT!! !\n",
      "나무 내구력:2 -> HiT!! !\n",
      "나무 내구력:1 -> HiT!! !\n",
      "나무가 넘어갔습니다.\n"
     ]
    }
   ],
   "source": [
    "import random\n",
    "maxHit = random.randint(7, 12)   # 내구력: 7~12\n",
    "while maxHit > 0:\n",
    "    input('나무 내구력:' + str(maxHit) + ' -> HiT!! ')\n",
    "    maxHit -= 1\n",
    "print(\"나무가 넘어갔습니다.\")"
   ]
  },
  {
   "cell_type": "code",
   "execution_count": 59,
   "metadata": {},
   "outputs": [
    {
     "name": "stdout",
     "output_type": "stream",
     "text": [
      "나무 내구력:11 -> HiT!! \n",
      "나무 내구력:10 -> HiT!! \n",
      "나무 내구력:9 -> HiT!! \n",
      "나무 내구력:8 -> HiT!! \n",
      "나무 내구력:7 -> HiT!! \n",
      "나무 내구력:6 -> HiT!! \n",
      "나무 내구력:5 -> HiT!! \n",
      "크리티컬!!\n",
      "나무 내구력:2 -> HiT!! \n",
      "나무 내구력:1 -> HiT!! \n",
      "나무가 넘어갔습니다.\n"
     ]
    }
   ],
   "source": [
    "import random\n",
    "maxHit = random.randint(7, 12)    # 내구력: 7~12\n",
    "while maxHit > 0:\n",
    "    input(\"나무 내구력:\" + str(maxHit) + \" -> HiT!! \")\n",
    "    if random.randint(1, 10) == 1:     # 10% 확률\n",
    "        print(\"크리티컬!!\")\n",
    "        maxHit -= 3\n",
    "    else:\n",
    "        maxHit -= 1\n",
    "print(\"나무가 넘어갔습니다.\")"
   ]
  },
  {
   "cell_type": "code",
   "execution_count": 46,
   "metadata": {},
   "outputs": [
    {
     "name": "stdout",
     "output_type": "stream",
     "text": [
      "추측하는 숫자를 입력하세요. 30\n",
      "high\n",
      "추측하는 숫자를 입력하세요. 40\n",
      "low\n",
      "추측하는 숫자를 입력하세요. 35\n",
      "high\n",
      "추측하는 숫자를 입력하세요. 38\n",
      "low\n",
      "추측하는 숫자를 입력하세요. 36\n",
      "숫자를 맞췄습니다.\n"
     ]
    }
   ],
   "source": [
    "import random\n",
    "secret = random.randint(1, 50)\n",
    "\n",
    "chance = 5\n",
    "while chance:\n",
    "    print(chance)\n",
    "    guess = int(input('추측하는 숫자를 입력하세요. '))\n",
    "    if secret > guess : print('high')\n",
    "    elif secret < guess : print('low')\n",
    "    else : \n",
    "        print('숫자를 맞췄습니다.')\n",
    "        break\n",
    "    chance -= 1\n",
    "else:\n",
    "    print('secret 는 ', secret, '였습니다.')"
   ]
  },
  {
   "cell_type": "code",
   "execution_count": 48,
   "metadata": {},
   "outputs": [
    {
     "name": "stdout",
     "output_type": "stream",
     "text": [
      "병 뚜껑에 적힌 숫자를 맞춰보세요: 30\n",
      "숫자를 맞췄습니다.\n"
     ]
    }
   ],
   "source": [
    "import random\n",
    "secret = random.randint(1, 50)\n",
    "n = 1\n",
    "\n",
    "while n <= 5:\n",
    "    guess = int(input('병 뚜껑에 적힌 숫자를 맞춰보세요: '))\n",
    "    if secret > guess : print('high')\n",
    "    elif secret > guess : print('low')\n",
    "    else : \n",
    "        print('숫자를 맞췄습니다.')\n",
    "        break\n",
    "    n += 1\n",
    "else : \n",
    "    print('병 뚜껑 안에 적힌 숫자: ', secret)"
   ]
  },
  {
   "cell_type": "code",
   "execution_count": 93,
   "metadata": {},
   "outputs": [
    {
     "name": "stdout",
     "output_type": "stream",
     "text": [
      "동전을 넣으세요: 3000\n",
      "꽝!(-1000)\n",
      "2000\n",
      "끝내시겠습니까? no\n",
      "꽝!(-1000)\n",
      "1000\n",
      "끝내시겠습니까? no\n",
      "꽝!(-1000)\n",
      "0\n",
      "끝내시겠습니까? n\n",
      "출력 금액 0\n"
     ]
    }
   ],
   "source": [
    "import random\n",
    "coinlot = int(input('동전을 넣으세요: '))\n",
    "\n",
    "while coinlot >= 1000:    \n",
    "    if random.randint(1, 10) == 1:\n",
    "        coinlot += 5000\n",
    "        print('당첨!(+5000)')\n",
    "        print(coinlot)\n",
    "        fin = str(input('끝내시겠습니까? '))\n",
    "        if fin == 'y':\n",
    "            break\n",
    "    else :\n",
    "        coinlot -= 1000\n",
    "        print('꽝!(-1000)')\n",
    "        print(coinlot)\n",
    "        fin = str(input('끝내시겠습니까? '))\n",
    "        if fin == 'y':\n",
    "            break\n",
    "print('출력 금액', coinlot)"
   ]
  },
  {
   "cell_type": "code",
   "execution_count": 95,
   "metadata": {},
   "outputs": [
    {
     "name": "stdout",
     "output_type": "stream",
     "text": [
      "동전을 넣으세요: 3000\n",
      "꽝\n",
      "그만하시겠습니까? n\n",
      "꽝\n",
      "그만하시겠습니까? n\n",
      "꽝\n",
      "그만하시겠습니까? n\n",
      "꽝\n",
      "그만하시겠습니까? n\n",
      "꽝\n",
      "그만하시겠습니까? y\n",
      "-2000\n"
     ]
    }
   ],
   "source": [
    "import random\n",
    "coin = int(input('동전을 넣으세요: '))\n",
    "\n",
    "while True:\n",
    "    if random.randint(1, 10) == 1: print('당첨'); coin += 5000\n",
    "    else:                          print('꽝'); coin -= 1000\n",
    "    if input('그만하시겠습니까? ').lower() == 'y' : break\n",
    "\n",
    "print(coin)"
   ]
  },
  {
   "cell_type": "code",
   "execution_count": null,
   "metadata": {},
   "outputs": [],
   "source": []
  },
  {
   "cell_type": "code",
   "execution_count": null,
   "metadata": {},
   "outputs": [],
   "source": []
  },
  {
   "cell_type": "code",
   "execution_count": null,
   "metadata": {},
   "outputs": [],
   "source": []
  }
 ],
 "metadata": {
  "kernelspec": {
   "display_name": "Python 3",
   "language": "python",
   "name": "python3"
  }
 },
 "nbformat": 4,
 "nbformat_minor": 2
}
