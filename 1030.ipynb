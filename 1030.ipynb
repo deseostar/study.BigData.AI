{
 "cells": [
  {
   "cell_type": "markdown",
   "metadata": {},
   "source": [
    "CNN 예제"
   ]
  },
  {
   "cell_type": "code",
   "execution_count": 2,
   "metadata": {},
   "outputs": [],
   "source": [
    "import matplotlib.pyplot as plt\n",
    "import tensorflow as tf\n",
    "import numpy as np\n",
    "import pandas as pd"
   ]
  },
  {
   "cell_type": "code",
   "execution_count": 3,
   "metadata": {},
   "outputs": [],
   "source": [
    "trainlist, testlist = [], []\n",
    "#학습 데이터 로드를 위한 정의\n",
    "#각 파일에는 학습데이터의 경로와 LABEL이 들어있음\n",
    "with open('train.txt') as f:\n",
    "    for line in f:\n",
    "        tmp = line.strip().split()\n",
    "        #rainlist.append([tmp[0].replace(\"\\\\\",\"/\"), tmp[1]]) 리눅스버전\n",
    "        trainlist.append([tmp[0], tmp[1]])\n",
    "        \n",
    "with open('test.txt') as f:\n",
    "    for line in f:\n",
    "        tmp = line.strip().split()\n",
    "        #testlist.append([tmp[0].replace(\"\\\\\",\"/\"), tmp[1]])\n",
    "        testlist.append([tmp[0], tmp[1]])"
   ]
  },
  {
   "cell_type": "code",
   "execution_count": 4,
   "metadata": {},
   "outputs": [],
   "source": [
    "#이미지 해상도 지정\n",
    "IMG_H = 100\n",
    "IMG_W = 100\n",
    "IMG_C = 3\n",
    "#각 파일을 읽어 오기 위한 함수\n",
    "def readimg(path):\n",
    "    img = plt.imread(path)\n",
    "    return img\n",
    "#전체 이미지를 불러오기 위한 함수\n",
    "def batch(path, batch_size):\n",
    "    img, label, paths = [], [], []\n",
    "    for i in range(batch_size):\n",
    "        img.append(readimg(path[0][0]))\n",
    "        label.append(int(path[0][1]))\n",
    "        path.append(path.pop(0))\n",
    "        \n",
    "    return img, label"
   ]
  },
  {
   "cell_type": "code",
   "execution_count": 6,
   "metadata": {},
   "outputs": [],
   "source": [
    "#분류해야 하는 클래스수\n",
    "num_class = 3 \n",
    "\n",
    "#그래프를 활용한 모델 구성\n",
    "with tf.Graph().as_default() as g:\n",
    "    X = tf.placeholder(tf.float32, [None, IMG_H, IMG_W, IMG_C])\n",
    "    Y = tf.placeholder(tf.int32, [None])\n",
    "    keep_prob = tf.placeholder(tf.float32)\n",
    "    \n",
    "    with tf.variable_scope('CNN'):\n",
    "        L1 = tf.layers.conv2d(X, 20, 3, (2, 2), padding='same', activation=tf.nn.relu)\n",
    "        L1 = tf.layers.max_pooling2d(L1, 2, 2)\n",
    "        L2 = tf.layers.conv2d(L1, 40, 3, (2, 2), padding='same', activation=tf.nn.relu)\n",
    "        L2 = tf.layers.flatten(L2)\n",
    "     \n",
    "        out = tf.layers.dense(L2, num_class)\n",
    "        \n",
    "    with tf.variable_scope('Loss'):\n",
    "        loss = tf.reduce_mean(tf.nn.sparse_softmax_cross_entropy_with_logits(labels= Y, logits=out))\n",
    "        \n",
    "    train = tf.train.AdamOptimizer(1e-3).minimize(loss)\n",
    "    saver = tf.train.Saver()"
   ]
  },
  {
   "cell_type": "code",
   "execution_count": 7,
   "metadata": {},
   "outputs": [
    {
     "name": "stdout",
     "output_type": "stream",
     "text": [
      "Epoch :  1 Avg. cost = 0.025\n",
      "Epoch :  2 Avg. cost = 0.111\n",
      "Epoch :  3 Avg. cost = 0.234\n",
      "Epoch :  4 Avg. cost = 0.299\n",
      "Epoch :  5 Avg. cost = 0.306\n",
      "Epoch :  6 Avg. cost = 0.316\n",
      "Epoch :  7 Avg. cost = 0.336\n",
      "Epoch :  8 Avg. cost = 0.356\n",
      "Epoch :  9 Avg. cost = 0.375\n",
      "Epoch :  10 Avg. cost = 0.390\n",
      "Epoch :  11 Avg. cost = 0.398\n",
      "Epoch :  12 Avg. cost = 0.400\n",
      "Epoch :  13 Avg. cost = 0.404\n",
      "Epoch :  14 Avg. cost = 0.408\n",
      "Epoch :  15 Avg. cost = 0.410\n",
      "Epoch :  16 Avg. cost = 0.410\n",
      "Epoch :  17 Avg. cost = 0.410\n",
      "Epoch :  18 Avg. cost = 0.411\n",
      "Epoch :  19 Avg. cost = 0.412\n",
      "Epoch :  20 Avg. cost = 0.413\n",
      "Epoch :  21 Avg. cost = 0.413\n",
      "Epoch :  22 Avg. cost = 0.413\n",
      "Epoch :  23 Avg. cost = 0.413\n",
      "Epoch :  24 Avg. cost = 0.414\n",
      "Epoch :  25 Avg. cost = 0.414\n",
      "Epoch :  26 Avg. cost = 0.414\n",
      "Epoch :  27 Avg. cost = 0.414\n",
      "Epoch :  28 Avg. cost = 0.414\n",
      "Epoch :  29 Avg. cost = 0.414\n",
      "Epoch :  30 Avg. cost = 0.414\n",
      "최적화 완료!\n"
     ]
    }
   ],
   "source": [
    "batch_size = 1461\n",
    "total_cost = 0\n",
    "with tf.Session(graph=g) as sess:\n",
    "    sess.run(tf.global_variables_initializer())\n",
    "    for i in range(30):\n",
    "        batch_data, batch_label = batch(trainlist, batch_size)\n",
    "        _, cost_val = sess.run([train, loss], feed_dict = {X: batch_data, Y: batch_label,keep_prob: 0.8})\n",
    "        total_cost += cost_val\n",
    "        print('Epoch : ',i+1, 'Avg. cost =', '{:.3f}'.format(total_cost / batch_size))\n",
    "        \n",
    "    saver.save(sess, 'logs/model.ckpt', global_step = i+1)\n",
    "    \n",
    "print('최적화 완료!')"
   ]
  },
  {
   "cell_type": "code",
   "execution_count": 9,
   "metadata": {},
   "outputs": [
    {
     "name": "stdout",
     "output_type": "stream",
     "text": [
      "INFO:tensorflow:Restoring parameters from logs\\model.ckpt-30\n",
      "[ 38.420643 -57.33401   41.42887 ] 0\n",
      "[ 35.56878 -66.0061   45.23953] 0\n",
      "[ 36.61056 -66.35453  45.47446] 0\n",
      "[ 37.559883 -67.9472    45.140163] 0\n",
      "[ 36.61303 -67.61944  44.42542] 0\n",
      "[ 35.24984  -66.38593   46.838074] 0\n",
      "[ 32.939423 -66.534485  46.348934] 0\n",
      "[ 36.763714 -62.247227  38.99051 ] 0\n",
      "[ 35.799706 -63.241833  40.468536] 0\n",
      "[ 36.103546 -64.90862   40.44495 ] 0\n",
      "[ 35.98736 -65.06871  42.63256] 0\n",
      "[ 33.847286 -64.813156  45.255543] 0\n",
      "[ 31.295128 -64.10521   45.99771 ] 0\n",
      "[ 31.872847 -63.8883    45.311104] 0\n",
      "[ 30.542593 -62.918396  45.65383 ] 0\n",
      "[ 29.874802 -64.10076   45.50418 ] 0\n",
      "[ 28.566805 -59.07056   44.643177] 0\n",
      "[ 27.082245 -59.20379   46.062546] 0\n",
      "[ 28.900448 -58.201633  43.63957 ] 0\n",
      "[ 28.66646  -58.02627   46.049866] 0\n",
      "[ 27.435928 -57.32667   45.08872 ] 0\n",
      "[ 29.25932  -56.87889   45.622513] 0\n",
      "[ 28.723404 -57.658314  45.59806 ] 0\n",
      "[ 28.667734 -53.289818  39.350994] 0\n",
      "[ 28.875385 -53.951077  46.818943] 0\n",
      "[ 26.808098 -53.07273   46.448036] 0\n",
      "[ 25.76578  -51.909203  45.460106] 0\n",
      "[ 23.491774 -50.65977   46.745785] 0\n",
      "[ 28.635057 -51.22686   39.91033 ] 0\n",
      "[ 25.807482 -49.301594  42.41438 ] 0\n",
      "[ 25.947603 -49.227036  43.69199 ] 0\n",
      "[ 25.814074 -47.36091   44.469673] 0\n",
      "[ 23.100185 -43.593517  44.85672 ] 0\n",
      "[ 23.807085 -42.81921   46.186966] 0\n",
      "[ 25.681868 -42.226376  44.36476 ] 0\n",
      "[ 23.961245 -40.035183  42.436943] 0\n",
      "[ 18.015099 -43.896797  45.485462] 0\n",
      "[ 18.921377 -44.457558  44.62076 ] 0\n",
      "[ 21.30858  -44.273636  41.789333] 0\n",
      "[ 20.589045 -45.75692   40.591076] 0\n",
      "[ 19.401342 -44.25088   41.75256 ] 0\n",
      "[ 21.92289  -46.556843  41.720833] 0\n",
      "[ 24.093014 -45.538456  41.957783] 0\n",
      "[ 26.314934 -44.834282  41.46308 ] 0\n",
      "[ 27.517012 -44.92662   37.49805 ] 0\n",
      "[ 27.534142 -46.08185   38.353184] 0\n",
      "[ 26.834938 -44.880894  36.20682 ] 0\n",
      "[ 27.560621 -46.3198    34.387085] 0\n",
      "[ 32.348644 -45.423717  32.87054 ] 0\n",
      "[ 28.567516 -45.183014  35.91912 ] 0\n",
      "[ 32.40367  -46.070267  35.33685 ] 0\n",
      "[ 32.85475  -45.175858  35.608925] 0\n",
      "[ 33.127045 -47.571827  36.280243] 0\n",
      "[ 32.938805 -48.367683  37.160145] 0\n",
      "[ 32.820488 -48.29445   35.765495] 0\n",
      "[ 32.561653 -49.63698   35.381924] 0\n",
      "[ 33.19078  -50.270714  34.65776 ] 0\n",
      "[ 33.781876 -48.28756   34.839966] 0\n",
      "[ 34.173374 -50.562717  34.230694] 0\n",
      "[ 33.017887 -49.776466  34.896366] 0\n",
      "[ 33.906555 -48.493195  34.67638 ] 0\n",
      "[ 32.989716 -50.823166  34.87363 ] 0\n",
      "[ 30.970493 -52.729496  36.6428  ] 0\n",
      "[ 31.347914 -52.55154   36.41597 ] 0\n",
      "[ 29.65406  -49.854504  35.119198] 0\n",
      "[ 30.86033  -50.367992  35.195087] 0\n",
      "[ 32.31799 -49.51353  35.79438] 0\n",
      "[ 34.06284  -49.397465  36.487907] 0\n",
      "정확도: 0.8612244897959184\n"
     ]
    }
   ],
   "source": [
    "acc = 0\n",
    "with tf.Session(graph=g) as sess:\n",
    "    sess.run(tf.global_variables_initializer())\n",
    "    checkpoint = tf.train.latest_checkpoint('logs')\n",
    "    if checkpoint:\n",
    "        saver.restore(sess, checkpoint)\n",
    "    for i in range(len(testlist)):\n",
    "        batch_data, batch_label = batch(testlist, 1)\n",
    "        logit = sess.run(out, feed_dict = {X:batch_data,keep_prob: 1})\n",
    "        if np.argmax(logit[0]) == batch_label[0]:\n",
    "            acc += 1\n",
    "        else:\n",
    "            print(logit[0], batch_label[0])\n",
    "            \n",
    "    print('정확도:',acc/len(testlist))"
   ]
  },
  {
   "cell_type": "markdown",
   "metadata": {},
   "source": [
    "RNN 으로 이미지 분류"
   ]
  },
  {
   "cell_type": "code",
   "execution_count": 10,
   "metadata": {},
   "outputs": [
    {
     "name": "stdout",
     "output_type": "stream",
     "text": [
      "Extracting ./mnist/data/train-images-idx3-ubyte.gz\n",
      "Extracting ./mnist/data/train-labels-idx1-ubyte.gz\n",
      "Extracting ./mnist/data/t10k-images-idx3-ubyte.gz\n",
      "Extracting ./mnist/data/t10k-labels-idx1-ubyte.gz\n"
     ]
    }
   ],
   "source": [
    "# 머신러닝 학습의 Hello World 와 같은 MNIST(손글씨 숫자 인식) 문제를 신경망으로 풀어봅니다.\n",
    "import tensorflow as tf\n",
    "\n",
    "from tensorflow.examples.tutorials.mnist import input_data\n",
    "mnist = input_data.read_data_sets(\"./mnist/data/\", one_hot=True)\n",
    "\n",
    "#########\n",
    "# 옵션 설정\n",
    "######\n",
    "learning_rate = 0.001\n",
    "total_epoch = 30\n",
    "batch_size = 128\n",
    "\n",
    "# RNN 은 순서가 있는 자료를 다루므로,\n",
    "# 한 번에 입력받는 갯수와, 총 몇 단계로 이루어져있는 데이터를 받을지를 설정해야합니다.\n",
    "# 이를 위해 가로 픽셀수를 n_input 으로, 세로 픽셀수를 입력 단계인 n_step 으로 설정하였습니다.\n",
    "n_input = 28\n",
    "n_step = 28\n",
    "n_hidden = 128\n",
    "n_class = 10"
   ]
  },
  {
   "cell_type": "code",
   "execution_count": 11,
   "metadata": {},
   "outputs": [],
   "source": [
    "#########\n",
    "# 신경망 모델 구성\n",
    "######\n",
    "X = tf.placeholder(tf.float32, [None, n_step, n_input])\n",
    "Y = tf.placeholder(tf.float32, [None, n_class])\n",
    "\n",
    "W = tf.Variable(tf.random_normal([n_hidden, n_class]))\n",
    "b = tf.Variable(tf.random_normal([n_class]))"
   ]
  },
  {
   "cell_type": "code",
   "execution_count": 12,
   "metadata": {},
   "outputs": [
    {
     "name": "stdout",
     "output_type": "stream",
     "text": [
      "WARNING:tensorflow:From <ipython-input-12-e282f8dae048>:3: BasicRNNCell.__init__ (from tensorflow.python.ops.rnn_cell_impl) is deprecated and will be removed in a future version.\n",
      "Instructions for updating:\n",
      "This class is equivalent as tf.keras.layers.SimpleRNNCell, and will be replaced by that in Tensorflow 2.0.\n",
      "WARNING:tensorflow:From <ipython-input-12-e282f8dae048>:13: dynamic_rnn (from tensorflow.python.ops.rnn) is deprecated and will be removed in a future version.\n",
      "Instructions for updating:\n",
      "Please use `keras.layers.RNN(cell)`, which is equivalent to this API\n"
     ]
    }
   ],
   "source": [
    "# RNN 에 학습에 사용할 셀을 생성합니다\n",
    "# BasicRNNCell,BasicLSTMCell,GRUCell\n",
    "cell = tf.nn.rnn_cell.BasicRNNCell(n_hidden)\n",
    "\n",
    "# RNN 신경망을 생성합니다\n",
    "# 원래는 다음과 같은 과정을 거쳐야 하지만\n",
    "# states = tf.zeros(batch_size)\n",
    "# for i in range(n_step):\n",
    "#     outputs, states = cell(X[[:, i]], states)\n",
    "# ...\n",
    "# 다음처럼 tf.nn.dynamic_rnn 함수를 사용하면\n",
    "# CNN 의 tf.nn.conv2d 함수처럼 간단하게 RNN 신경망을 만들어줍니다.\n",
    "outputs, states = tf.nn.dynamic_rnn(cell, X, dtype=tf.float32)"
   ]
  },
  {
   "cell_type": "code",
   "execution_count": 13,
   "metadata": {},
   "outputs": [],
   "source": [
    "# 결과를 Y의 다음 형식과 바꿔야 하기 때문에\n",
    "# Y : [batch_size, n_class]\n",
    "# outputs 의 형태를 이에 맞춰 변경해야합니다.\n",
    "# outputs : [batch_size, n_step, n_hidden]\n",
    "#        -> [n_step, batch_size, n_hidden]\n",
    "#        -> [batch_size, n_hidden]\n",
    "outputs = tf.transpose(outputs, [1, 0, 2])\n",
    "outputs = outputs[-1]\n",
    "model = tf.matmul(outputs, W) + b\n",
    "\n",
    "cost = tf.reduce_mean(tf.nn.softmax_cross_entropy_with_logits_v2(logits=model, labels=Y))\n",
    "optimizer = tf.train.AdamOptimizer(learning_rate).minimize(cost)"
   ]
  },
  {
   "cell_type": "code",
   "execution_count": 14,
   "metadata": {},
   "outputs": [
    {
     "name": "stdout",
     "output_type": "stream",
     "text": [
      "Epoch: 0001 Avg. cost = 0.531\n",
      "Epoch: 0002 Avg. cost = 0.236\n",
      "Epoch: 0003 Avg. cost = 0.177\n",
      "Epoch: 0004 Avg. cost = 0.144\n",
      "Epoch: 0005 Avg. cost = 0.134\n",
      "Epoch: 0006 Avg. cost = 0.121\n",
      "Epoch: 0007 Avg. cost = 0.113\n",
      "Epoch: 0008 Avg. cost = 0.109\n",
      "Epoch: 0009 Avg. cost = 0.100\n",
      "Epoch: 0010 Avg. cost = 0.094\n",
      "Epoch: 0011 Avg. cost = 0.095\n",
      "Epoch: 0012 Avg. cost = 0.089\n",
      "Epoch: 0013 Avg. cost = 0.086\n",
      "Epoch: 0014 Avg. cost = 0.090\n",
      "Epoch: 0015 Avg. cost = 0.081\n",
      "Epoch: 0016 Avg. cost = 0.080\n",
      "Epoch: 0017 Avg. cost = 0.077\n",
      "Epoch: 0018 Avg. cost = 0.075\n",
      "Epoch: 0019 Avg. cost = 0.075\n",
      "Epoch: 0020 Avg. cost = 0.070\n",
      "Epoch: 0021 Avg. cost = 0.069\n",
      "Epoch: 0022 Avg. cost = 0.067\n",
      "Epoch: 0023 Avg. cost = 0.076\n",
      "Epoch: 0024 Avg. cost = 0.063\n",
      "Epoch: 0025 Avg. cost = 0.062\n",
      "Epoch: 0026 Avg. cost = 0.068\n",
      "Epoch: 0027 Avg. cost = 0.068\n",
      "Epoch: 0028 Avg. cost = 0.060\n",
      "Epoch: 0029 Avg. cost = 0.060\n",
      "Epoch: 0030 Avg. cost = 0.065\n",
      "최적화 완료!\n"
     ]
    }
   ],
   "source": [
    "#########\n",
    "# 신경망 모델 학습\n",
    "######\n",
    "sess = tf.Session()\n",
    "sess.run(tf.global_variables_initializer())\n",
    "\n",
    "total_batch = int(mnist.train.num_examples/batch_size)\n",
    "\n",
    "for epoch in range(total_epoch):\n",
    "    total_cost = 0\n",
    "\n",
    "    for i in range(total_batch):\n",
    "        batch_xs, batch_ys = mnist.train.next_batch(batch_size)\n",
    "        # X 데이터를 RNN 입력 데이터에 맞게 [batch_size, n_step, n_input] 형태로 변환합니다.\n",
    "        batch_xs = batch_xs.reshape((batch_size, n_step, n_input))\n",
    "\n",
    "        _, cost_val = sess.run([optimizer, cost],\n",
    "                               feed_dict={X: batch_xs, Y: batch_ys})\n",
    "        total_cost += cost_val\n",
    "\n",
    "    print('Epoch:', '%04d' % (epoch + 1),\n",
    "          'Avg. cost =', '{:.3f}'.format(total_cost / total_batch))\n",
    "\n",
    "print('최적화 완료!')"
   ]
  },
  {
   "cell_type": "code",
   "execution_count": 15,
   "metadata": {},
   "outputs": [
    {
     "name": "stdout",
     "output_type": "stream",
     "text": [
      "정확도: 0.9724\n"
     ]
    }
   ],
   "source": [
    "#########\n",
    "# 결과 확인\n",
    "######\n",
    "is_correct = tf.equal(tf.argmax(model, 1), tf.argmax(Y, 1))\n",
    "accuracy = tf.reduce_mean(tf.cast(is_correct, tf.float32))\n",
    "\n",
    "test_batch_size = len(mnist.test.images)\n",
    "test_xs = mnist.test.images.reshape(test_batch_size, n_step, n_input)\n",
    "test_ys = mnist.test.labels\n",
    "\n",
    "print('정확도:', sess.run(accuracy,\n",
    "                       feed_dict={X: test_xs, Y: test_ys}))"
   ]
  },
  {
   "cell_type": "markdown",
   "metadata": {},
   "source": [
    "자연어 처리"
   ]
  },
  {
   "cell_type": "code",
   "execution_count": 16,
   "metadata": {},
   "outputs": [],
   "source": [
    "# 자연어 처리나 음성 처리 분야에 많이 사용되는 RNN 의 기본적인 사용법을 익힙니다.\n",
    "# 4개의 글자를 가진 단어를 학습시켜, 3글자만 주어지면 나머지 한 글자를 추천하여 단어를 완성하는 프로그램입니다.\n",
    "import tensorflow as tf\n",
    "import numpy as np\n",
    "\n",
    "\n",
    "char_arr = ['a', 'b', 'c', 'd', 'e', 'f', 'g',\n",
    "            'h', 'i', 'j', 'k', 'l', 'm', 'n',\n",
    "            'o', 'p', 'q', 'r', 's', 't', 'u',\n",
    "            'v', 'w', 'x', 'y', 'z']\n",
    "\n",
    "# one-hot 인코딩 사용 및 디코딩을 하기 위해 연관 배열을 만듭니다.\n",
    "# {'a': 0, 'b': 1, 'c': 2, ..., 'j': 9, 'k', 10, ...}\n",
    "num_dic = {n: i for i, n in enumerate(char_arr)}\n",
    "dic_len = len(num_dic)\n",
    "# 다음 배열은 입력값과 출력값으로 다음처럼 사용할 것 입니다.\n",
    "# wor -> X, d -> Y\n",
    "# woo -> X, d -> Y\n",
    "seq_data = ['word', 'wood', 'deep', 'dive', 'cold', 'cool', 'load', 'love', 'kiss', 'kind']"
   ]
  },
  {
   "cell_type": "code",
   "execution_count": 17,
   "metadata": {},
   "outputs": [],
   "source": [
    "def make_batch(seq_data):\n",
    "    input_batch = []\n",
    "    target_batch = []\n",
    "\n",
    "    for seq in seq_data:\n",
    "        # 여기서 생성하는 input_batch 와 target_batch 는\n",
    "        # 알파벳 배열의 인덱스 번호 입니다.\n",
    "        # [22, 14, 17] [22, 14, 14] [3, 4, 4] [3, 8, 21] ...\n",
    "        input = [num_dic[n] for n in seq[:-1]]\n",
    "        # 3, 3, 15, 4, 3 ...\n",
    "        target = num_dic[seq[-1]]\n",
    "        # one-hot 인코딩을 합니다.\n",
    "        # if input is [0, 1, 2]:\n",
    "        # [[ 1.  0.  0.  0.  0.  0.  0.  0.  0.  0.]\n",
    "        #  [ 0.  1.  0.  0.  0.  0.  0.  0.  0.  0.]\n",
    "        #  [ 0.  0.  1.  0.  0.  0.  0.  0.  0.  0.]]\n",
    "        input_batch.append(np.eye(dic_len)[input])\n",
    "        # 지금까지 손실함수로 사용하던 softmax_cross_entropy_with_logits 함수는\n",
    "        # label 값을 one-hot 인코딩으로 넘겨줘야 하지만,\n",
    "        # 이 예제에서 사용할 손실 함수인 sparse_softmax_cross_entropy_with_logits 는\n",
    "        # one-hot 인코딩을 사용하지 않으므로 index 를 그냥 넘겨주면 됩니다.\n",
    "        target_batch.append(target)\n",
    "\n",
    "    return input_batch, target_batch"
   ]
  },
  {
   "cell_type": "code",
   "execution_count": 18,
   "metadata": {},
   "outputs": [],
   "source": [
    "#########\n",
    "# 옵션 설정\n",
    "######\n",
    "learning_rate = 0.01\n",
    "n_hidden = 128\n",
    "total_epoch = 30\n",
    "# 타입 스텝: [1 2 3] => 3\n",
    "# RNN 을 구성하는 시퀀스의 갯수입니다.\n",
    "n_step = 3\n",
    "# 입력값 크기. 알파벳에 대한 one-hot 인코딩이므로 26개가 됩니다.\n",
    "# 예) c => [0 0 1 0 0 0 0 0 0 0 0 ... 0]\n",
    "# 출력값도 입력값과 마찬가지로 26개의 알파벳으로 분류합니다.\n",
    "n_input = n_class = dic_len"
   ]
  },
  {
   "cell_type": "markdown",
   "metadata": {},
   "source": [
    "신경망 모델 구성"
   ]
  },
  {
   "cell_type": "code",
   "execution_count": 19,
   "metadata": {},
   "outputs": [],
   "source": [
    "X = tf.placeholder(tf.float32, [None, n_step, n_input])\n",
    "# 비용함수에 sparse_softmax_cross_entropy_with_logits 을 사용하므로\n",
    "# 출력값과의 계산을 위한 원본값의 형태는 one-hot vector가 아니라 인덱스 숫자를 그대로 사용하기 때문에\n",
    "# 다음처럼 하나의 값만 있는 1차원 배열을 입력값으로 받습니다.\n",
    "# [3] [3] [15] [4] ...\n",
    "# 기존처럼 one-hot 인코딩을 사용한다면 입력값의 형태는 [None, n_class] 여야합니다.\n",
    "Y = tf.placeholder(tf.int32, [None])\n",
    "\n",
    "W = tf.Variable(tf.random_normal([n_hidden, n_class]))\n",
    "b = tf.Variable(tf.random_normal([n_class]))"
   ]
  },
  {
   "cell_type": "code",
   "execution_count": 20,
   "metadata": {},
   "outputs": [
    {
     "name": "stdout",
     "output_type": "stream",
     "text": [
      "WARNING:tensorflow:From <ipython-input-20-96398a13fe2f>:2: BasicLSTMCell.__init__ (from tensorflow.python.ops.rnn_cell_impl) is deprecated and will be removed in a future version.\n",
      "Instructions for updating:\n",
      "This class is equivalent as tf.keras.layers.LSTMCell, and will be replaced by that in Tensorflow 2.0.\n",
      "WARNING:tensorflow:From <ipython-input-20-96398a13fe2f>:9: MultiRNNCell.__init__ (from tensorflow.python.ops.rnn_cell_impl) is deprecated and will be removed in a future version.\n",
      "Instructions for updating:\n",
      "This class is equivalent as tf.keras.layers.StackedRNNCells, and will be replaced by that in Tensorflow 2.0.\n",
      "WARNING:tensorflow:From C:\\Users\\deseo\\Anaconda3\\lib\\site-packages\\tensorflow\\python\\ops\\rnn_cell_impl.py:1259: calling dropout (from tensorflow.python.ops.nn_ops) with keep_prob is deprecated and will be removed in a future version.\n",
      "Instructions for updating:\n",
      "Please use `rate` instead of `keep_prob`. Rate should be set to `rate = 1 - keep_prob`.\n"
     ]
    }
   ],
   "source": [
    "# RNN 셀을 생성합니다.\n",
    "cell1 = tf.nn.rnn_cell.BasicLSTMCell(n_hidden)\n",
    "# 과적합 방지를 위한 Dropout 기법을 사용합니다.\n",
    "cell1 = tf.nn.rnn_cell.DropoutWrapper(cell1, output_keep_prob=0.5)\n",
    "# 여러개의 셀을 조합해서 사용하기 위해 셀을 추가로 생성합니다.\n",
    "cell2 = tf.nn.rnn_cell.BasicLSTMCell(n_hidden)\n",
    "\n",
    "# 여러개의 셀을 조합한 RNN 셀을 생성합니다.\n",
    "multi_cell = tf.nn.rnn_cell.MultiRNNCell([cell1, cell2])\n",
    "\n",
    "# tf.nn.dynamic_rnn 함수를 이용해 순환 신경망을 만듭니다.\n",
    "# time_major=True\n",
    "outputs, states = tf.nn.dynamic_rnn(multi_cell, X, dtype=tf.float32)"
   ]
  },
  {
   "cell_type": "code",
   "execution_count": 21,
   "metadata": {},
   "outputs": [],
   "source": [
    "# 최종 결과는 one-hot 인코딩 형식으로 만듭니다\n",
    "outputs = tf.transpose(outputs, [1, 0, 2])\n",
    "outputs = outputs[-1]\n",
    "model = tf.matmul(outputs, W) + b\n",
    "\n",
    "cost = tf.reduce_mean(\n",
    "            tf.nn.sparse_softmax_cross_entropy_with_logits(\n",
    "                logits=model, labels=Y))\n",
    "\n",
    "optimizer = tf.train.AdamOptimizer(learning_rate).minimize(cost)"
   ]
  },
  {
   "cell_type": "code",
   "execution_count": 22,
   "metadata": {},
   "outputs": [
    {
     "name": "stdout",
     "output_type": "stream",
     "text": [
      "Epoch: 0001 cost = 4.352989\n",
      "Epoch: 0002 cost = 3.397109\n",
      "Epoch: 0003 cost = 1.989659\n",
      "Epoch: 0004 cost = 1.243571\n",
      "Epoch: 0005 cost = 0.815087\n",
      "Epoch: 0006 cost = 0.509394\n",
      "Epoch: 0007 cost = 0.491872\n",
      "Epoch: 0008 cost = 0.377882\n",
      "Epoch: 0009 cost = 0.284965\n",
      "Epoch: 0010 cost = 0.298327\n",
      "Epoch: 0011 cost = 0.337557\n",
      "Epoch: 0012 cost = 0.234524\n",
      "Epoch: 0013 cost = 0.336819\n",
      "Epoch: 0014 cost = 0.463205\n",
      "Epoch: 0015 cost = 0.103225\n",
      "Epoch: 0016 cost = 0.224904\n",
      "Epoch: 0017 cost = 0.324641\n",
      "Epoch: 0018 cost = 0.080399\n",
      "Epoch: 0019 cost = 0.122818\n",
      "Epoch: 0020 cost = 0.053106\n",
      "Epoch: 0021 cost = 0.151145\n",
      "Epoch: 0022 cost = 0.219619\n",
      "Epoch: 0023 cost = 0.049309\n",
      "Epoch: 0024 cost = 0.102859\n",
      "Epoch: 0025 cost = 0.022402\n",
      "Epoch: 0026 cost = 0.016609\n",
      "Epoch: 0027 cost = 0.034770\n",
      "Epoch: 0028 cost = 0.022338\n",
      "Epoch: 0029 cost = 0.019497\n",
      "Epoch: 0030 cost = 0.011235\n",
      "최적화 완료!\n"
     ]
    }
   ],
   "source": [
    "sess = tf.Session()\n",
    "sess.run(tf.global_variables_initializer())\n",
    "\n",
    "input_batch, target_batch = make_batch(seq_data)\n",
    "\n",
    "for epoch in range(total_epoch):\n",
    "    _, loss = sess.run([optimizer, cost],\n",
    "                       feed_dict={X: input_batch, Y: target_batch})\n",
    "\n",
    "    print('Epoch:', '%04d' % (epoch + 1),\n",
    "          'cost =', '{:.6f}'.format(loss))\n",
    "\n",
    "print('최적화 완료!')"
   ]
  },
  {
   "cell_type": "markdown",
   "metadata": {},
   "source": [
    "결과확인"
   ]
  },
  {
   "cell_type": "code",
   "execution_count": 23,
   "metadata": {},
   "outputs": [],
   "source": [
    "# 레이블값이 정수이므로 예측값도 정수로 변경해줍니다.\n",
    "prediction = tf.cast(tf.argmax(model, 1), tf.int32)\n",
    "# one-hot 인코딩이 아니므로 입력값을 그대로 비교합니다.\n",
    "prediction_check = tf.equal(prediction, Y)\n",
    "accuracy = tf.reduce_mean(tf.cast(prediction_check, tf.float32))\n",
    "\n",
    "input_batch, target_batch = make_batch(seq_data)\n",
    "\n",
    "predict, accuracy_val = sess.run([prediction, accuracy],\n",
    "                                 feed_dict={X: input_batch, Y: target_batch})\n",
    "\n",
    "predict_words = []"
   ]
  },
  {
   "cell_type": "code",
   "execution_count": 24,
   "metadata": {},
   "outputs": [
    {
     "name": "stdout",
     "output_type": "stream",
     "text": [
      "\n",
      "=== 예측 결과 ===\n",
      "입력값: ['wor ', 'woo ', 'dee ', 'div ', 'col ', 'coo ', 'loa ', 'lov ', 'kis ', 'kin ']\n",
      "예측값: ['word', 'wood', 'deep', 'dive', 'cold', 'cool', 'load', 'love', 'kiss', 'kind']\n",
      "정확도: 1.0\n"
     ]
    }
   ],
   "source": [
    "for idx, val in enumerate(seq_data):\n",
    "    last_char = char_arr[predict[idx]]\n",
    "    predict_words.append(val[:3] + last_char)\n",
    "\n",
    "print('\\n=== 예측 결과 ===')\n",
    "print('입력값:', [w[:3] + ' ' for w in seq_data])\n",
    "print('예측값:', predict_words)\n",
    "print('정확도:', accuracy_val)"
   ]
  },
  {
   "cell_type": "markdown",
   "metadata": {},
   "source": [
    "Seq2Seq"
   ]
  },
  {
   "cell_type": "code",
   "execution_count": 25,
   "metadata": {},
   "outputs": [],
   "source": [
    "# 챗봇, 번역, 이미지 캡셔닝등에 사용되는 시퀀스 학습/생성 모델인 Seq2Seq 을 구현해봅니다.\n",
    "# 영어 단어를 한국어 단어로 번역하는 프로그램을 만들어봅니다.\n",
    "import tensorflow as tf\n",
    "import numpy as np\n",
    "\n",
    "# S: 디코딩 입력의 시작을 나타내는 심볼\n",
    "# E: 디코딩 출력을 끝을 나타내는 심볼\n",
    "# P: 현재 배치 데이터의 time step 크기보다 작은 경우 빈 시퀀스를 채우는 심볼\n",
    "#    예) 현재 배치 데이터의 최대 크기가 4 인 경우\n",
    "#       word -> ['w', 'o', 'r', 'd']\n",
    "#       to   -> ['t', 'o', 'P', 'P']\n",
    "char_arr = [c for c in 'SEPabcdefghijklmnopqrstuvwxyz단어나무놀이소녀키스사랑']\n",
    "num_dic = {n: i for i, n in enumerate(char_arr)}\n",
    "dic_len = len(num_dic)\n",
    "\n",
    "# 영어를 한글로 번역하기 위한 학습 데이터\n",
    "seq_data = [['word', '단어'], ['wood', '나무'],\n",
    "            ['game', '놀이'], ['girl', '소녀'],\n",
    "            ['kiss', '키스'], ['love', '사랑']]"
   ]
  },
  {
   "cell_type": "code",
   "execution_count": 26,
   "metadata": {},
   "outputs": [],
   "source": [
    "def make_batch(seq_data):\n",
    "    input_batch = []\n",
    "    output_batch = []\n",
    "    target_batch = []\n",
    "\n",
    "    for seq in seq_data:\n",
    "        # 인코더 셀의 입력값. 입력단어의 글자들을 한글자씩 떼어 배열로 만든다.\n",
    "        input = [num_dic[n] for n in seq[0]]\n",
    "        # 디코더 셀의 입력값. 시작을 나타내는 S 심볼을 맨 앞에 붙여준다.\n",
    "        output = [num_dic[n] for n in ('S' + seq[1])]\n",
    "        # 학습을 위해 비교할 디코더 셀의 출력값. 끝나는 것을 알려주기 위해 마지막에 E 를 붙인다.\n",
    "        target = [num_dic[n] for n in (seq[1] + 'E')]\n",
    "\n",
    "        input_batch.append(np.eye(dic_len)[input])\n",
    "        output_batch.append(np.eye(dic_len)[output])\n",
    "        # 출력값만 one-hot 인코딩이 아님 (sparse_softmax_cross_entropy_with_logits 사용)\n",
    "        target_batch.append(target)\n",
    "\n",
    "    return input_batch, output_batch, target_batch"
   ]
  },
  {
   "cell_type": "code",
   "execution_count": 27,
   "metadata": {},
   "outputs": [],
   "source": [
    "#########\n",
    "# 옵션 설정\n",
    "######\n",
    "learning_rate = 0.01\n",
    "n_hidden = 128\n",
    "total_epoch = 100\n",
    "# 입력과 출력의 형태가 one-hot 인코딩으로 같으므로 크기도 같다.\n",
    "n_class = n_input = dic_len"
   ]
  },
  {
   "cell_type": "code",
   "execution_count": 28,
   "metadata": {},
   "outputs": [],
   "source": [
    "#########\n",
    "# 신경망 모델 구성\n",
    "######\n",
    "# Seq2Seq 모델은 인코더의 입력과 디코더의 입력의 형식이 같다.\n",
    "# [batch size, time steps, input size]\n",
    "enc_input = tf.placeholder(tf.float32, [None, None, n_input])\n",
    "dec_input = tf.placeholder(tf.float32, [None, None, n_input])\n",
    "# [batch size, time steps]\n",
    "targets = tf.placeholder(tf.int64, [None, None])"
   ]
  },
  {
   "cell_type": "code",
   "execution_count": 29,
   "metadata": {},
   "outputs": [],
   "source": [
    "# 인코더 셀을 구성한다.\n",
    "with tf.variable_scope('encode'):\n",
    "    enc_cell = tf.nn.rnn_cell.BasicRNNCell(n_hidden)\n",
    "    enc_cell = tf.nn.rnn_cell.DropoutWrapper(enc_cell, output_keep_prob=0.5)\n",
    "\n",
    "    outputs, enc_states = tf.nn.dynamic_rnn(enc_cell, enc_input,\n",
    "                                            dtype=tf.float32)"
   ]
  },
  {
   "cell_type": "code",
   "execution_count": 30,
   "metadata": {},
   "outputs": [],
   "source": [
    "# 디코더 셀을 구성한다.\n",
    "with tf.variable_scope('decode'):\n",
    "    dec_cell = tf.nn.rnn_cell.BasicRNNCell(n_hidden)\n",
    "    dec_cell = tf.nn.rnn_cell.DropoutWrapper(dec_cell, output_keep_prob=0.5)\n",
    "\n",
    "    # Seq2Seq 모델은 인코더 셀의 최종 상태값을\n",
    "    # 디코더 셀의 초기 상태값으로 넣어주는 것이 핵심.\n",
    "    outputs, dec_states = tf.nn.dynamic_rnn(dec_cell, dec_input,\n",
    "                                            initial_state=enc_states,\n",
    "                                            dtype=tf.float32)\n",
    "\n",
    "\n",
    "model = tf.layers.dense(outputs, n_class, activation=None)\n",
    "\n",
    "\n",
    "cost = tf.reduce_mean(\n",
    "            tf.nn.sparse_softmax_cross_entropy_with_logits(\n",
    "                logits=model, labels=targets))\n",
    "\n",
    "optimizer = tf.train.AdamOptimizer(learning_rate).minimize(cost)"
   ]
  },
  {
   "cell_type": "code",
   "execution_count": 31,
   "metadata": {},
   "outputs": [
    {
     "name": "stdout",
     "output_type": "stream",
     "text": [
      "Epoch: 0001 cost = 3.766512\n",
      "Epoch: 0002 cost = 2.630184\n",
      "Epoch: 0003 cost = 1.669039\n",
      "Epoch: 0004 cost = 1.161018\n",
      "Epoch: 0005 cost = 0.760549\n",
      "Epoch: 0006 cost = 0.479378\n",
      "Epoch: 0007 cost = 0.322109\n",
      "Epoch: 0008 cost = 0.265935\n",
      "Epoch: 0009 cost = 0.267513\n",
      "Epoch: 0010 cost = 0.106740\n",
      "Epoch: 0011 cost = 0.130364\n",
      "Epoch: 0012 cost = 0.035825\n",
      "Epoch: 0013 cost = 0.185538\n",
      "Epoch: 0014 cost = 0.137094\n",
      "Epoch: 0015 cost = 0.038254\n",
      "Epoch: 0016 cost = 0.203144\n",
      "Epoch: 0017 cost = 0.022944\n",
      "Epoch: 0018 cost = 0.015545\n",
      "Epoch: 0019 cost = 0.009953\n",
      "Epoch: 0020 cost = 0.011000\n",
      "Epoch: 0021 cost = 0.049217\n",
      "Epoch: 0022 cost = 0.031701\n",
      "Epoch: 0023 cost = 0.010337\n",
      "Epoch: 0024 cost = 0.004422\n",
      "Epoch: 0025 cost = 0.003346\n",
      "Epoch: 0026 cost = 0.003673\n",
      "Epoch: 0027 cost = 0.005714\n",
      "Epoch: 0028 cost = 0.005086\n",
      "Epoch: 0029 cost = 0.003273\n",
      "Epoch: 0030 cost = 0.003427\n",
      "Epoch: 0031 cost = 0.001901\n",
      "Epoch: 0032 cost = 0.005482\n",
      "Epoch: 0033 cost = 0.011603\n",
      "Epoch: 0034 cost = 0.015925\n",
      "Epoch: 0035 cost = 0.005092\n",
      "Epoch: 0036 cost = 0.001984\n",
      "Epoch: 0037 cost = 0.004169\n",
      "Epoch: 0038 cost = 0.002233\n",
      "Epoch: 0039 cost = 0.001099\n",
      "Epoch: 0040 cost = 0.001339\n",
      "Epoch: 0041 cost = 0.003012\n",
      "Epoch: 0042 cost = 0.001534\n",
      "Epoch: 0043 cost = 0.002473\n",
      "Epoch: 0044 cost = 0.001507\n",
      "Epoch: 0045 cost = 0.002713\n",
      "Epoch: 0046 cost = 0.000725\n",
      "Epoch: 0047 cost = 0.001310\n",
      "Epoch: 0048 cost = 0.003543\n",
      "Epoch: 0049 cost = 0.002057\n",
      "Epoch: 0050 cost = 0.001612\n",
      "Epoch: 0051 cost = 0.000784\n",
      "Epoch: 0052 cost = 0.000203\n",
      "Epoch: 0053 cost = 0.000350\n",
      "Epoch: 0054 cost = 0.001035\n",
      "Epoch: 0055 cost = 0.000871\n",
      "Epoch: 0056 cost = 0.001105\n",
      "Epoch: 0057 cost = 0.001488\n",
      "Epoch: 0058 cost = 0.000639\n",
      "Epoch: 0059 cost = 0.000509\n",
      "Epoch: 0060 cost = 0.001033\n",
      "Epoch: 0061 cost = 0.000803\n",
      "Epoch: 0062 cost = 0.000632\n",
      "Epoch: 0063 cost = 0.000405\n",
      "Epoch: 0064 cost = 0.002532\n",
      "Epoch: 0065 cost = 0.001159\n",
      "Epoch: 0066 cost = 0.000346\n",
      "Epoch: 0067 cost = 0.000435\n",
      "Epoch: 0068 cost = 0.000709\n",
      "Epoch: 0069 cost = 0.000241\n",
      "Epoch: 0070 cost = 0.000164\n",
      "Epoch: 0071 cost = 0.000411\n",
      "Epoch: 0072 cost = 0.000272\n",
      "Epoch: 0073 cost = 0.000496\n",
      "Epoch: 0074 cost = 0.000445\n",
      "Epoch: 0075 cost = 0.000237\n",
      "Epoch: 0076 cost = 0.000826\n",
      "Epoch: 0077 cost = 0.000637\n",
      "Epoch: 0078 cost = 0.000219\n",
      "Epoch: 0079 cost = 0.000187\n",
      "Epoch: 0080 cost = 0.000247\n",
      "Epoch: 0081 cost = 0.000606\n",
      "Epoch: 0082 cost = 0.000346\n",
      "Epoch: 0083 cost = 0.000250\n",
      "Epoch: 0084 cost = 0.000271\n",
      "Epoch: 0085 cost = 0.000257\n",
      "Epoch: 0086 cost = 0.000393\n",
      "Epoch: 0087 cost = 0.000259\n",
      "Epoch: 0088 cost = 0.001430\n",
      "Epoch: 0089 cost = 0.000279\n",
      "Epoch: 0090 cost = 0.000986\n",
      "Epoch: 0091 cost = 0.000468\n",
      "Epoch: 0092 cost = 0.000493\n",
      "Epoch: 0093 cost = 0.000260\n",
      "Epoch: 0094 cost = 0.000448\n",
      "Epoch: 0095 cost = 0.000729\n",
      "Epoch: 0096 cost = 0.005892\n",
      "Epoch: 0097 cost = 0.000310\n",
      "Epoch: 0098 cost = 0.000211\n",
      "Epoch: 0099 cost = 0.000377\n",
      "Epoch: 0100 cost = 0.000241\n",
      "최적화 완료!\n"
     ]
    }
   ],
   "source": [
    "#########\n",
    "# 신경망 모델 학습\n",
    "######\n",
    "sess = tf.Session()\n",
    "sess.run(tf.global_variables_initializer())\n",
    "\n",
    "input_batch, output_batch, target_batch = make_batch(seq_data)\n",
    "\n",
    "for epoch in range(total_epoch):\n",
    "    _, loss = sess.run([optimizer, cost],\n",
    "                       feed_dict={enc_input: input_batch,\n",
    "                                  dec_input: output_batch,\n",
    "                                  targets: target_batch})\n",
    "\n",
    "    print('Epoch:', '%04d' % (epoch + 1),\n",
    "          'cost =', '{:.6f}'.format(loss))\n",
    "\n",
    "print('최적화 완료!')"
   ]
  },
  {
   "cell_type": "code",
   "execution_count": 32,
   "metadata": {},
   "outputs": [],
   "source": [
    "#########\n",
    "# 번역 테스트\n",
    "######\n",
    "# 단어를 입력받아 번역 단어를 예측하고 디코딩하는 함수\n",
    "def translate(word):\n",
    "    # 이 모델은 입력값과 출력값 데이터로 [영어단어, 한글단어] 사용하지만,\n",
    "    # 예측시에는 한글단어를 알지 못하므로, 디코더의 입출력값을 의미 없는 값인 P 값으로 채운다.\n",
    "    # ['word', 'PPPP']\n",
    "    seq_data = [word, 'P' * len(word)]\n",
    "\n",
    "    input_batch, output_batch, target_batch = make_batch([seq_data])\n",
    "\n",
    "    # 결과가 [batch size, time step, input] 으로 나오기 때문에,\n",
    "    # 2번째 차원인 input 차원을 argmax 로 취해 가장 확률이 높은 글자를 예측 값으로 만든다.\n",
    "    prediction = tf.argmax(model, 2)\n",
    "\n",
    "    result = sess.run(prediction,\n",
    "                      feed_dict={enc_input: input_batch,\n",
    "                                 dec_input: output_batch,\n",
    "                                 targets: target_batch})\n",
    "\n",
    "    # 결과 값인 숫자의 인덱스에 해당하는 글자를 가져와 글자 배열을 만든다.\n",
    "    decoded = [char_arr[i] for i in result[0]]\n",
    "\n",
    "    # 출력의 끝을 의미하는 'E' 이후의 글자들을 제거하고 문자열로 만든다.\n",
    "    end = decoded.index('E')\n",
    "    translated = ''.join(decoded[:end])\n",
    "\n",
    "    return translated"
   ]
  },
  {
   "cell_type": "code",
   "execution_count": 33,
   "metadata": {},
   "outputs": [
    {
     "name": "stdout",
     "output_type": "stream",
     "text": [
      "\n",
      "=== 번역 테스트 ===\n",
      "word -> 단어\n",
      "wodr -> 나무\n",
      "love -> 사랑\n",
      "loev -> 사랑\n",
      "abcd -> 사랑\n"
     ]
    }
   ],
   "source": [
    "print('\\n=== 번역 테스트 ===')\n",
    "\n",
    "print('word ->', translate('word'))\n",
    "print('wodr ->', translate('wodr'))\n",
    "print('love ->', translate('love'))\n",
    "print('loev ->', translate('loev'))\n",
    "print('abcd ->', translate('abcd'))\n"
   ]
  },
  {
   "cell_type": "code",
   "execution_count": null,
   "metadata": {},
   "outputs": [],
   "source": []
  }
 ],
 "metadata": {
  "kernelspec": {
   "display_name": "Python 3",
   "language": "python",
   "name": "python3"
  },
  "language_info": {
   "codemirror_mode": {
    "name": "ipython",
    "version": 3
   },
   "file_extension": ".py",
   "mimetype": "text/x-python",
   "name": "python",
   "nbconvert_exporter": "python",
   "pygments_lexer": "ipython3",
   "version": "3.7.3"
  }
 },
 "nbformat": 4,
 "nbformat_minor": 2
}
