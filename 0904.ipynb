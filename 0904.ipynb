{
 "cells": [
  {
   "cell_type": "code",
   "execution_count": 1,
   "metadata": {},
   "outputs": [
    {
     "name": "stdout",
     "output_type": "stream",
     "text": [
      "hello\n"
     ]
    }
   ],
   "source": [
    "# program for printing hello\n",
    "'''\n",
    "name = 'Tom'\n",
    "print('hi~', name)\n",
    "'''\n",
    "print('hello')"
   ]
  },
  {
   "cell_type": "code",
   "execution_count": 13,
   "metadata": {},
   "outputs": [
    {
     "name": "stdout",
     "output_type": "stream",
     "text": [
      "4\n"
     ]
    }
   ],
   "source": [
    "a = 4\n",
    "if a > 3:\n",
    "    print(a)\n",
    "    a = a + 1"
   ]
  },
  {
   "cell_type": "code",
   "execution_count": 16,
   "metadata": {},
   "outputs": [],
   "source": [
    "n = 4"
   ]
  },
  {
   "cell_type": "code",
   "execution_count": 17,
   "metadata": {},
   "outputs": [],
   "source": [
    "if n % 2 == 1:\n",
    "    print(n)"
   ]
  },
  {
   "cell_type": "code",
   "execution_count": 20,
   "metadata": {},
   "outputs": [
    {
     "name": "stdout",
     "output_type": "stream",
     "text": [
      "Num: -10\n",
      "입력한 숫자는 -10\n",
      "끝\n"
     ]
    }
   ],
   "source": [
    "num = int(input(\"Num: \"))\n",
    "if num > 0:\n",
    "    print(\"입력한 숫자는 양수\")\n",
    "print(\"입력한 숫자는\", num)\n",
    "print(\"끝\")"
   ]
  },
  {
   "cell_type": "code",
   "execution_count": 21,
   "metadata": {},
   "outputs": [
    {
     "name": "stdout",
     "output_type": "stream",
     "text": [
      "Num: -10\n",
      "끝\n"
     ]
    }
   ],
   "source": [
    "num = int(input(\"Num: \"))\n",
    "if num > 0:\n",
    "    print(\"입력한 숫자는 양수\")\n",
    "    print(\"입력한 숫자는\", num)\n",
    "print(\"끝\")"
   ]
  },
  {
   "cell_type": "code",
   "execution_count": null,
   "metadata": {},
   "outputs": [],
   "source": [
    "# 컨트롤키 + [ ro 컨트롤키 + ] 하면 탭 키랑 비슷한 성능(똑같지는 않음)"
   ]
  },
  {
   "cell_type": "markdown",
   "metadata": {},
   "source": [
    "# 컨트롤키 + [ or 컨트롤키 + ] 하면 탭 키랑 비슷한 성능(똑같지는 않음)"
   ]
  },
  {
   "cell_type": "code",
   "execution_count": null,
   "metadata": {},
   "outputs": [],
   "source": [
    "# 샵 갯수에 따라 다르게 됨(마크다운)\n",
    "- 이것도 사용가능"
   ]
  },
  {
   "cell_type": "markdown",
   "metadata": {},
   "source": [
    "# 샵 갯수에 따라 다르게 됨 (마크다운)\n",
    "- 이것도 사용가능"
   ]
  },
  {
   "cell_type": "code",
   "execution_count": 24,
   "metadata": {},
   "outputs": [
    {
     "name": "stdout",
     "output_type": "stream",
     "text": [
      "몸무게(kg): 60\n",
      "키(m): 180\n",
      "정상입니다.\n"
     ]
    }
   ],
   "source": [
    "w = float(input('몸무게(kg): '))\n",
    "h = float(input('키(m): '))\n",
    "BMI = w/h**2\n",
    "if BMI > 25: \n",
    "    print('비만입니다.')\n",
    "else : \n",
    "    print('정상입니다.')    "
   ]
  },
  {
   "cell_type": "code",
   "execution_count": 25,
   "metadata": {},
   "outputs": [
    {
     "name": "stdout",
     "output_type": "stream",
     "text": [
      "정수: 5\n",
      "홀수입니다.\n"
     ]
    }
   ],
   "source": [
    "n = int(input('정수: '))\n",
    "\n",
    "if n % 2 == 1: print('홀수입니다.')\n",
    "if n % 2 == 0: print('짝수입니다.')"
   ]
  },
  {
   "cell_type": "code",
   "execution_count": 2,
   "metadata": {},
   "outputs": [
    {
     "name": "stdout",
     "output_type": "stream",
     "text": [
      "원하는 음식은(짜장면: 0, 짬뽕: 1)? 1\n",
      "맵게(0)? 안 맵게(1)? 1\n",
      "선택한 메뉴는 안 매운 짬뽕입니다.\n",
      "맛있게 드세요~\n",
      "금액은 5500 입니다,\n"
     ]
    }
   ],
   "source": [
    "n = int(input('원하는 음식은(짜장면: 0, 짬뽕: 1)? '))\n",
    "\n",
    "if n == 0: \n",
    "    m = int(input('달게(0)? 덜 달게(1)? '))\n",
    "    if m == 0: print('선택한 메뉴는 단 짜장면입니다.')\n",
    "    if m == 1: print('선택한 메뉴는 덜 단 짜장면입니다.')\n",
    "    cost = 5000\n",
    "if n == 1:\n",
    "    m = int(input('맵게(0)? 안 맵게(1)? '))\n",
    "    if m == 0: print('선택한 메뉴는 매운 짬뽕입니다.'); cost = 6000\n",
    "    if m == 1: \n",
    "        print('선택한 메뉴는 안 매운 짬뽕입니다.')\n",
    "        cost = 5500\n",
    "        \n",
    "print('맛있게 드세요~')\n",
    "print('금액은', cost, '입니다,')"
   ]
  },
  {
   "cell_type": "code",
   "execution_count": 3,
   "metadata": {},
   "outputs": [
    {
     "name": "stdout",
     "output_type": "stream",
     "text": [
      "금액은 5500 입니다.\n"
     ]
    }
   ],
   "source": [
    "print('금액은 %d 입니다.' % cost)"
   ]
  },
  {
   "cell_type": "code",
   "execution_count": 7,
   "metadata": {},
   "outputs": [
    {
     "name": "stdout",
     "output_type": "stream",
     "text": [
      "당신의 점수는? 55\n",
      "F 등급입니다.\n"
     ]
    }
   ],
   "source": [
    "score = int(input('당신의 점수는? '))\n",
    "if score >= 90: print('A 등급입니다.')\n",
    "if score < 90 and score >= 80: print('B 등급입니다.')\n",
    "if score < 80 and score >= 70: print('C 등급입니다.')\n",
    "if score < 70 and score >= 60: print('D 등급입니다.')\n",
    "if score < 60: print('F 등급입니다.')"
   ]
  },
  {
   "cell_type": "code",
   "execution_count": 13,
   "metadata": {},
   "outputs": [
    {
     "name": "stdout",
     "output_type": "stream",
     "text": [
      "동전을 넣으세요: 5400\n",
      "콜라가 10 개 나왔습니다. \n",
      "거스름돈 400 원이 나왔습니다.\n"
     ]
    }
   ],
   "source": [
    "money = int(input('동전을 넣으세요: '))\n",
    "a = money // 500\n",
    "b = money % 500\n",
    "if a == 0:\n",
    "    print('거스름돈 %d 원이 나왔습니다.' % b)\n",
    "if a > 0:\n",
    "    print('콜라가 %d 개 나왔습니다. ' % a)\n",
    "    print('거스름돈 %d 원이 나왔습니다.' % b)"
   ]
  },
  {
   "cell_type": "code",
   "execution_count": 27,
   "metadata": {},
   "outputs": [
    {
     "name": "stdout",
     "output_type": "stream",
     "text": [
      "동전을 넣으세요: 400\n",
      "거스름돈 400 원이 나왔습니다.\n"
     ]
    }
   ],
   "source": [
    "coin = int(input('동전을 넣으세요: '))\n",
    "if coin >= 500:\n",
    "    print('콜라가 %d 개 나왔습니다. ' % (coin//500))\n",
    "print('거스름돈 %d 원이 나왔습니다.' % (coin%500))"
   ]
  },
  {
   "cell_type": "code",
   "execution_count": 29,
   "metadata": {},
   "outputs": [
    {
     "name": "stdout",
     "output_type": "stream",
     "text": [
      "당신의 나이는 몇 살입니까? 16\n",
      "동승자가 있습니까?(y/n) n\n",
      "탑승할 수 없습니다..\n",
      "감사합니다. \n"
     ]
    }
   ],
   "source": [
    "age = int(input('당신의 나이는 몇 살입니까? '))\n",
    "if age >= 18:\n",
    "    print('감사합니다.')\n",
    "if age < 18:\n",
    "    w = str(input('동승자가 있습니까?(y/n) '))\n",
    "    if w == 'y':\n",
    "        print('감사합니다.')\n",
    "    if w == 'n':\n",
    "        print('탑승할 수 없습니다..')\n",
    "        print('감사합니다. ')"
   ]
  },
  {
   "cell_type": "code",
   "execution_count": 20,
   "metadata": {},
   "outputs": [
    {
     "name": "stdout",
     "output_type": "stream",
     "text": [
      "점수를 입력하세요: 60\n",
      "-> Fail!\n"
     ]
    }
   ],
   "source": [
    "score = int(input(\"점수를 입력하세요: \"))\n",
    "if score > 60: print(\"-> Pass!\")\n",
    "if score <= 60: print(\"-> Fail!\")"
   ]
  },
  {
   "cell_type": "code",
   "execution_count": 31,
   "metadata": {},
   "outputs": [
    {
     "name": "stdout",
     "output_type": "stream",
     "text": [
      "점수를 입력하세요: 60\n",
      "-> Fail!\n"
     ]
    }
   ],
   "source": [
    "score = int(input(\"점수를 입력하세요: \"))\n",
    "if score > 60: print(\"-> Pass!\")\n",
    "elif score <= 60: print(\"-> Fail!\")"
   ]
  },
  {
   "cell_type": "code",
   "execution_count": 33,
   "metadata": {},
   "outputs": [
    {
     "name": "stdout",
     "output_type": "stream",
     "text": [
      "점수를 입력하세요: 60\n",
      "-> Fail!\n"
     ]
    }
   ],
   "source": [
    "score = int(input(\"점수를 입력하세요: \"))\n",
    "if score > 60: print(\"-> Pass!\")\n",
    "else : print(\"-> Fail!\")"
   ]
  },
  {
   "cell_type": "code",
   "execution_count": 35,
   "metadata": {},
   "outputs": [
    {
     "name": "stdout",
     "output_type": "stream",
     "text": [
      "몸무게(kg): 70\n",
      "키(cm): 180\n",
      "정상입니다.\n"
     ]
    }
   ],
   "source": [
    "w = float(input('몸무게(kg): '))\n",
    "h = float(input('키(cm): '))\n",
    "BMI = w/h**2\n",
    "if BMI > 25: \n",
    "    print('비만입니다.')\n",
    "else : \n",
    "    print('정상입니다.')"
   ]
  },
  {
   "cell_type": "code",
   "execution_count": 37,
   "metadata": {},
   "outputs": [
    {
     "name": "stdout",
     "output_type": "stream",
     "text": [
      "첫 번째 정수를 입력하세요: 3\n",
      "두 번째 정수를 입력하세요: 3\n",
      "두 수는 같습니다.\n"
     ]
    }
   ],
   "source": [
    "num0 = int(input(\"첫 번째 정수를 입력하세요: \"))\n",
    "num1 = int(input(\"두 번째 정수를 입력하세요: \"))\n",
    "\n",
    "if num0 > num1: print(\"큰 수:\", num0, \"작은 수:\", num1)\n",
    "if num0 < num1: print(\"큰 수:\", num1, \"작은 수:\", num0)\n",
    "if num0 == num1: print(\"두 수는 같습니다.\")"
   ]
  },
  {
   "cell_type": "code",
   "execution_count": 38,
   "metadata": {},
   "outputs": [
    {
     "name": "stdout",
     "output_type": "stream",
     "text": [
      "첫 번째 정수를 입력하세요: 3\n",
      "두 번째 정수를 입력하세요: 3\n",
      "두 수는 같습니다.\n"
     ]
    }
   ],
   "source": [
    "num0 = int(input(\"첫 번째 정수를 입력하세요: \"))\n",
    "num1 = int(input(\"두 번째 정수를 입력하세요: \"))\n",
    "\n",
    "if num0 > num1: print(\"큰 수:\", num0, \"작은 수:\", num1)\n",
    "elif num0 < num1: print(\"큰 수:\", num1, \"작은 수:\", num0)\n",
    "else : print(\"두 수는 같습니다.\")"
   ]
  },
  {
   "cell_type": "code",
   "execution_count": 40,
   "metadata": {},
   "outputs": [
    {
     "name": "stdout",
     "output_type": "stream",
     "text": [
      "점수를 입력하세요: 59\n",
      "-> F\n",
      "엄마에게 매우 혼납니다.\n"
     ]
    }
   ],
   "source": [
    "score = int(input(\"점수를 입력하세요: \"))\n",
    "if score >= 90: print(\"-> A\")\n",
    "elif score >= 80: print(\"-> B\")\n",
    "elif score >= 70: print(\"-> C\")\n",
    "elif score >= 60:\n",
    "    print(\"- D\")\n",
    "    print(\"엄마에게 혼납니다.\")\n",
    "else:\n",
    "    print(\"-> F\")\n",
    "    print(\"엄마에게 매우 혼납니다.\")"
   ]
  },
  {
   "cell_type": "code",
   "execution_count": 51,
   "metadata": {},
   "outputs": [
    {
     "name": "stdout",
     "output_type": "stream",
     "text": [
      "점수를 입력하세요: 59\n",
      "-> F\n",
      "엄마에게 매우 혼납니다.\n"
     ]
    }
   ],
   "source": [
    "score = int(input(\"점수를 입력하세요: \"))\n",
    "if score >= 90: print(\"-> A\")\n",
    "if score >= 80 and score < 90: print(\"-> B\")\n",
    "if score >= 70 and score < 80: print(\"-> C\")\n",
    "if score >= 60 and score < 70:\n",
    "    print(\"- D\")\n",
    "    print(\"엄마에게 혼납니다.\")\n",
    "if score < 60:\n",
    "    print(\"-> F\")\n",
    "    print(\"엄마에게 매우 혼납니다.\")"
   ]
  },
  {
   "cell_type": "code",
   "execution_count": 46,
   "metadata": {},
   "outputs": [
    {
     "name": "stdout",
     "output_type": "stream",
     "text": [
      "오늘의 미세 먼지 농도는? 130\n",
      "오늘의 미세먼지는 나쁨 입니다.\n",
      "미세먼지 경계 단계입니다!!\n"
     ]
    }
   ],
   "source": [
    "m = int(input(\"오늘의 미세 먼지 농도는? \"))\n",
    "if m <= 30: print(\"오늘의 미세먼지는 좋음 입니다.\")\n",
    "elif m <= 80: print(\"오늘의 미세먼지는 보통 입니다.\")\n",
    "elif m <= 150: print(\"오늘의 미세먼지는 나쁨 입니다.\")\n",
    "else: print(\"오늘의 미세먼지는 매우나쁨 입니다.\")\n",
    "if m > 100: print(\"미세먼지 경계 단계입니다!!\")"
   ]
  },
  {
   "cell_type": "code",
   "execution_count": 57,
   "metadata": {},
   "outputs": [
    {
     "name": "stdout",
     "output_type": "stream",
     "text": [
      "오늘의 미세 먼지 농도는? 130\n",
      "오늘의 미세 먼지 농도는 나쁨입니다. \n",
      "미세먼지 경계 단계입니다!!\n"
     ]
    }
   ],
   "source": [
    "m = int(input(\"오늘의 미세 먼지 농도는? \"))\n",
    "\n",
    "print('오늘의 미세 먼지 농도는', end = ' ')\n",
    "if m <= 30: print(\"좋음\", end = '')\n",
    "elif m <= 80: print(\"보통\", end = '')\n",
    "elif m <= 150: print(\"나쁨\", end = '')\n",
    "else: print(\"매우나쁨\", end = '')\n",
    "print('입니다. ')\n",
    "\n",
    "if m > 100: print(\"미세먼지 경계 단계입니다!!\")"
   ]
  },
  {
   "cell_type": "code",
   "execution_count": 58,
   "metadata": {},
   "outputs": [
    {
     "name": "stdout",
     "output_type": "stream",
     "text": [
      "오늘의 미세 먼지 농도는? 130\n",
      "오늘의 미세먼지 농도는 나쁨입니다.\n",
      "미세먼지 경계 단계입니다!!\n"
     ]
    }
   ],
   "source": [
    "m = int(input(\"오늘의 미세 먼지 농도는? \"))\n",
    "\n",
    "if m <= 30: result = '좋음'\n",
    "elif m <= 80: result = \"보통\"\n",
    "elif m <= 150: result = \"나쁨\"\n",
    "else: result = \"매우나쁨\"\n",
    "print('오늘의 미세먼지 농도는', result + '입니다.')\n",
    "\n",
    "if m > 100: print(\"미세먼지 경계 단계입니다!!\")"
   ]
  },
  {
   "cell_type": "code",
   "execution_count": 56,
   "metadata": {},
   "outputs": [
    {
     "name": "stdout",
     "output_type": "stream",
     "text": [
      "당신의 이름은? 홍길동\n",
      "국어 점수는? 62\n",
      "수학 점수는? 37\n",
      "영어 점수는? 68\n",
      "홍길동 는(은) 불합격.. 입니다. \n"
     ]
    }
   ],
   "source": [
    "name = str(input(\"당신의 이름은? \"))\n",
    "k = int(input(\"국어 점수는? \"))\n",
    "m = int(input(\"수학 점수는? \"))\n",
    "e = int(input(\"영어 점수는? \"))\n",
    "t = (k + m + e) / 3\n",
    "if t >= 60:\n",
    "    if k >= 40 and m >=40 and e >=40:\n",
    "        print(\"%s 는(은) 합격! 입니다. \" % name)\n",
    "    else:\n",
    "        print(\"%s 는(은) 과락.. 입니다. \" % name)\n",
    "else:\n",
    "    print(\"%s 는(은) 불합격.. 입니다. \" % name)"
   ]
  },
  {
   "cell_type": "code",
   "execution_count": 59,
   "metadata": {},
   "outputs": [
    {
     "name": "stdout",
     "output_type": "stream",
     "text": [
      "당신의 이름은? 홍길동\n",
      "국어 점수는? 62\n",
      "수학 점수는? 37\n",
      "영어 점수는? 68\n",
      "홍길동 는(은) 불합격.. 입니다. \n"
     ]
    }
   ],
   "source": [
    "name = str(input(\"당신의 이름은? \"))\n",
    "k = int(input(\"국어 점수는? \"))\n",
    "m = int(input(\"수학 점수는? \"))\n",
    "e = int(input(\"영어 점수는? \"))\n",
    "t = (k + m + e) / 3\n",
    "if t < 60: print(\"%s 는(은) 불합격.. 입니다. \" % name)\n",
    "elif k >= 40 and m >=40 and e >=40: print(\"%s 는(은) 합격! 입니다. \" % name)    \n",
    "else: print(\"%s 는(은) 과락.. 입니다. \" % name)"
   ]
  },
  {
   "cell_type": "code",
   "execution_count": null,
   "metadata": {},
   "outputs": [],
   "source": []
  }
 ],
 "metadata": {
  "kernelspec": {
   "display_name": "Python 3",
   "language": "python",
   "name": "python3"
  },
  "language_info": {
   "codemirror_mode": {
    "name": "ipython",
    "version": 3
   },
   "file_extension": ".py",
   "mimetype": "text/x-python",
   "name": "python",
   "nbconvert_exporter": "python",
   "pygments_lexer": "ipython3",
   "version": "3.7.3"
  }
 },
 "nbformat": 4,
 "nbformat_minor": 2
}
