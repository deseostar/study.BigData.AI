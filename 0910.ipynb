{
 "cells": [
  {
   "cell_type": "markdown",
   "metadata": {},
   "source": [
    "# for 변수 in 리스트(or 문자열 등):\n",
    "    - for_statements\n",
    "- next_statements"
   ]
  },
  {
   "cell_type": "code",
   "execution_count": 2,
   "metadata": {},
   "outputs": [
    {
     "name": "stdout",
     "output_type": "stream",
     "text": [
      "0\n",
      "1\n",
      "2\n",
      "3\n"
     ]
    }
   ],
   "source": [
    "for n in [0, 1, 2, 3]:\n",
    "    print(n)"
   ]
  },
  {
   "cell_type": "code",
   "execution_count": 3,
   "metadata": {},
   "outputs": [
    {
     "name": "stdout",
     "output_type": "stream",
     "text": [
      "펜\n",
      "연필\n",
      "지우개\n"
     ]
    }
   ],
   "source": [
    "items = ['펜', '연필', '지우개']\n",
    "for item in items:\n",
    "    print(item)"
   ]
  },
  {
   "cell_type": "code",
   "execution_count": 4,
   "metadata": {},
   "outputs": [
    {
     "name": "stdout",
     "output_type": "stream",
     "text": [
      "num: 1\n",
      "1 * 1 = 1\n",
      "1 * 2 = 2\n",
      "1 * 3 = 3\n",
      "1 * 4 = 4\n",
      "1 * 5 = 5\n",
      "1 * 6 = 6\n",
      "1 * 7 = 7\n",
      "1 * 8 = 8\n",
      "1 * 9 = 9\n"
     ]
    }
   ],
   "source": [
    "n = int(input('num: '))\n",
    "\n",
    "x = 1\n",
    "while x < 10:\n",
    "    print(n, '*', x, '=', n * x)\n",
    "    x += 1"
   ]
  },
  {
   "cell_type": "code",
   "execution_count": 5,
   "metadata": {},
   "outputs": [
    {
     "name": "stdout",
     "output_type": "stream",
     "text": [
      "num: 1\n",
      "1 * 1 = 1\n",
      "1 * 2 = 2\n",
      "1 * 3 = 3\n",
      "1 * 4 = 4\n",
      "1 * 5 = 5\n",
      "1 * 6 = 6\n",
      "1 * 7 = 7\n",
      "1 * 8 = 8\n",
      "1 * 9 = 9\n"
     ]
    }
   ],
   "source": [
    "n = int(input('num: '))\n",
    "\n",
    "for x in range(1, 10, 1):\n",
    "    print(n, '*', x, '=', n * x)"
   ]
  },
  {
   "cell_type": "code",
   "execution_count": 8,
   "metadata": {},
   "outputs": [
    {
     "name": "stdout",
     "output_type": "stream",
     "text": [
      "2 * 1 = 2\n",
      "2 * 2 = 4\n",
      "2 * 3 = 6\n",
      "2 * 4 = 8\n",
      "2 * 5 = 10\n",
      "2 * 6 = 12\n",
      "2 * 7 = 14\n",
      "2 * 8 = 16\n",
      "2 * 9 = 18\n",
      "3 * 1 = 3\n",
      "3 * 2 = 6\n",
      "3 * 3 = 9\n",
      "3 * 4 = 12\n",
      "3 * 5 = 15\n",
      "3 * 6 = 18\n",
      "3 * 7 = 21\n",
      "3 * 8 = 24\n",
      "3 * 9 = 27\n",
      "4 * 1 = 4\n",
      "4 * 2 = 8\n",
      "4 * 3 = 12\n",
      "4 * 4 = 16\n",
      "4 * 5 = 20\n",
      "4 * 6 = 24\n",
      "4 * 7 = 28\n",
      "4 * 8 = 32\n",
      "4 * 9 = 36\n",
      "5 * 1 = 5\n",
      "5 * 2 = 10\n",
      "5 * 3 = 15\n",
      "5 * 4 = 20\n",
      "5 * 5 = 25\n",
      "5 * 6 = 30\n",
      "5 * 7 = 35\n",
      "5 * 8 = 40\n",
      "5 * 9 = 45\n",
      "6 * 1 = 6\n",
      "6 * 2 = 12\n",
      "6 * 3 = 18\n",
      "6 * 4 = 24\n",
      "6 * 5 = 30\n",
      "6 * 6 = 36\n",
      "6 * 7 = 42\n",
      "6 * 8 = 48\n",
      "6 * 9 = 54\n",
      "7 * 1 = 7\n",
      "7 * 2 = 14\n",
      "7 * 3 = 21\n",
      "7 * 4 = 28\n",
      "7 * 5 = 35\n",
      "7 * 6 = 42\n",
      "7 * 7 = 49\n",
      "7 * 8 = 56\n",
      "7 * 9 = 63\n",
      "8 * 1 = 8\n",
      "8 * 2 = 16\n",
      "8 * 3 = 24\n",
      "8 * 4 = 32\n",
      "8 * 5 = 40\n",
      "8 * 6 = 48\n",
      "8 * 7 = 56\n",
      "8 * 8 = 64\n",
      "8 * 9 = 72\n",
      "9 * 1 = 9\n",
      "9 * 2 = 18\n",
      "9 * 3 = 27\n",
      "9 * 4 = 36\n",
      "9 * 5 = 45\n",
      "9 * 6 = 54\n",
      "9 * 7 = 63\n",
      "9 * 8 = 72\n",
      "9 * 9 = 81\n"
     ]
    }
   ],
   "source": [
    "n = 2\n",
    "\n",
    "\n",
    "while n < 10:\n",
    "    x = 1\n",
    "    while x < 10:\n",
    "        print(n, '*', x, '=', n * x)\n",
    "        x += 1\n",
    "    n += 1"
   ]
  },
  {
   "cell_type": "code",
   "execution_count": 6,
   "metadata": {},
   "outputs": [
    {
     "name": "stdout",
     "output_type": "stream",
     "text": [
      "2 * 1 = 2\n",
      "2 * 2 = 4\n",
      "2 * 3 = 6\n",
      "2 * 4 = 8\n",
      "2 * 5 = 10\n",
      "2 * 6 = 12\n",
      "2 * 7 = 14\n",
      "2 * 8 = 16\n",
      "2 * 9 = 18\n",
      "3 * 1 = 3\n",
      "3 * 2 = 6\n",
      "3 * 3 = 9\n",
      "3 * 4 = 12\n",
      "3 * 5 = 15\n",
      "3 * 6 = 18\n",
      "3 * 7 = 21\n",
      "3 * 8 = 24\n",
      "3 * 9 = 27\n",
      "4 * 1 = 4\n",
      "4 * 2 = 8\n",
      "4 * 3 = 12\n",
      "4 * 4 = 16\n",
      "4 * 5 = 20\n",
      "4 * 6 = 24\n",
      "4 * 7 = 28\n",
      "4 * 8 = 32\n",
      "4 * 9 = 36\n",
      "5 * 1 = 5\n",
      "5 * 2 = 10\n",
      "5 * 3 = 15\n",
      "5 * 4 = 20\n",
      "5 * 5 = 25\n",
      "5 * 6 = 30\n",
      "5 * 7 = 35\n",
      "5 * 8 = 40\n",
      "5 * 9 = 45\n",
      "6 * 1 = 6\n",
      "6 * 2 = 12\n",
      "6 * 3 = 18\n",
      "6 * 4 = 24\n",
      "6 * 5 = 30\n",
      "6 * 6 = 36\n",
      "6 * 7 = 42\n",
      "6 * 8 = 48\n",
      "6 * 9 = 54\n",
      "7 * 1 = 7\n",
      "7 * 2 = 14\n",
      "7 * 3 = 21\n",
      "7 * 4 = 28\n",
      "7 * 5 = 35\n",
      "7 * 6 = 42\n",
      "7 * 7 = 49\n",
      "7 * 8 = 56\n",
      "7 * 9 = 63\n",
      "8 * 1 = 8\n",
      "8 * 2 = 16\n",
      "8 * 3 = 24\n",
      "8 * 4 = 32\n",
      "8 * 5 = 40\n",
      "8 * 6 = 48\n",
      "8 * 7 = 56\n",
      "8 * 8 = 64\n",
      "8 * 9 = 72\n",
      "9 * 1 = 9\n",
      "9 * 2 = 18\n",
      "9 * 3 = 27\n",
      "9 * 4 = 36\n",
      "9 * 5 = 45\n",
      "9 * 6 = 54\n",
      "9 * 7 = 63\n",
      "9 * 8 = 72\n",
      "9 * 9 = 81\n"
     ]
    }
   ],
   "source": [
    "for n in range(2, 10, 1):\n",
    "    for x in range(1, 10, 1):\n",
    "        print(n, '*', x, '=', n * x)   "
   ]
  },
  {
   "cell_type": "code",
   "execution_count": 9,
   "metadata": {},
   "outputs": [
    {
     "name": "stdout",
     "output_type": "stream",
     "text": [
      "나무를 1 번 찍었습니다 쾅\n",
      "나무를 2 번 찍었습니다 쾅, 쾅\n",
      "나무를 3 번 찍었습니다 쾅, 쾅, 쾅\n",
      "나무를 4 번 찍었습니다 쾅, 쾅, 쾅, 쾅\n",
      "나무를 5 번 찍었습니다 쾅, 쾅, 쾅, 쾅, 쾅\n",
      "나무를 6 번 찍었습니다 쾅, 쾅, 쾅, 쾅, 쾅, 쾅\n",
      "나무를 7 번 찍었습니다 쾅, 쾅, 쾅, 쾅, 쾅, 쾅, 쾅\n",
      "나무를 8 번 찍었습니다 쾅, 쾅, 쾅, 쾅, 쾅, 쾅, 쾅, 쾅\n",
      "나무를 9 번 찍었습니다 쾅, 쾅, 쾅, 쾅, 쾅, 쾅, 쾅, 쾅, 쾅\n",
      "나무가 넘어갔습니다.\n"
     ]
    }
   ],
   "source": [
    "n =1            # 초기값\n",
    "while n <10:   # 범위(끝)\n",
    "    print('나무를', n, '번 찍었습니다', '쾅, '*(n-1)+'쾅')\n",
    "    n += 1     # 증감\n",
    "print('나무가 넘어갔습니다.')"
   ]
  },
  {
   "cell_type": "code",
   "execution_count": 10,
   "metadata": {},
   "outputs": [
    {
     "name": "stdout",
     "output_type": "stream",
     "text": [
      "나무를 1 번 찍었습니다 쾅\n",
      "나무를 2 번 찍었습니다 쾅, 쾅\n",
      "나무를 3 번 찍었습니다 쾅, 쾅, 쾅\n",
      "나무를 4 번 찍었습니다 쾅, 쾅, 쾅, 쾅\n",
      "나무를 5 번 찍었습니다 쾅, 쾅, 쾅, 쾅, 쾅\n",
      "나무를 6 번 찍었습니다 쾅, 쾅, 쾅, 쾅, 쾅, 쾅\n",
      "나무를 7 번 찍었습니다 쾅, 쾅, 쾅, 쾅, 쾅, 쾅, 쾅\n",
      "나무를 8 번 찍었습니다 쾅, 쾅, 쾅, 쾅, 쾅, 쾅, 쾅, 쾅\n",
      "나무를 9 번 찍었습니다 쾅, 쾅, 쾅, 쾅, 쾅, 쾅, 쾅, 쾅, 쾅\n",
      "나무가 넘어갔습니다.\n"
     ]
    }
   ],
   "source": [
    "for n in range(1,10,1):\n",
    "    print('나무를', n, '번 찍었습니다', '쾅, '*(n-1)+'쾅')\n",
    "print('나무가 넘어갔습니다.')"
   ]
  },
  {
   "cell_type": "code",
   "execution_count": 18,
   "metadata": {},
   "outputs": [
    {
     "name": "stdout",
     "output_type": "stream",
     "text": [
      "나무 크기: 5\n",
      "잎 모양: 모\n",
      "줄기 모양: ㅣ\n",
      "    모\n",
      "   모모\n",
      "  모모모\n",
      " 모모모모\n",
      "모모모모모\n",
      "    ㅣ\n",
      "    ㅣ\n"
     ]
    }
   ],
   "source": [
    "size = int(input('나무 크기: '))\n",
    "leaf = input('잎 모양: ')\n",
    "stem = input('줄기 모양: ')\n",
    "\n",
    "n = 1\n",
    "while n <= size:\n",
    "    print(' ' * (size-n) + leaf * n)\n",
    "    n += 1\n",
    "\n",
    "n = 1\n",
    "while n <= size//2:\n",
    "    print(' ' * (size-1) + stem)\n",
    "    n += 1"
   ]
  },
  {
   "cell_type": "code",
   "execution_count": 17,
   "metadata": {},
   "outputs": [
    {
     "name": "stdout",
     "output_type": "stream",
     "text": [
      "나무 크기: 5\n",
      "잎 모양: 모\n",
      "줄기 모양: ㅣ\n",
      "    모\n",
      "   모모\n",
      "  모모모\n",
      " 모모모모\n",
      "모모모모모\n",
      "    ㅣ\n",
      "    ㅣ\n"
     ]
    }
   ],
   "source": [
    "size = int(input('나무 크기: '))\n",
    "leaf = input('잎 모양: ')\n",
    "stem = input('줄기 모양: ')\n",
    "\n",
    "for n in range(1, size+1, 1):\n",
    "    print(' ' * (size-n) + leaf * n)\n",
    "\n",
    "for n in range(1, size//2+1, 1):   # range 안에는 정수만\n",
    "    print(' ' * (size-1) + stem)"
   ]
  },
  {
   "cell_type": "code",
   "execution_count": 19,
   "metadata": {},
   "outputs": [
    {
     "name": "stdout",
     "output_type": "stream",
     "text": [
      "나무 크기: 5\n",
      "잎 모양: 모\n",
      "줄기 모양: l\n",
      "    모\n",
      "   모모\n",
      "  모모모\n",
      " 모모모모\n",
      "모모모모모\n",
      "    l\n",
      "    l\n",
      "    l\n"
     ]
    }
   ],
   "source": [
    "size = int(input('나무 크기: '))\n",
    "leaf = input('잎 모양: ')\n",
    "stem = input('줄기 모양: ')\n",
    "\n",
    "for n in range(1, size+1, 1):\n",
    "    print(' ' * (size-n) + leaf * n)\n",
    "\n",
    "for n in range(size//2+1):   # range 안에는 정수만\n",
    "    print(' ' * (size-1) + stem)"
   ]
  },
  {
   "cell_type": "markdown",
   "metadata": {},
   "source": [
    "# for 변수 in range(초기값, 끝값, 증감):\n",
    "    statements1\n",
    "    if 조건:\n",
    "        if_statements\n",
    "        break\n",
    "    statements2\n",
    "# else:\n",
    "    else_statements\n",
    "# next_statements\n",
    "\n",
    "- 조건 만족시 if문이 실행되면서 for 문이 종료됨(변수가 모든값에 대한 반복 x)\n",
    "- for문의 정상적인 종료(break로 인한 종료가 아닌 경우)후에는 else_statements가 실행됨\n",
    "- break로 종료되면 바로 next_statements가 실행"
   ]
  },
  {
   "cell_type": "code",
   "execution_count": 20,
   "metadata": {},
   "outputs": [
    {
     "name": "stdout",
     "output_type": "stream",
     "text": [
      "3 -> 소수\n",
      "5 -> 소수\n",
      "7 -> 소수\n",
      "11 -> 소수\n",
      "13 -> 소수\n",
      "17 -> 소수\n",
      "19 -> 소수\n",
      "23 -> 소수\n",
      "29 -> 소수\n",
      "31 -> 소수\n",
      "37 -> 소수\n",
      "41 -> 소수\n",
      "43 -> 소수\n",
      "47 -> 소수\n",
      "53 -> 소수\n",
      "59 -> 소수\n",
      "61 -> 소수\n",
      "67 -> 소수\n",
      "71 -> 소수\n",
      "73 -> 소수\n",
      "79 -> 소수\n",
      "83 -> 소수\n",
      "89 -> 소수\n",
      "97 -> 소수\n"
     ]
    }
   ],
   "source": [
    "for n in range(3, 100, 2):\n",
    "    for divisor in range(3, n, 2):\n",
    "        if n % divisor == 0: break  #합성수\n",
    "    else: print(n, '-> 소수')"
   ]
  },
  {
   "cell_type": "code",
   "execution_count": 26,
   "metadata": {},
   "outputs": [
    {
     "name": "stdout",
     "output_type": "stream",
     "text": [
      "3 -> 소수\n",
      "5 -> 소수\n",
      "7 -> 소수\n",
      "11 -> 소수\n",
      "13 -> 소수\n",
      "17 -> 소수\n",
      "19 -> 소수\n",
      "23 -> 소수\n",
      "29 -> 소수\n",
      "31 -> 소수\n",
      "37 -> 소수\n",
      "41 -> 소수\n",
      "43 -> 소수\n",
      "47 -> 소수\n",
      "53 -> 소수\n",
      "59 -> 소수\n",
      "61 -> 소수\n",
      "67 -> 소수\n",
      "71 -> 소수\n",
      "73 -> 소수\n",
      "79 -> 소수\n",
      "83 -> 소수\n",
      "89 -> 소수\n",
      "97 -> 소수\n"
     ]
    }
   ],
   "source": [
    "for n in range(3, 100, 2):\n",
    "    for divisor in range(3, int(n**(1/2))+1, 2):\n",
    "        if n % divisor == 0: break  #합성수\n",
    "    else: print(n, '-> 소수')"
   ]
  },
  {
   "cell_type": "code",
   "execution_count": 27,
   "metadata": {},
   "outputs": [
    {
     "name": "stdout",
     "output_type": "stream",
     "text": [
      "3 -> 소수\n",
      "5 -> 소수\n",
      "7 -> 소수\n",
      "11 -> 소수\n",
      "13 -> 소수\n",
      "17 -> 소수\n",
      "19 -> 소수\n",
      "23 -> 소수\n",
      "29 -> 소수\n",
      "31 -> 소수\n",
      "37 -> 소수\n",
      "41 -> 소수\n",
      "43 -> 소수\n",
      "47 -> 소수\n",
      "53 -> 소수\n",
      "59 -> 소수\n",
      "61 -> 소수\n",
      "67 -> 소수\n",
      "71 -> 소수\n",
      "73 -> 소수\n",
      "79 -> 소수\n",
      "83 -> 소수\n",
      "89 -> 소수\n",
      "97 -> 소수\n"
     ]
    }
   ],
   "source": [
    "import math\n",
    "\n",
    "for n in range(3, 100, 2):\n",
    "    for divisor in range(3, int(math.sqrt(n))+1, 2):\n",
    "        if n % divisor == 0: break  #합성수\n",
    "    else: print(n, '-> 소수')"
   ]
  },
  {
   "cell_type": "code",
   "execution_count": 35,
   "metadata": {},
   "outputs": [
    {
     "name": "stdout",
     "output_type": "stream",
     "text": [
      "5 % 3 = 2\n",
      "7 % 3 = 1\n",
      "7 % 5 = 2\n",
      "9 % 3 = 0\n",
      "11 % 3 = 2\n",
      "11 % 5 = 1\n",
      "11 % 7 = 4\n",
      "13 % 3 = 1\n",
      "13 % 5 = 3\n",
      "13 % 7 = 6\n",
      "13 % 11 = 2\n",
      "15 % 3 = 0\n",
      "17 % 3 = 2\n",
      "17 % 5 = 2\n",
      "17 % 7 = 3\n",
      "17 % 11 = 6\n",
      "17 % 13 = 4\n",
      "19 % 3 = 1\n",
      "19 % 5 = 4\n",
      "19 % 7 = 5\n",
      "19 % 11 = 8\n",
      "19 % 13 = 6\n",
      "19 % 17 = 2\n",
      "21 % 3 = 0\n",
      "23 % 3 = 2\n",
      "23 % 5 = 3\n",
      "23 % 7 = 2\n",
      "23 % 11 = 1\n",
      "23 % 13 = 10\n",
      "23 % 17 = 6\n",
      "23 % 19 = 4\n",
      "25 % 3 = 1\n",
      "25 % 5 = 0\n",
      "27 % 3 = 0\n",
      "29 % 3 = 2\n",
      "29 % 5 = 4\n",
      "29 % 7 = 1\n",
      "29 % 11 = 7\n",
      "29 % 13 = 3\n",
      "29 % 17 = 12\n",
      "29 % 19 = 10\n",
      "29 % 23 = 6\n",
      "31 % 3 = 1\n",
      "31 % 5 = 1\n",
      "31 % 7 = 3\n",
      "31 % 11 = 9\n",
      "31 % 13 = 5\n",
      "31 % 17 = 14\n",
      "31 % 19 = 12\n",
      "31 % 23 = 8\n",
      "31 % 29 = 2\n",
      "33 % 3 = 0\n",
      "35 % 3 = 2\n",
      "35 % 5 = 0\n",
      "37 % 3 = 1\n",
      "37 % 5 = 2\n",
      "37 % 7 = 2\n",
      "37 % 11 = 4\n",
      "37 % 13 = 11\n",
      "37 % 17 = 3\n",
      "37 % 19 = 18\n",
      "37 % 23 = 14\n",
      "37 % 29 = 8\n",
      "37 % 31 = 6\n",
      "39 % 3 = 0\n",
      "41 % 3 = 2\n",
      "41 % 5 = 1\n",
      "41 % 7 = 6\n",
      "41 % 11 = 8\n",
      "41 % 13 = 2\n",
      "41 % 17 = 7\n",
      "41 % 19 = 3\n",
      "41 % 23 = 18\n",
      "41 % 29 = 12\n",
      "41 % 31 = 10\n",
      "41 % 37 = 4\n",
      "43 % 3 = 1\n",
      "43 % 5 = 3\n",
      "43 % 7 = 1\n",
      "43 % 11 = 10\n",
      "43 % 13 = 4\n",
      "43 % 17 = 9\n",
      "43 % 19 = 5\n",
      "43 % 23 = 20\n",
      "43 % 29 = 14\n",
      "43 % 31 = 12\n",
      "43 % 37 = 6\n",
      "43 % 41 = 2\n",
      "45 % 3 = 0\n",
      "47 % 3 = 2\n",
      "47 % 5 = 2\n",
      "47 % 7 = 5\n",
      "47 % 11 = 3\n",
      "47 % 13 = 8\n",
      "47 % 17 = 13\n",
      "47 % 19 = 9\n",
      "47 % 23 = 1\n",
      "47 % 29 = 18\n",
      "47 % 31 = 16\n",
      "47 % 37 = 10\n",
      "47 % 41 = 6\n",
      "47 % 43 = 4\n",
      "49 % 3 = 1\n",
      "49 % 5 = 4\n",
      "49 % 7 = 0\n",
      "51 % 3 = 0\n",
      "53 % 3 = 2\n",
      "53 % 5 = 3\n",
      "53 % 7 = 4\n",
      "53 % 11 = 9\n",
      "53 % 13 = 1\n",
      "53 % 17 = 2\n",
      "53 % 19 = 15\n",
      "53 % 23 = 7\n",
      "53 % 29 = 24\n",
      "53 % 31 = 22\n",
      "53 % 37 = 16\n",
      "53 % 41 = 12\n",
      "53 % 43 = 10\n",
      "53 % 47 = 6\n",
      "55 % 3 = 1\n",
      "55 % 5 = 0\n",
      "57 % 3 = 0\n",
      "59 % 3 = 2\n",
      "59 % 5 = 4\n",
      "59 % 7 = 3\n",
      "59 % 11 = 4\n",
      "59 % 13 = 7\n",
      "59 % 17 = 8\n",
      "59 % 19 = 2\n",
      "59 % 23 = 13\n",
      "59 % 29 = 1\n",
      "59 % 31 = 28\n",
      "59 % 37 = 22\n",
      "59 % 41 = 18\n",
      "59 % 43 = 16\n",
      "59 % 47 = 12\n",
      "59 % 53 = 6\n",
      "61 % 3 = 1\n",
      "61 % 5 = 1\n",
      "61 % 7 = 5\n",
      "61 % 11 = 6\n",
      "61 % 13 = 9\n",
      "61 % 17 = 10\n",
      "61 % 19 = 4\n",
      "61 % 23 = 15\n",
      "61 % 29 = 3\n",
      "61 % 31 = 30\n",
      "61 % 37 = 24\n",
      "61 % 41 = 20\n",
      "61 % 43 = 18\n",
      "61 % 47 = 14\n",
      "61 % 53 = 8\n",
      "61 % 59 = 2\n",
      "63 % 3 = 0\n",
      "65 % 3 = 2\n",
      "65 % 5 = 0\n",
      "67 % 3 = 1\n",
      "67 % 5 = 2\n",
      "67 % 7 = 4\n",
      "67 % 11 = 1\n",
      "67 % 13 = 2\n",
      "67 % 17 = 16\n",
      "67 % 19 = 10\n",
      "67 % 23 = 21\n",
      "67 % 29 = 9\n",
      "67 % 31 = 5\n",
      "67 % 37 = 30\n",
      "67 % 41 = 26\n",
      "67 % 43 = 24\n",
      "67 % 47 = 20\n",
      "67 % 53 = 14\n",
      "67 % 59 = 8\n",
      "67 % 61 = 6\n",
      "69 % 3 = 0\n",
      "71 % 3 = 2\n",
      "71 % 5 = 1\n",
      "71 % 7 = 1\n",
      "71 % 11 = 5\n",
      "71 % 13 = 6\n",
      "71 % 17 = 3\n",
      "71 % 19 = 14\n",
      "71 % 23 = 2\n",
      "71 % 29 = 13\n",
      "71 % 31 = 9\n",
      "71 % 37 = 34\n",
      "71 % 41 = 30\n",
      "71 % 43 = 28\n",
      "71 % 47 = 24\n",
      "71 % 53 = 18\n",
      "71 % 59 = 12\n",
      "71 % 61 = 10\n",
      "71 % 67 = 4\n",
      "73 % 3 = 1\n",
      "73 % 5 = 3\n",
      "73 % 7 = 3\n",
      "73 % 11 = 7\n",
      "73 % 13 = 8\n",
      "73 % 17 = 5\n",
      "73 % 19 = 16\n",
      "73 % 23 = 4\n",
      "73 % 29 = 15\n",
      "73 % 31 = 11\n",
      "73 % 37 = 36\n",
      "73 % 41 = 32\n",
      "73 % 43 = 30\n",
      "73 % 47 = 26\n",
      "73 % 53 = 20\n",
      "73 % 59 = 14\n",
      "73 % 61 = 12\n",
      "73 % 67 = 6\n",
      "73 % 71 = 2\n",
      "75 % 3 = 0\n",
      "77 % 3 = 2\n",
      "77 % 5 = 2\n",
      "77 % 7 = 0\n",
      "79 % 3 = 1\n",
      "79 % 5 = 4\n",
      "79 % 7 = 2\n",
      "79 % 11 = 2\n",
      "79 % 13 = 1\n",
      "79 % 17 = 11\n",
      "79 % 19 = 3\n",
      "79 % 23 = 10\n",
      "79 % 29 = 21\n",
      "79 % 31 = 17\n",
      "79 % 37 = 5\n",
      "79 % 41 = 38\n",
      "79 % 43 = 36\n",
      "79 % 47 = 32\n",
      "79 % 53 = 26\n",
      "79 % 59 = 20\n",
      "79 % 61 = 18\n",
      "79 % 67 = 12\n",
      "79 % 71 = 8\n",
      "79 % 73 = 6\n",
      "81 % 3 = 0\n",
      "83 % 3 = 2\n",
      "83 % 5 = 3\n",
      "83 % 7 = 6\n",
      "83 % 11 = 6\n",
      "83 % 13 = 5\n",
      "83 % 17 = 15\n",
      "83 % 19 = 7\n",
      "83 % 23 = 14\n",
      "83 % 29 = 25\n",
      "83 % 31 = 21\n",
      "83 % 37 = 9\n",
      "83 % 41 = 1\n",
      "83 % 43 = 40\n",
      "83 % 47 = 36\n",
      "83 % 53 = 30\n",
      "83 % 59 = 24\n",
      "83 % 61 = 22\n",
      "83 % 67 = 16\n",
      "83 % 71 = 12\n",
      "83 % 73 = 10\n",
      "83 % 79 = 4\n",
      "85 % 3 = 1\n",
      "85 % 5 = 0\n",
      "87 % 3 = 0\n",
      "89 % 3 = 2\n",
      "89 % 5 = 4\n",
      "89 % 7 = 5\n",
      "89 % 11 = 1\n",
      "89 % 13 = 11\n",
      "89 % 17 = 4\n",
      "89 % 19 = 13\n",
      "89 % 23 = 20\n",
      "89 % 29 = 2\n",
      "89 % 31 = 27\n",
      "89 % 37 = 15\n",
      "89 % 41 = 7\n",
      "89 % 43 = 3\n",
      "89 % 47 = 42\n",
      "89 % 53 = 36\n",
      "89 % 59 = 30\n",
      "89 % 61 = 28\n",
      "89 % 67 = 22\n",
      "89 % 71 = 18\n",
      "89 % 73 = 16\n",
      "89 % 79 = 10\n",
      "89 % 83 = 6\n",
      "91 % 3 = 1\n",
      "91 % 5 = 1\n",
      "91 % 7 = 0\n",
      "93 % 3 = 0\n",
      "95 % 3 = 2\n",
      "95 % 5 = 0\n",
      "97 % 3 = 1\n",
      "97 % 5 = 2\n",
      "97 % 7 = 6\n",
      "97 % 11 = 9\n",
      "97 % 13 = 6\n",
      "97 % 17 = 12\n",
      "97 % 19 = 2\n",
      "97 % 23 = 5\n",
      "97 % 29 = 10\n",
      "97 % 31 = 4\n",
      "97 % 37 = 23\n",
      "97 % 41 = 15\n",
      "97 % 43 = 11\n",
      "97 % 47 = 3\n",
      "97 % 53 = 44\n",
      "97 % 59 = 38\n",
      "97 % 61 = 36\n",
      "97 % 67 = 30\n",
      "97 % 71 = 26\n",
      "97 % 73 = 24\n",
      "97 % 79 = 18\n",
      "97 % 83 = 14\n",
      "97 % 89 = 8\n",
      "99 % 3 = 0\n",
      "[3, 5, 7, 11, 13, 17, 19, 23, 29, 31, 37, 41, 43, 47, 53, 59, 61, 67, 71, 73, 79, 83, 89, 97]\n"
     ]
    }
   ],
   "source": [
    "primes = []\n",
    "\n",
    "for n in range(3, 100, 2):\n",
    "    for divisor in primes:\n",
    "        print(n, '%', divisor, '=', n%divisor)\n",
    "        if n % divisor == 0: break\n",
    "    else:\n",
    "        primes.append(n)\n",
    "        # print(primes)\n",
    "print(primes)"
   ]
  },
  {
   "cell_type": "code",
   "execution_count": 38,
   "metadata": {},
   "outputs": [
    {
     "name": "stdout",
     "output_type": "stream",
     "text": [
      "비밀번호를 설정하세요: 1234\n",
      "남은 기회: 5\n",
      "비밀번호를 입력하세요: 123\n",
      "비밀번호를 잘 못 누르셨습니다.\n",
      "남은 기회: 4\n",
      "비밀번호를 입력하세요: 321\n",
      "비밀번호를 잘 못 누르셨습니다.\n",
      "남은 기회: 3\n",
      "비밀번호를 입력하세요: 234\n",
      "비밀번호를 잘 못 누르셨습니다.\n",
      "남은 기회: 2\n",
      "비밀번호를 입력하세요: 12\n",
      "비밀번호를 잘 못 누르셨습니다.\n",
      "남은 기회: 1\n",
      "비밀번호를 입력하세요: 1234\n",
      "비밀번호를 맞췄습니다.\n"
     ]
    }
   ],
   "source": [
    "secret = input('비밀번호를 설정하세요: ')\n",
    "\n",
    "for chance in range(5, 0, -1):\n",
    "    print('남은 기회:', chance)\n",
    "    guess = input('비밀번호를 입력하세요: ')\n",
    "    if secret == guess:\n",
    "        print('비밀번호를 맞췄습니다.')\n",
    "        break\n",
    "    print('비밀번호를 잘 못 누르셨습니다.')\n",
    "else:\n",
    "    print('5번 기회 내에 비밀번호를 맞추지 못하였습니다. ')"
   ]
  },
  {
   "cell_type": "code",
   "execution_count": 1,
   "metadata": {},
   "outputs": [],
   "source": [
    "import timeit\n",
    "\n",
    "def start():\n",
    "    global startT\n",
    "    startT = timeit.default_timer()\n",
    "def stop():\n",
    "    stopT = timeit.default_timer()\n",
    "    print('Time:', stopT - startT)"
   ]
  },
  {
   "cell_type": "code",
   "execution_count": 2,
   "metadata": {},
   "outputs": [
    {
     "name": "stdout",
     "output_type": "stream",
     "text": [
      "Time: 1.3944501999999996\n"
     ]
    }
   ],
   "source": [
    "start()\n",
    "s = 0\n",
    "for n in list(range(10000000)):\n",
    "    s += n\n",
    "stop()"
   ]
  },
  {
   "cell_type": "code",
   "execution_count": 3,
   "metadata": {},
   "outputs": [
    {
     "name": "stdout",
     "output_type": "stream",
     "text": [
      "Time: 1.0151965\n"
     ]
    }
   ],
   "source": [
    "start()\n",
    "s = 0\n",
    "for n in range(10000000):\n",
    "    s += n\n",
    "stop()"
   ]
  },
  {
   "cell_type": "code",
   "execution_count": 4,
   "metadata": {},
   "outputs": [
    {
     "name": "stdout",
     "output_type": "stream",
     "text": [
      "1\n",
      "two\n",
      "three\n",
      "4\n"
     ]
    }
   ],
   "source": [
    "for i in ['1', 'two', 'three', 4]:\n",
    "    print(i)"
   ]
  },
  {
   "cell_type": "code",
   "execution_count": 5,
   "metadata": {},
   "outputs": [
    {
     "name": "stdout",
     "output_type": "stream",
     "text": [
      "h\n",
      "e\n",
      "l\n",
      "l\n",
      "o\n"
     ]
    }
   ],
   "source": [
    "for i in 'hello':\n",
    "    print(i)"
   ]
  },
  {
   "cell_type": "code",
   "execution_count": 6,
   "metadata": {},
   "outputs": [
    {
     "name": "stdout",
     "output_type": "stream",
     "text": [
      "1\n",
      "2\n",
      "3\n",
      "4\n",
      "5\n"
     ]
    }
   ],
   "source": [
    "for i in [1,2,3,4,5]:\n",
    "    print(i)"
   ]
  },
  {
   "cell_type": "code",
   "execution_count": 7,
   "metadata": {},
   "outputs": [
    {
     "name": "stdout",
     "output_type": "stream",
     "text": [
      "1\n",
      "2\n",
      "3\n",
      "4\n",
      "5\n"
     ]
    }
   ],
   "source": [
    "for i in range(1,6):\n",
    "    print(i)"
   ]
  },
  {
   "cell_type": "code",
   "execution_count": 8,
   "metadata": {},
   "outputs": [
    {
     "name": "stdout",
     "output_type": "stream",
     "text": [
      "      *\n",
      "     ***\n",
      "    *****\n",
      "     ***\n",
      "    *****\n",
      "   *******\n",
      "  *********\n",
      "    *****\n",
      "   *******\n",
      "  *********\n",
      " ***********\n",
      "*************\n"
     ]
    }
   ],
   "source": [
    "for i in [1,2,3,2,3,4,5,3,4,5,6,7]:\n",
    "    print(' ' * (7-i) + '*'*(i * 2-1))"
   ]
  },
  {
   "cell_type": "code",
   "execution_count": 10,
   "metadata": {},
   "outputs": [
    {
     "name": "stdout",
     "output_type": "stream",
     "text": [
      "      *\n",
      "     ***\n",
      "    *****\n",
      "     ***\n",
      "    *****\n",
      "   *******\n",
      "  *********\n",
      "    *****\n",
      "   *******\n",
      "  *********\n",
      " ***********\n",
      "*************\n"
     ]
    }
   ],
   "source": [
    "for i in range(1,4):\n",
    "    for j in range(i,i+i+2):\n",
    "        print(' ' * (7-j) + '*'*(j * 2-1))"
   ]
  },
  {
   "cell_type": "code",
   "execution_count": 11,
   "metadata": {},
   "outputs": [
    {
     "name": "stdout",
     "output_type": "stream",
     "text": [
      "I really like programming.\n",
      "I really like pasta.\n",
      "I really like playing game.\n"
     ]
    }
   ],
   "source": [
    "for thing in ['programming', 'pasta', 'playing game']:\n",
    "    print('I really like ' + thing + '.')"
   ]
  },
  {
   "cell_type": "code",
   "execution_count": 12,
   "metadata": {},
   "outputs": [
    {
     "name": "stdout",
     "output_type": "stream",
     "text": [
      "input scores: 70 80 90\n",
      "Sum :  240\n"
     ]
    }
   ],
   "source": [
    "inputScores = input('input scores: ')\n",
    "scores = inputScores.split()\n",
    "sum = 0\n",
    "index = 0\n",
    "while index < len(scores):\n",
    "    sum += int(scores[index])\n",
    "    index += 1\n",
    "print(\"Sum : \", sum)"
   ]
  },
  {
   "cell_type": "code",
   "execution_count": 13,
   "metadata": {},
   "outputs": [
    {
     "name": "stdout",
     "output_type": "stream",
     "text": [
      "input scores: 70 80 90\n",
      "Sum :  240\n"
     ]
    }
   ],
   "source": [
    "inputScores = input('input scores: ')\n",
    "scores = inputScores.split()\n",
    "sum = 0\n",
    "for score in scores:\n",
    "    sum += int(score)\n",
    "print(\"Sum : \", sum)"
   ]
  },
  {
   "cell_type": "code",
   "execution_count": 52,
   "metadata": {},
   "outputs": [
    {
     "name": "stdout",
     "output_type": "stream",
     "text": [
      "구이름과 동이름을 입력하세요: 강동구 노원구 용산구 상암동 서울시 논현동 평창동 중구\n",
      "['상암동', '논현동', '평창동']\n",
      "['상암동', '논현동', '평창동']\n"
     ]
    }
   ],
   "source": [
    "# 강동구 노원구 용산구 상암동 서울시 논현동 평창동 중구\n",
    "t = input(\"구이름과 동이름을 입력하세요: \").split()\n",
    "result1 = []\n",
    "result2 = []\n",
    "\n",
    "for i in t:\n",
    "    if i[-1] == '동':\n",
    "        result1 += [i]        \n",
    "        result2.append(i)\n",
    "print(result1)\n",
    "print(result2)"
   ]
  },
  {
   "cell_type": "code",
   "execution_count": 57,
   "metadata": {},
   "outputs": [
    {
     "name": "stdout",
     "output_type": "stream",
     "text": [
      "구이름과 동이름을 입력하세요: 강동구 노원구 용산구 상암동 서울시 논현동 평창동 중구\n",
      "강동구\n",
      "노원구\n",
      "용산구\n",
      "상암동\n",
      "서울시\n",
      "논현동\n",
      "평창동\n",
      "중구\n"
     ]
    }
   ],
   "source": [
    "# 강동구 노원구 용산구 상암동 서울시 논현동 평창동 중구\n",
    "t = input(\"구이름과 동이름을 입력하세요: \").split()\n",
    "\n",
    "for i in range(len(t)):\n",
    "    print(t[i])"
   ]
  },
  {
   "cell_type": "code",
   "execution_count": 58,
   "metadata": {},
   "outputs": [
    {
     "name": "stdout",
     "output_type": "stream",
     "text": [
      "상암동\n"
     ]
    }
   ],
   "source": [
    "for word in t:\n",
    "    if word[-1] == '동':\n",
    "        print(word)\n",
    "        break\n",
    "else:\n",
    "    print('동을 찾지 못했습니다.')"
   ]
  },
  {
   "cell_type": "code",
   "execution_count": 96,
   "metadata": {},
   "outputs": [
    {
     "name": "stdout",
     "output_type": "stream",
     "text": [
      "복권번호를 맞춰보세요 4개 숫자 입력: 1 2 3 4\n",
      "이번주 복권 번호는:  [4, 10, 5, 7]\n",
      "맞춘 숫자는:  ['4']\n",
      "1 개 맞춰 당첨금은 0원 입니다.\n",
      "그만하시겠습니까? n\n",
      "복권번호를 맞춰보세요 4개 숫자 입력: 1 2 3 4\n",
      "이번주 복권 번호는:  [6, 5, 7, 4]\n",
      "맞춘 숫자는:  ['4']\n",
      "1 개 맞춰 당첨금은 0원 입니다.\n",
      "그만하시겠습니까? n\n",
      "복권번호를 맞춰보세요 4개 숫자 입력: 1 2 3 4\n",
      "이번주 복권 번호는:  [8, 4, 3, 2]\n",
      "맞춘 숫자는:  ['2', '3', '4']\n",
      "3 개 맞춰 당첨금은 5000원 입니다.\n",
      "그만하시겠습니까? y\n",
      "총 당첨금은 5000원입니다.\n"
     ]
    }
   ],
   "source": [
    "import random\n",
    "\n",
    "money = [0,0,5000,10000]\n",
    "totalMoney = 0\n",
    "\n",
    "while True:\n",
    "    choice = input(\"복권번호를 맞춰보세요 4개 숫자 입력: \").split()\n",
    "    lottery = random.sample(range(1,11),4)\n",
    "    result = []\n",
    "    print(\"이번주 복권 번호는: \", lottery)\n",
    "    \n",
    "    for i in choice:\n",
    "        if int(i) in lottery:\n",
    "            result.append(i)\n",
    "\n",
    "    print(\"맞춘 숫자는: \", result)\n",
    "    print(len(result), \"개 맞춰 당첨금은 %d원 입니다.\" %money[len(result)-1])\n",
    "    totalMoney += money[len(result)-1]\n",
    "    \n",
    "    if input('그만하시겠습니까? ').lower() == 'y' : break\n",
    "\n",
    "print(\"총 당첨금은 %d원입니다.\" %totalMoney)"
   ]
  },
  {
   "cell_type": "code",
   "execution_count": 98,
   "metadata": {},
   "outputs": [
    {
     "name": "stdout",
     "output_type": "stream",
     "text": [
      "복권 번호를 맞춰보세요\n",
      "숫자입력:1 2 3 4\n",
      "맞춘 숫자는 [1, 3]\n",
      "맞춘 개수는 2\n",
      "상금은 5000\n",
      "계속하시겠습니까? y\n",
      "복권 번호를 맞춰보세요\n",
      "숫자입력:1 2 3 4\n",
      "맞춘 숫자는 [3, 4]\n",
      "맞춘 개수는 2\n",
      "상금은 5000\n",
      "계속하시겠습니까? n\n",
      "총 당첨금은 10000원입니다.\n"
     ]
    }
   ],
   "source": [
    "import random\n",
    "winnings = [0,0,5000,10000]\n",
    "totalMoney = 0\n",
    "\n",
    "while True:\n",
    "    print('복권 번호를 맞춰보세요')\n",
    "    inNums = input('숫자입력:').split()\n",
    "    genNums = random.sample(range(1,11),4)\n",
    "    \n",
    "    matchNums = []\n",
    "    for num in inNums:\n",
    "        if int(num) in genNums: matchNums.append(int(num))\n",
    "    \n",
    "    print(\"맞춘 숫자는\", matchNums)\n",
    "    print(\"맞춘 개수는\", len(matchNums))\n",
    "    print(\"상금은\", winnings[len(matchNums)])\n",
    "    totalMoney += winnings[len(matchNums)]\n",
    "    \n",
    "    if input('계속하시겠습니까? ').lower() == 'n' : break\n",
    "\n",
    "print(\"총 당첨금은 %d원입니다.\" %totalMoney)"
   ]
  },
  {
   "cell_type": "code",
   "execution_count": null,
   "metadata": {},
   "outputs": [],
   "source": []
  }
 ],
 "metadata": {
  "kernelspec": {
   "display_name": "Python 3",
   "language": "python",
   "name": "python3"
  },
  "language_info": {
   "codemirror_mode": {
    "name": "ipython",
    "version": 3
   },
   "file_extension": ".py",
   "mimetype": "text/x-python",
   "name": "python",
   "nbconvert_exporter": "python",
   "pygments_lexer": "ipython3",
   "version": "3.7.3"
  }
 },
 "nbformat": 4,
 "nbformat_minor": 2
}
