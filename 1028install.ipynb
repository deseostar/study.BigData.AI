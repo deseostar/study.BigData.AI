{
 "cells": [
  {
   "cell_type": "code",
   "execution_count": 3,
   "metadata": {},
   "outputs": [
    {
     "name": "stdout",
     "output_type": "stream",
     "text": [
      "Requirement already up-to-date: pip in c:\\users\\deseo\\anaconda3\\lib\\site-packages (19.3.1)\n"
     ]
    }
   ],
   "source": [
    "!pip install --upgrade pip"
   ]
  },
  {
   "cell_type": "code",
   "execution_count": 4,
   "metadata": {},
   "outputs": [
    {
     "name": "stdout",
     "output_type": "stream",
     "text": [
      "Collecting markdown==2.6.8\n",
      "  Downloading https://files.pythonhosted.org/packages/1d/25/3f6d2cb31ec42ca5bd3bfbea99b63892b735d76e26f20dd2dcc34ffe4f0d/Markdown-2.6.8.tar.gz (307kB)\n",
      "Building wheels for collected packages: markdown\n",
      "  Building wheel for markdown (setup.py): started\n",
      "  Building wheel for markdown (setup.py): finished with status 'done'\n",
      "  Created wheel for markdown: filename=Markdown-2.6.8-cp37-none-any.whl size=162703 sha256=59815ac9292e16606cd2c4ed17f88e1e5e7d6ac000d7bd5aa80b75b61a349647\n",
      "  Stored in directory: C:\\Users\\deseo\\AppData\\Local\\pip\\Cache\\wheels\\8d\\f6\\5a\\5306219d3eecbae42705af03bd4f4db7ce7bb8e39e24174e4f\n",
      "Successfully built markdown\n",
      "Installing collected packages: markdown\n",
      "Successfully installed markdown-2.6.8\n"
     ]
    }
   ],
   "source": [
    "!pip install markdown==2.6.8"
   ]
  },
  {
   "cell_type": "code",
   "execution_count": 9,
   "metadata": {},
   "outputs": [
    {
     "name": "stdout",
     "output_type": "stream",
     "text": [
      "Collecting tensorboard==1.8.0\n",
      "  Using cached https://files.pythonhosted.org/packages/59/a6/0ae6092b7542cfedba6b2a1c9b8dceaf278238c39484f3ba03b03f07803c/tensorboard-1.8.0-py3-none-any.whl\n",
      "Requirement already satisfied, skipping upgrade: werkzeug>=0.11.10 in c:\\users\\deseo\\anaconda3\\lib\\site-packages (from tensorboard==1.8.0) (0.15.4)\n",
      "Requirement already satisfied, skipping upgrade: six>=1.10.0 in c:\\users\\deseo\\appdata\\roaming\\python\\python37\\site-packages (from tensorboard==1.8.0) (1.12.0)\n",
      "Requirement already satisfied, skipping upgrade: html5lib==0.9999999 in c:\\users\\deseo\\anaconda3\\lib\\site-packages (from tensorboard==1.8.0) (0.9999999)\n",
      "Requirement already satisfied, skipping upgrade: markdown>=2.6.8 in c:\\users\\deseo\\anaconda3\\lib\\site-packages (from tensorboard==1.8.0) (2.6.8)\n",
      "Requirement already satisfied, skipping upgrade: bleach==1.5.0 in c:\\users\\deseo\\anaconda3\\lib\\site-packages (from tensorboard==1.8.0) (1.5.0)\n",
      "Requirement already satisfied, skipping upgrade: wheel>=0.26; python_version >= \"3\" in c:\\users\\deseo\\anaconda3\\lib\\site-packages (from tensorboard==1.8.0) (0.33.4)\n",
      "Requirement already satisfied, skipping upgrade: protobuf>=3.4.0 in c:\\users\\deseo\\anaconda3\\lib\\site-packages (from tensorboard==1.8.0) (3.10.0)\n",
      "Requirement already satisfied, skipping upgrade: numpy>=1.12.0 in c:\\users\\deseo\\anaconda3\\lib\\site-packages (from tensorboard==1.8.0) (1.17.2)\n",
      "Requirement already satisfied, skipping upgrade: setuptools in c:\\users\\deseo\\anaconda3\\lib\\site-packages (from protobuf>=3.4.0->tensorboard==1.8.0) (41.0.1)\n",
      "Installing collected packages: tensorboard\n",
      "  Found existing installation: tensorboard 1.6.0\n",
      "    Uninstalling tensorboard-1.6.0:\n",
      "      Successfully uninstalled tensorboard-1.6.0\n",
      "Successfully installed tensorboard-1.8.0\n"
     ]
    }
   ],
   "source": [
    "!pip install --upgrade tensorboard==1.8.0"
   ]
  },
  {
   "cell_type": "code",
   "execution_count": 13,
   "metadata": {},
   "outputs": [
    {
     "name": "stdout",
     "output_type": "stream",
     "text": [
      "Collecting tensorflow==1.13.1\n",
      "  Downloading https://files.pythonhosted.org/packages/7b/14/e4538c2bc3ae9f4ce6f6ce7ef1180da05abc4a617afba798268232b01d0d/tensorflow-1.13.1-cp37-cp37m-win_amd64.whl (63.1MB)\n",
      "Requirement already satisfied, skipping upgrade: grpcio>=1.8.6 in c:\\users\\deseo\\anaconda3\\lib\\site-packages (from tensorflow==1.13.1) (1.24.3)\n",
      "Requirement already satisfied, skipping upgrade: six>=1.10.0 in c:\\users\\deseo\\appdata\\roaming\\python\\python37\\site-packages (from tensorflow==1.13.1) (1.12.0)\n",
      "Collecting tensorflow-estimator<1.14.0rc0,>=1.13.0\n",
      "  Downloading https://files.pythonhosted.org/packages/bb/48/13f49fc3fa0fdf916aa1419013bb8f2ad09674c275b4046d5ee669a46873/tensorflow_estimator-1.13.0-py2.py3-none-any.whl (367kB)\n",
      "Requirement already satisfied, skipping upgrade: numpy>=1.13.3 in c:\\users\\deseo\\anaconda3\\lib\\site-packages (from tensorflow==1.13.1) (1.17.2)\n",
      "Collecting tensorboard<1.14.0,>=1.13.0\n",
      "  Downloading https://files.pythonhosted.org/packages/0f/39/bdd75b08a6fba41f098b6cb091b9e8c7a80e1b4d679a581a0ccd17b10373/tensorboard-1.13.1-py3-none-any.whl (3.2MB)\n",
      "Requirement already satisfied, skipping upgrade: gast>=0.2.0 in c:\\users\\deseo\\anaconda3\\lib\\site-packages (from tensorflow==1.13.1) (0.2.2)\n",
      "Requirement already satisfied, skipping upgrade: protobuf>=3.6.1 in c:\\users\\deseo\\anaconda3\\lib\\site-packages (from tensorflow==1.13.1) (3.10.0)\n",
      "Requirement already satisfied, skipping upgrade: termcolor>=1.1.0 in c:\\users\\deseo\\anaconda3\\lib\\site-packages (from tensorflow==1.13.1) (1.1.0)\n",
      "Requirement already satisfied, skipping upgrade: keras-preprocessing>=1.0.5 in c:\\users\\deseo\\anaconda3\\lib\\site-packages (from tensorflow==1.13.1) (1.1.0)\n",
      "Requirement already satisfied, skipping upgrade: wheel>=0.26 in c:\\users\\deseo\\anaconda3\\lib\\site-packages (from tensorflow==1.13.1) (0.33.4)\n",
      "Requirement already satisfied, skipping upgrade: astor>=0.6.0 in c:\\users\\deseo\\anaconda3\\lib\\site-packages (from tensorflow==1.13.1) (0.8.0)\n",
      "Requirement already satisfied, skipping upgrade: keras-applications>=1.0.6 in c:\\users\\deseo\\anaconda3\\lib\\site-packages (from tensorflow==1.13.1) (1.0.8)\n",
      "Requirement already satisfied, skipping upgrade: absl-py>=0.1.6 in c:\\users\\deseo\\anaconda3\\lib\\site-packages (from tensorflow==1.13.1) (0.8.1)\n",
      "Requirement already satisfied, skipping upgrade: mock>=2.0.0 in c:\\users\\deseo\\anaconda3\\lib\\site-packages (from tensorflow-estimator<1.14.0rc0,>=1.13.0->tensorflow==1.13.1) (3.0.5)\n",
      "Requirement already satisfied, skipping upgrade: markdown>=2.6.8 in c:\\users\\deseo\\anaconda3\\lib\\site-packages (from tensorboard<1.14.0,>=1.13.0->tensorflow==1.13.1) (2.6.8)\n",
      "Requirement already satisfied, skipping upgrade: werkzeug>=0.11.15 in c:\\users\\deseo\\anaconda3\\lib\\site-packages (from tensorboard<1.14.0,>=1.13.0->tensorflow==1.13.1) (0.15.4)\n",
      "Requirement already satisfied, skipping upgrade: setuptools in c:\\users\\deseo\\anaconda3\\lib\\site-packages (from protobuf>=3.6.1->tensorflow==1.13.1) (41.0.1)\n",
      "Requirement already satisfied, skipping upgrade: h5py in c:\\users\\deseo\\anaconda3\\lib\\site-packages (from keras-applications>=1.0.6->tensorflow==1.13.1) (2.9.0)\n",
      "Installing collected packages: tensorflow-estimator, tensorboard, tensorflow\n",
      "  Found existing installation: tensorflow-estimator 2.0.1\n",
      "    Uninstalling tensorflow-estimator-2.0.1:\n",
      "      Successfully uninstalled tensorflow-estimator-2.0.1\n",
      "  Found existing installation: tensorboard 2.0.0\n",
      "    Uninstalling tensorboard-2.0.0:\n",
      "      Successfully uninstalled tensorboard-2.0.0\n",
      "  Found existing installation: tensorflow 2.0.0\n",
      "    Uninstalling tensorflow-2.0.0:\n",
      "      Successfully uninstalled tensorflow-2.0.0\n",
      "Successfully installed tensorboard-1.13.1 tensorflow-1.13.1 tensorflow-estimator-1.13.0\n"
     ]
    }
   ],
   "source": [
    "!pip install --upgrade tensorflow==1.13.1"
   ]
  },
  {
   "cell_type": "code",
   "execution_count": 12,
   "metadata": {},
   "outputs": [
    {
     "name": "stdout",
     "output_type": "stream",
     "text": [
      "Requirement already satisfied: pillow in c:\\users\\deseo\\anaconda3\\lib\\site-packages (6.1.0)\n"
     ]
    }
   ],
   "source": [
    "!pip3 install pillow"
   ]
  },
  {
   "cell_type": "code",
   "execution_count": null,
   "metadata": {},
   "outputs": [],
   "source": []
  },
  {
   "cell_type": "code",
   "execution_count": null,
   "metadata": {},
   "outputs": [],
   "source": []
  }
 ],
 "metadata": {
  "kernelspec": {
   "display_name": "Python 3",
   "language": "python",
   "name": "python3"
  },
  "language_info": {
   "codemirror_mode": {
    "name": "ipython",
    "version": 3
   },
   "file_extension": ".py",
   "mimetype": "text/x-python",
   "name": "python",
   "nbconvert_exporter": "python",
   "pygments_lexer": "ipython3",
   "version": "3.7.3"
  }
 },
 "nbformat": 4,
 "nbformat_minor": 2
}
