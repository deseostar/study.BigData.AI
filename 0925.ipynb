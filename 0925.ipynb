{
 "cells": [
  {
   "cell_type": "code",
   "execution_count": 11,
   "metadata": {},
   "outputs": [],
   "source": [
    "import pandas as pd\n",
    "import numpy as np\n",
    "names1 = np.array(['둘리', '호이', '영미', '길동', '또치', '마이클'])\n",
    "score1 = np.array([84, 21, 87, 100, 59, 46]) \n",
    "names2 = np.array(['또치', '둘리', '길동', '영미', '마이클', '호이']) \n",
    "score2 = np.array([99, 87, 87, 84, 77, 15]) \n",
    "s1 = pd.Series(score1, index = names1) \n",
    "s2 = pd.Series(score2, index = names2)"
   ]
  },
  {
   "cell_type": "code",
   "execution_count": 12,
   "metadata": {},
   "outputs": [
    {
     "data": {
      "text/plain": [
       "array([ 84,  21,  87, 100,  59,  46,  23])"
      ]
     },
     "execution_count": 12,
     "metadata": {},
     "output_type": "execute_result"
    }
   ],
   "source": [
    "np.append(score1, 23) "
   ]
  },
  {
   "cell_type": "code",
   "execution_count": 13,
   "metadata": {},
   "outputs": [
    {
     "data": {
      "text/plain": [
       "array([ 84,  21,  87,  77, 100,  59,  46])"
      ]
     },
     "execution_count": 13,
     "metadata": {},
     "output_type": "execute_result"
    }
   ],
   "source": [
    "np.insert(score1, 3, 77)"
   ]
  },
  {
   "cell_type": "code",
   "execution_count": 14,
   "metadata": {},
   "outputs": [
    {
     "data": {
      "text/plain": [
       "array([84, 21, 87, 59, 46])"
      ]
     },
     "execution_count": 14,
     "metadata": {},
     "output_type": "execute_result"
    }
   ],
   "source": [
    "np.delete(score1, 3)"
   ]
  },
  {
   "cell_type": "code",
   "execution_count": 15,
   "metadata": {},
   "outputs": [],
   "source": [
    "s1[1] = 77           # 수정"
   ]
  },
  {
   "cell_type": "code",
   "execution_count": 16,
   "metadata": {},
   "outputs": [],
   "source": [
    "s1['슬기'] = 99     # 추가"
   ]
  },
  {
   "cell_type": "code",
   "execution_count": 18,
   "metadata": {},
   "outputs": [
    {
     "data": {
      "text/plain": [
       "둘리      84\n",
       "호이      77\n",
       "영미      87\n",
       "길동     100\n",
       "또치      59\n",
       "마이클     46\n",
       "슬기      99\n",
       "dtype: int64"
      ]
     },
     "execution_count": 18,
     "metadata": {},
     "output_type": "execute_result"
    }
   ],
   "source": [
    "s1"
   ]
  },
  {
   "cell_type": "code",
   "execution_count": 45,
   "metadata": {},
   "outputs": [],
   "source": [
    "del s1['길동']      # 추가 삭제는 꼭 index명, 수정은 index번호도 가능"
   ]
  },
  {
   "cell_type": "code",
   "execution_count": 19,
   "metadata": {},
   "outputs": [],
   "source": [
    "s1.loc[9] = 7"
   ]
  },
  {
   "cell_type": "code",
   "execution_count": 20,
   "metadata": {},
   "outputs": [
    {
     "data": {
      "text/plain": [
       "둘리      84\n",
       "호이      77\n",
       "영미      87\n",
       "길동     100\n",
       "또치      59\n",
       "마이클     46\n",
       "슬기      99\n",
       "9        7\n",
       "dtype: int64"
      ]
     },
     "execution_count": 20,
     "metadata": {},
     "output_type": "execute_result"
    }
   ],
   "source": [
    "s1"
   ]
  },
  {
   "cell_type": "code",
   "execution_count": 53,
   "metadata": {},
   "outputs": [],
   "source": [
    "import pandas as pd\n",
    "import numpy as np\n",
    "names1 = np.array(['둘리', '호이', '영미', '길동', '또치', '마이클'])\n",
    "score1 = np.array([84, 21, 87, 100, 59, 46]) \n",
    "names2 = np.array(['또치', '둘리', '길동', '영미', '마이클', '호이']) \n",
    "score2 = np.array([99, 87, 87, 84, 77, 15]) \n",
    "s1 = pd.Series(score1, index = names1) \n",
    "s2 = pd.Series(score2, index = names2)"
   ]
  },
  {
   "cell_type": "code",
   "execution_count": 37,
   "metadata": {},
   "outputs": [
    {
     "data": {
      "text/plain": [
       "array([False,  True, False, False, False, False])"
      ]
     },
     "execution_count": 37,
     "metadata": {},
     "output_type": "execute_result"
    }
   ],
   "source": [
    "score1 < 30"
   ]
  },
  {
   "cell_type": "code",
   "execution_count": 38,
   "metadata": {},
   "outputs": [
    {
     "data": {
      "text/plain": [
       "array([21])"
      ]
     },
     "execution_count": 38,
     "metadata": {},
     "output_type": "execute_result"
    }
   ],
   "source": [
    "score1[score1 < 30]"
   ]
  },
  {
   "cell_type": "code",
   "execution_count": 40,
   "metadata": {},
   "outputs": [
    {
     "data": {
      "text/plain": [
       "array([87])"
      ]
     },
     "execution_count": 40,
     "metadata": {},
     "output_type": "execute_result"
    }
   ],
   "source": [
    "score2[score1 < 30]     #  배열이라서 바로 그 위치에 있는 값이 나옴"
   ]
  },
  {
   "cell_type": "code",
   "execution_count": 33,
   "metadata": {},
   "outputs": [
    {
     "data": {
      "text/plain": [
       "둘리     False\n",
       "호이      True\n",
       "영미     False\n",
       "길동     False\n",
       "또치     False\n",
       "마이클    False\n",
       "dtype: bool"
      ]
     },
     "execution_count": 33,
     "metadata": {},
     "output_type": "execute_result"
    }
   ],
   "source": [
    "s1 < 30"
   ]
  },
  {
   "cell_type": "code",
   "execution_count": 34,
   "metadata": {},
   "outputs": [
    {
     "data": {
      "text/plain": [
       "호이    21\n",
       "dtype: int32"
      ]
     },
     "execution_count": 34,
     "metadata": {},
     "output_type": "execute_result"
    }
   ],
   "source": [
    "s1[s1 < 30]"
   ]
  },
  {
   "cell_type": "code",
   "execution_count": 35,
   "metadata": {},
   "outputs": [
    {
     "data": {
      "text/plain": [
       "호이    15\n",
       "dtype: int32"
      ]
     },
     "execution_count": 35,
     "metadata": {},
     "output_type": "execute_result"
    }
   ],
   "source": [
    "s2[s1 < 30]       # 정렬되어 있지 않더라도 인덱스을 기준으로 색인함"
   ]
  },
  {
   "cell_type": "code",
   "execution_count": 41,
   "metadata": {},
   "outputs": [
    {
     "data": {
      "text/plain": [
       "둘리      84\n",
       "호이      21\n",
       "영미      87\n",
       "길동     100\n",
       "또치      59\n",
       "마이클     46\n",
       "dtype: int32"
      ]
     },
     "execution_count": 41,
     "metadata": {},
     "output_type": "execute_result"
    }
   ],
   "source": [
    "s1"
   ]
  },
  {
   "cell_type": "code",
   "execution_count": 42,
   "metadata": {},
   "outputs": [
    {
     "data": {
      "text/plain": [
       "또치     99\n",
       "둘리     87\n",
       "길동     87\n",
       "영미     84\n",
       "마이클    77\n",
       "호이     15\n",
       "dtype: int32"
      ]
     },
     "execution_count": 42,
     "metadata": {},
     "output_type": "execute_result"
    }
   ],
   "source": [
    "s2"
   ]
  },
  {
   "cell_type": "code",
   "execution_count": 43,
   "metadata": {},
   "outputs": [
    {
     "data": {
      "text/plain": [
       "둘리     87\n",
       "호이     15\n",
       "영미     84\n",
       "길동     87\n",
       "또치     99\n",
       "마이클    77\n",
       "dtype: int32"
      ]
     },
     "execution_count": 43,
     "metadata": {},
     "output_type": "execute_result"
    }
   ],
   "source": [
    "s2[s1.index]"
   ]
  },
  {
   "cell_type": "code",
   "execution_count": 44,
   "metadata": {},
   "outputs": [],
   "source": [
    "s2 = s2[s1.index]   # 원본파일 저장"
   ]
  },
  {
   "cell_type": "code",
   "execution_count": 62,
   "metadata": {},
   "outputs": [
    {
     "name": "stdout",
     "output_type": "stream",
     "text": [
      "이름을 입력하세요:길동 미나 슬기\n",
      "과목을 입력하세요:수학 영어\n",
      "수학성적을 입력하세요:100 70 35\n",
      "영어성적을 입력하세요:77 11 56\n"
     ]
    }
   ],
   "source": [
    "import pandas as pd\n",
    "import numpy as np\n",
    "n1 = input('이름을 입력하세요:').split(' ')\n",
    "names1 = np.array(n1)\n",
    "n2 = input('과목을 입력하세요:').split(' ')\n",
    "names2 = np.array(n2)\n",
    "math = input('%d 성적을 입력하세요:' % names2[0]).split(' ')\n",
    "math = [int (i) for i in math]\n",
    "score1 = np.array(math)\n",
    "eng = input('%d 성적을 입력하세요:' % names2[1]).split(' ')\n",
    "eng = [int (i) for i in eng]\n",
    "score2 = np.array(eng) "
   ]
  },
  {
   "cell_type": "code",
   "execution_count": 67,
   "metadata": {},
   "outputs": [
    {
     "ename": "SyntaxError",
     "evalue": "invalid syntax (<ipython-input-67-f770065ad991>, line 8)",
     "output_type": "error",
     "traceback": [
      "\u001b[1;36m  File \u001b[1;32m\"<ipython-input-67-f770065ad991>\"\u001b[1;36m, line \u001b[1;32m8\u001b[0m\n\u001b[1;33m    while num <= len(n2)\u001b[0m\n\u001b[1;37m                        ^\u001b[0m\n\u001b[1;31mSyntaxError\u001b[0m\u001b[1;31m:\u001b[0m invalid syntax\n"
     ]
    }
   ],
   "source": [
    "# 내가 하다가 시간관계상 다 못한거 꼭 마무리 지을것\n",
    "import pandas as pd\n",
    "import numpy as np\n",
    "n1 = input('이름을 입력하세요:').split(' ')\n",
    "names1 = np.array(n1)\n",
    "n2 = input('과목을 입력하세요:').split(' ')\n",
    "names2 = np.array(n2)\n",
    "num = 0\n",
    "while num <= len(n2)\n",
    "    if num == 0\n",
    "        subject[num] = input('%d 성적을 입력하세요:' % names2[num]).split(' ')\n",
    "        subject[num] = [int (i) for i in subject[num]]\n",
    "        score1 = np.array(subject[num])\n",
    "    num += 1"
   ]
  },
  {
   "cell_type": "code",
   "execution_count": 63,
   "metadata": {},
   "outputs": [
    {
     "data": {
      "text/plain": [
       "['길동', '미나', '슬기']"
      ]
     },
     "execution_count": 63,
     "metadata": {},
     "output_type": "execute_result"
    }
   ],
   "source": [
    "n1"
   ]
  },
  {
   "cell_type": "code",
   "execution_count": 65,
   "metadata": {},
   "outputs": [],
   "source": [
    "s1 = pd.Series(score1, index = names1) \n",
    "s2 = pd.Series(score2, index = names1)"
   ]
  },
  {
   "cell_type": "code",
   "execution_count": 64,
   "metadata": {},
   "outputs": [
    {
     "data": {
      "text/plain": [
       "array([100,  70,  35])"
      ]
     },
     "execution_count": 64,
     "metadata": {},
     "output_type": "execute_result"
    }
   ],
   "source": [
    "score1"
   ]
  },
  {
   "cell_type": "code",
   "execution_count": 75,
   "metadata": {},
   "outputs": [
    {
     "name": "stdout",
     "output_type": "stream",
     "text": [
      "이름: 길동 미나 슬기\n",
      "과목: 수학 영어\n",
      "입력된 이름: ['길동', '미나', '슬기']\n",
      "입력된 과목: ['수학', '영어']\n"
     ]
    }
   ],
   "source": [
    "names = input('이름: ').split()\n",
    "subjects = input('과목: ').split()\n",
    "\n",
    "print('입력된 이름:', names) # 테스트\n",
    "print('입력된 과목:', subjects) # 테스트"
   ]
  },
  {
   "cell_type": "code",
   "execution_count": 76,
   "metadata": {},
   "outputs": [
    {
     "name": "stdout",
     "output_type": "stream",
     "text": [
      "\n",
      "길동 미나 슬기의 수학 성적: 100 70 35\n",
      "입력된 수학의 성적: ['100', '70', '35']\n",
      "[100, 70, 35]\n",
      "\n",
      "길동 미나 슬기의 영어 성적: 77 11 56\n",
      "입력된 영어의 성적: ['77', '11', '56']\n",
      "[77, 11, 56]\n",
      "길동    100\n",
      "미나     70\n",
      "슬기     35\n",
      "Name: 수학, dtype: int64\n",
      "길동    77\n",
      "미나    11\n",
      "슬기    56\n",
      "Name: 영어, dtype: int64\n"
     ]
    }
   ],
   "source": [
    "listOfScores = []\n",
    "for subject in subjects:\n",
    "    scores = input('\\n'+' '.join(names) + '의 ' + subject + ' 성적: ').split()\n",
    "    print('입력된', subject + '의 성적:', scores) # 테스트\n",
    "    scores = list(map(int, scores))\n",
    "    print(scores)      # 테스트\n",
    "    listOfScores.append(pd.Series(scores, index = names))\n",
    "    listOfScores[-1].name = subject\n",
    "    \n",
    "for scores in listOfScores:\n",
    "    print(scores)"
   ]
  },
  {
   "cell_type": "code",
   "execution_count": 77,
   "metadata": {},
   "outputs": [
    {
     "name": "stdout",
     "output_type": "stream",
     "text": [
      "\n",
      "길동 미나 슬기의 수학 성적: 100 70 35\n",
      "입력된 수학의 성적: ['100', '70', '35']\n",
      "[100, 70, 35]\n",
      "\n",
      "길동 미나 슬기의 영어 성적: 77 11 56\n",
      "입력된 영어의 성적: ['77', '11', '56']\n",
      "[77, 11, 56]\n",
      "수학 길동    100\n",
      "미나     70\n",
      "슬기     35\n",
      "Name: 수학, dtype: int64\n",
      "영어 길동    77\n",
      "미나    11\n",
      "슬기    56\n",
      "Name: 영어, dtype: int64\n"
     ]
    }
   ],
   "source": [
    "listOfScores = {}                                                 # 이부분 달라짐 딕셔너리\n",
    "for subject in subjects:\n",
    "    scores = input('\\n'+' '.join(names) + '의 ' + subject + ' 성적: ').split()\n",
    "    print('입력된', subject + '의 성적:', scores) # 테스트\n",
    "    scores = [int(x) for x in scores]                           # 이부분 달라짐  for사용 위에는 map사용\n",
    "    print(scores)     # 테스트\n",
    "    listOfScores[subject] = pd.Series(scores, index = names)     # 이부분 달라짐\n",
    "    listOfScores[subject].name = subject\n",
    "    \n",
    "for subject in listOfScores:                                    # 이부분 달라짐\n",
    "    print(subject, listOfScores[subject])                        # 이부분 달라짐"
   ]
  },
  {
   "cell_type": "code",
   "execution_count": 82,
   "metadata": {},
   "outputs": [
    {
     "name": "stdout",
     "output_type": "stream",
     "text": [
      "\n",
      "길동 미나 슬기의 수학 성적: 100 70 35\n",
      "입력된 수학의 성적: ['100', '70', '35']\n",
      "['100', '70', '35']\n",
      "\n",
      "길동 미나 슬기의 영어 성적: 77 11 56\n",
      "입력된 영어의 성적: ['77', '11', '56']\n",
      "['77', '11', '56']\n",
      "수학 길동    100\n",
      "미나     70\n",
      "슬기     35\n",
      "합     205\n",
      "Name: 수학, dtype: int64\n",
      "영어 길동     77\n",
      "미나     11\n",
      "슬기     56\n",
      "합     144\n",
      "Name: 영어, dtype: int64\n",
      "합 길동    177\n",
      "미나     81\n",
      "슬기     91\n",
      "dtype: int64\n"
     ]
    }
   ],
   "source": [
    "listOfScores = {}\n",
    "scoreSum = pd.Series([0] * len(names), index = names)\n",
    "for subject in subjects:\n",
    "    scores = input('\\n'+' '.join(names) + '의 ' + subject + ' 성적: ').split()\n",
    "    print('입력된', subject + '의 성적:', scores) # 테스트\n",
    "\n",
    "    print(scores)     # 테스트\n",
    "    listOfScores[subject] = pd.Series(scores, index = names)\n",
    "    listOfScores[subject].name = subject    \n",
    "    listOfScores[subject] = listOfScores[subject].astype('int')   # 이부분 달라짐\n",
    "    scoreSum += listOfScores[subject]\n",
    "    \n",
    "    listOfScores[subject]['합'] = listOfScores[subject].sum()\n",
    "    \n",
    "for subject in listOfScores:                                    \n",
    "    print(subject, listOfScores[subject])\n",
    "    \n",
    "print('합', scoreSum)"
   ]
  },
  {
   "cell_type": "code",
   "execution_count": 83,
   "metadata": {},
   "outputs": [
    {
     "data": {
      "text/plain": [
       "길동    177\n",
       "미나     81\n",
       "슬기     91\n",
       "합     349\n",
       "dtype: int64"
      ]
     },
     "execution_count": 83,
     "metadata": {},
     "output_type": "execute_result"
    }
   ],
   "source": [
    "from functools import reduce\n",
    "reduce(lambda x, y: x + y, listOfScores.values())"
   ]
  },
  {
   "cell_type": "code",
   "execution_count": 84,
   "metadata": {},
   "outputs": [],
   "source": [
    "# Series = 1차원배열\n",
    "# DataFrame = 2차원배열 + index + colume\n",
    "\n",
    "names1 = np.array(['둘리', '호이', '영미', '길동', '또치', '마이클'])\n",
    "score1 = np.array([84, 21, 87, 100, 59, 46]) \n",
    "names2 = np.array(['또치', '둘리', '길동', '영미', '마이클', '호이']) \n",
    "score2 = np.array([99, 87, 87, 84, 77, 15]) \n",
    "s1 = pd.Series(score1, index = names1) \n",
    "s2 = pd.Series(score2, index = names2)"
   ]
  },
  {
   "cell_type": "code",
   "execution_count": 85,
   "metadata": {},
   "outputs": [
    {
     "data": {
      "text/html": [
       "<div>\n",
       "<style scoped>\n",
       "    .dataframe tbody tr th:only-of-type {\n",
       "        vertical-align: middle;\n",
       "    }\n",
       "\n",
       "    .dataframe tbody tr th {\n",
       "        vertical-align: top;\n",
       "    }\n",
       "\n",
       "    .dataframe thead th {\n",
       "        text-align: right;\n",
       "    }\n",
       "</style>\n",
       "<table border=\"1\" class=\"dataframe\">\n",
       "  <thead>\n",
       "    <tr style=\"text-align: right;\">\n",
       "      <th></th>\n",
       "      <th>수학</th>\n",
       "      <th>국어</th>\n",
       "    </tr>\n",
       "  </thead>\n",
       "  <tbody>\n",
       "    <tr>\n",
       "      <th>둘리</th>\n",
       "      <td>84</td>\n",
       "      <td>87</td>\n",
       "    </tr>\n",
       "    <tr>\n",
       "      <th>호이</th>\n",
       "      <td>21</td>\n",
       "      <td>15</td>\n",
       "    </tr>\n",
       "    <tr>\n",
       "      <th>영미</th>\n",
       "      <td>87</td>\n",
       "      <td>84</td>\n",
       "    </tr>\n",
       "    <tr>\n",
       "      <th>길동</th>\n",
       "      <td>100</td>\n",
       "      <td>87</td>\n",
       "    </tr>\n",
       "    <tr>\n",
       "      <th>또치</th>\n",
       "      <td>59</td>\n",
       "      <td>99</td>\n",
       "    </tr>\n",
       "    <tr>\n",
       "      <th>마이클</th>\n",
       "      <td>46</td>\n",
       "      <td>77</td>\n",
       "    </tr>\n",
       "  </tbody>\n",
       "</table>\n",
       "</div>"
      ],
      "text/plain": [
       "      수학  국어\n",
       "둘리    84  87\n",
       "호이    21  15\n",
       "영미    87  84\n",
       "길동   100  87\n",
       "또치    59  99\n",
       "마이클   46  77"
      ]
     },
     "execution_count": 85,
     "metadata": {},
     "output_type": "execute_result"
    }
   ],
   "source": [
    "d0 = pd.DataFrame()          # 인덱스에 맞춰서 값을 가져옴\n",
    "d0['수학'] = s1              # s1대신 score1로 해보기\n",
    "d0['국어'] = s2              # s2대신 score2로 해보기\n",
    "d0"
   ]
  },
  {
   "cell_type": "code",
   "execution_count": 86,
   "metadata": {},
   "outputs": [
    {
     "data": {
      "text/html": [
       "<div>\n",
       "<style scoped>\n",
       "    .dataframe tbody tr th:only-of-type {\n",
       "        vertical-align: middle;\n",
       "    }\n",
       "\n",
       "    .dataframe tbody tr th {\n",
       "        vertical-align: top;\n",
       "    }\n",
       "\n",
       "    .dataframe thead th {\n",
       "        text-align: right;\n",
       "    }\n",
       "</style>\n",
       "<table border=\"1\" class=\"dataframe\">\n",
       "  <thead>\n",
       "    <tr style=\"text-align: right;\">\n",
       "      <th></th>\n",
       "      <th>수학</th>\n",
       "      <th>국어</th>\n",
       "    </tr>\n",
       "  </thead>\n",
       "  <tbody>\n",
       "    <tr>\n",
       "      <th>0</th>\n",
       "      <td>84</td>\n",
       "      <td>99</td>\n",
       "    </tr>\n",
       "    <tr>\n",
       "      <th>1</th>\n",
       "      <td>21</td>\n",
       "      <td>87</td>\n",
       "    </tr>\n",
       "    <tr>\n",
       "      <th>2</th>\n",
       "      <td>87</td>\n",
       "      <td>87</td>\n",
       "    </tr>\n",
       "    <tr>\n",
       "      <th>3</th>\n",
       "      <td>100</td>\n",
       "      <td>84</td>\n",
       "    </tr>\n",
       "    <tr>\n",
       "      <th>4</th>\n",
       "      <td>59</td>\n",
       "      <td>77</td>\n",
       "    </tr>\n",
       "    <tr>\n",
       "      <th>5</th>\n",
       "      <td>46</td>\n",
       "      <td>15</td>\n",
       "    </tr>\n",
       "  </tbody>\n",
       "</table>\n",
       "</div>"
      ],
      "text/plain": [
       "    수학  국어\n",
       "0   84  99\n",
       "1   21  87\n",
       "2   87  87\n",
       "3  100  84\n",
       "4   59  77\n",
       "5   46  15"
      ]
     },
     "execution_count": 86,
     "metadata": {},
     "output_type": "execute_result"
    }
   ],
   "source": [
    "d1 = pd.DataFrame()         # 인덱스 부분이 없어서 그냥 순서대로 매칭해서 값 가져옴\n",
    "d1['수학'] = score1\n",
    "d1['국어'] = score2\n",
    "d1                       "
   ]
  },
  {
   "cell_type": "code",
   "execution_count": 110,
   "metadata": {},
   "outputs": [
    {
     "data": {
      "text/plain": [
       "array([[ 84,  87,  78],\n",
       "       [ 21,  15,  84],\n",
       "       [ 87,  84,  76],\n",
       "       [100,  87,  99],\n",
       "       [ 59,  99,  59],\n",
       "       [ 46,  77,  56]])"
      ]
     },
     "execution_count": 110,
     "metadata": {},
     "output_type": "execute_result"
    }
   ],
   "source": [
    "# 원표시 또는 역슬래시 넣고 엔터치고 밑에 쓰면 한줄로 인식함(단, 빈칸이나 주석이 \\뒤에 있음 안됨)\n",
    "\n",
    "scores = np.array([84,87,78,21,15,84,87,84,76,100,87,99,\\\n",
    "                   59,99,59,46,77,56]).reshape(6,3)\n",
    "scores"
   ]
  },
  {
   "cell_type": "code",
   "execution_count": 111,
   "metadata": {},
   "outputs": [
    {
     "data": {
      "text/html": [
       "<div>\n",
       "<style scoped>\n",
       "    .dataframe tbody tr th:only-of-type {\n",
       "        vertical-align: middle;\n",
       "    }\n",
       "\n",
       "    .dataframe tbody tr th {\n",
       "        vertical-align: top;\n",
       "    }\n",
       "\n",
       "    .dataframe thead th {\n",
       "        text-align: right;\n",
       "    }\n",
       "</style>\n",
       "<table border=\"1\" class=\"dataframe\">\n",
       "  <thead>\n",
       "    <tr style=\"text-align: right;\">\n",
       "      <th></th>\n",
       "      <th>0</th>\n",
       "      <th>1</th>\n",
       "      <th>2</th>\n",
       "    </tr>\n",
       "  </thead>\n",
       "  <tbody>\n",
       "    <tr>\n",
       "      <th>0</th>\n",
       "      <td>84</td>\n",
       "      <td>87</td>\n",
       "      <td>78</td>\n",
       "    </tr>\n",
       "    <tr>\n",
       "      <th>1</th>\n",
       "      <td>21</td>\n",
       "      <td>15</td>\n",
       "      <td>84</td>\n",
       "    </tr>\n",
       "    <tr>\n",
       "      <th>2</th>\n",
       "      <td>87</td>\n",
       "      <td>84</td>\n",
       "      <td>76</td>\n",
       "    </tr>\n",
       "    <tr>\n",
       "      <th>3</th>\n",
       "      <td>100</td>\n",
       "      <td>87</td>\n",
       "      <td>99</td>\n",
       "    </tr>\n",
       "    <tr>\n",
       "      <th>4</th>\n",
       "      <td>59</td>\n",
       "      <td>99</td>\n",
       "      <td>59</td>\n",
       "    </tr>\n",
       "    <tr>\n",
       "      <th>5</th>\n",
       "      <td>46</td>\n",
       "      <td>77</td>\n",
       "      <td>56</td>\n",
       "    </tr>\n",
       "  </tbody>\n",
       "</table>\n",
       "</div>"
      ],
      "text/plain": [
       "     0   1   2\n",
       "0   84  87  78\n",
       "1   21  15  84\n",
       "2   87  84  76\n",
       "3  100  87  99\n",
       "4   59  99  59\n",
       "5   46  77  56"
      ]
     },
     "execution_count": 111,
     "metadata": {},
     "output_type": "execute_result"
    }
   ],
   "source": [
    "d2 = pd.DataFrame(scores)\n",
    "d2"
   ]
  },
  {
   "cell_type": "code",
   "execution_count": 112,
   "metadata": {},
   "outputs": [],
   "source": [
    "names = ['둘리', '호이', '영미', '길동', '또치', '마이클']\n",
    "lectures = ['수학', '국어', '영어']"
   ]
  },
  {
   "cell_type": "code",
   "execution_count": 113,
   "metadata": {},
   "outputs": [
    {
     "data": {
      "text/html": [
       "<div>\n",
       "<style scoped>\n",
       "    .dataframe tbody tr th:only-of-type {\n",
       "        vertical-align: middle;\n",
       "    }\n",
       "\n",
       "    .dataframe tbody tr th {\n",
       "        vertical-align: top;\n",
       "    }\n",
       "\n",
       "    .dataframe thead th {\n",
       "        text-align: right;\n",
       "    }\n",
       "</style>\n",
       "<table border=\"1\" class=\"dataframe\">\n",
       "  <thead>\n",
       "    <tr style=\"text-align: right;\">\n",
       "      <th></th>\n",
       "      <th>수학</th>\n",
       "      <th>국어</th>\n",
       "      <th>영어</th>\n",
       "    </tr>\n",
       "  </thead>\n",
       "  <tbody>\n",
       "    <tr>\n",
       "      <th>둘리</th>\n",
       "      <td>84</td>\n",
       "      <td>87</td>\n",
       "      <td>78</td>\n",
       "    </tr>\n",
       "    <tr>\n",
       "      <th>호이</th>\n",
       "      <td>21</td>\n",
       "      <td>15</td>\n",
       "      <td>84</td>\n",
       "    </tr>\n",
       "    <tr>\n",
       "      <th>영미</th>\n",
       "      <td>87</td>\n",
       "      <td>84</td>\n",
       "      <td>76</td>\n",
       "    </tr>\n",
       "    <tr>\n",
       "      <th>길동</th>\n",
       "      <td>100</td>\n",
       "      <td>87</td>\n",
       "      <td>99</td>\n",
       "    </tr>\n",
       "    <tr>\n",
       "      <th>또치</th>\n",
       "      <td>59</td>\n",
       "      <td>99</td>\n",
       "      <td>59</td>\n",
       "    </tr>\n",
       "    <tr>\n",
       "      <th>마이클</th>\n",
       "      <td>46</td>\n",
       "      <td>77</td>\n",
       "      <td>56</td>\n",
       "    </tr>\n",
       "  </tbody>\n",
       "</table>\n",
       "</div>"
      ],
      "text/plain": [
       "      수학  국어  영어\n",
       "둘리    84  87  78\n",
       "호이    21  15  84\n",
       "영미    87  84  76\n",
       "길동   100  87  99\n",
       "또치    59  99  59\n",
       "마이클   46  77  56"
      ]
     },
     "execution_count": 113,
     "metadata": {},
     "output_type": "execute_result"
    }
   ],
   "source": [
    "d3 = pd.DataFrame(scores, index = names, columns = lectures)\n",
    "d3"
   ]
  },
  {
   "cell_type": "code",
   "execution_count": 114,
   "metadata": {},
   "outputs": [],
   "source": [
    "scoresWithLectures = {'수학': [84, 21, 87, 100, 59, 46], \\\n",
    "                     '국어': [87, 84, 76, 100, 87, 99], \\\n",
    "                     '영어': [59,99,59,46,77,56]}"
   ]
  },
  {
   "cell_type": "code",
   "execution_count": 115,
   "metadata": {},
   "outputs": [
    {
     "data": {
      "text/html": [
       "<div>\n",
       "<style scoped>\n",
       "    .dataframe tbody tr th:only-of-type {\n",
       "        vertical-align: middle;\n",
       "    }\n",
       "\n",
       "    .dataframe tbody tr th {\n",
       "        vertical-align: top;\n",
       "    }\n",
       "\n",
       "    .dataframe thead th {\n",
       "        text-align: right;\n",
       "    }\n",
       "</style>\n",
       "<table border=\"1\" class=\"dataframe\">\n",
       "  <thead>\n",
       "    <tr style=\"text-align: right;\">\n",
       "      <th></th>\n",
       "      <th>수학</th>\n",
       "      <th>국어</th>\n",
       "      <th>영어</th>\n",
       "    </tr>\n",
       "  </thead>\n",
       "  <tbody>\n",
       "    <tr>\n",
       "      <th>둘리</th>\n",
       "      <td>84</td>\n",
       "      <td>87</td>\n",
       "      <td>59</td>\n",
       "    </tr>\n",
       "    <tr>\n",
       "      <th>호이</th>\n",
       "      <td>21</td>\n",
       "      <td>84</td>\n",
       "      <td>99</td>\n",
       "    </tr>\n",
       "    <tr>\n",
       "      <th>영미</th>\n",
       "      <td>87</td>\n",
       "      <td>76</td>\n",
       "      <td>59</td>\n",
       "    </tr>\n",
       "    <tr>\n",
       "      <th>길동</th>\n",
       "      <td>100</td>\n",
       "      <td>100</td>\n",
       "      <td>46</td>\n",
       "    </tr>\n",
       "    <tr>\n",
       "      <th>또치</th>\n",
       "      <td>59</td>\n",
       "      <td>87</td>\n",
       "      <td>77</td>\n",
       "    </tr>\n",
       "    <tr>\n",
       "      <th>마이클</th>\n",
       "      <td>46</td>\n",
       "      <td>99</td>\n",
       "      <td>56</td>\n",
       "    </tr>\n",
       "  </tbody>\n",
       "</table>\n",
       "</div>"
      ],
      "text/plain": [
       "      수학   국어  영어\n",
       "둘리    84   87  59\n",
       "호이    21   84  99\n",
       "영미    87   76  59\n",
       "길동   100  100  46\n",
       "또치    59   87  77\n",
       "마이클   46   99  56"
      ]
     },
     "execution_count": 115,
     "metadata": {},
     "output_type": "execute_result"
    }
   ],
   "source": [
    "d4 = pd.DataFrame(scoresWithLectures, index = names)\n",
    "d4"
   ]
  },
  {
   "cell_type": "code",
   "execution_count": 7,
   "metadata": {},
   "outputs": [
    {
     "name": "stdout",
     "output_type": "stream",
     "text": [
      "이름: 철수 영희 슬기\n",
      "과목: 수학 과학\n",
      "입력된 이름: ['철수', '영희', '슬기']\n",
      "입력된 과목: ['수학', '과학']\n"
     ]
    },
    {
     "data": {
      "text/plain": [
       "\"listOfScores = pd.DataFrame(index = names)\\nfor subject in subjects:\\n    scores = input('\\n'+' '.join(names) + '의 ' + subject + ' 성적: ').split()\\n    listOfScores[subject] = list(map(int, scores))\\nlistOfScores\""
      ]
     },
     "execution_count": 7,
     "metadata": {},
     "output_type": "execute_result"
    }
   ],
   "source": [
    "import pandas as pd\n",
    "import numpy as np\n",
    "names = input('이름: ').split()\n",
    "subjects = input('과목: ').split()\n",
    "\n",
    "print('입력된 이름:', names) # 테스트\n",
    "print('입력된 과목:', subjects) # 테스트\n",
    "\n",
    "'''listOfScores = pd.DataFrame(index = names)\n",
    "for subject in subjects:\n",
    "    scores = input('\\n'+' '.join(names) + '의 ' + subject + ' 성적: ').split()\n",
    "    listOfScores[subject] = list(map(int, scores))\n",
    "listOfScores'''"
   ]
  },
  {
   "cell_type": "code",
   "execution_count": 8,
   "metadata": {},
   "outputs": [
    {
     "name": "stdout",
     "output_type": "stream",
     "text": [
      "\n",
      "철수 영희 슬기의 수학 성적: 100 90 80\n",
      "\n",
      "철수 영희 슬기의 과학 성적: 40 50 60\n"
     ]
    },
    {
     "data": {
      "text/plain": [
       "[[100, 90, 80], [40, 50, 60]]"
      ]
     },
     "execution_count": 8,
     "metadata": {},
     "output_type": "execute_result"
    }
   ],
   "source": [
    "listOfScores = []\n",
    "for subject in subjects:\n",
    "    scores = input('\\n'+' '.join(names) + '의 ' + subject + ' 성적: ').split()\n",
    "    listOfScores.append(list(map(int, scores)))\n",
    "listOfScores"
   ]
  },
  {
   "cell_type": "code",
   "execution_count": 9,
   "metadata": {},
   "outputs": [
    {
     "data": {
      "text/html": [
       "<div>\n",
       "<style scoped>\n",
       "    .dataframe tbody tr th:only-of-type {\n",
       "        vertical-align: middle;\n",
       "    }\n",
       "\n",
       "    .dataframe tbody tr th {\n",
       "        vertical-align: top;\n",
       "    }\n",
       "\n",
       "    .dataframe thead th {\n",
       "        text-align: right;\n",
       "    }\n",
       "</style>\n",
       "<table border=\"1\" class=\"dataframe\">\n",
       "  <thead>\n",
       "    <tr style=\"text-align: right;\">\n",
       "      <th></th>\n",
       "      <th>수학</th>\n",
       "      <th>과학</th>\n",
       "    </tr>\n",
       "  </thead>\n",
       "  <tbody>\n",
       "    <tr>\n",
       "      <th>철수</th>\n",
       "      <td>100</td>\n",
       "      <td>40</td>\n",
       "    </tr>\n",
       "    <tr>\n",
       "      <th>영희</th>\n",
       "      <td>90</td>\n",
       "      <td>50</td>\n",
       "    </tr>\n",
       "    <tr>\n",
       "      <th>슬기</th>\n",
       "      <td>80</td>\n",
       "      <td>60</td>\n",
       "    </tr>\n",
       "  </tbody>\n",
       "</table>\n",
       "</div>"
      ],
      "text/plain": [
       "     수학  과학\n",
       "철수  100  40\n",
       "영희   90  50\n",
       "슬기   80  60"
      ]
     },
     "execution_count": 9,
     "metadata": {},
     "output_type": "execute_result"
    }
   ],
   "source": [
    "pd.DataFrame(np.array(listOfScores).T, index = names, columns = subjects)"
   ]
  },
  {
   "cell_type": "code",
   "execution_count": null,
   "metadata": {},
   "outputs": [],
   "source": []
  }
 ],
 "metadata": {
  "kernelspec": {
   "display_name": "Python 3",
   "language": "python",
   "name": "python3"
  },
  "language_info": {
   "codemirror_mode": {
    "name": "ipython",
    "version": 3
   },
   "file_extension": ".py",
   "mimetype": "text/x-python",
   "name": "python",
   "nbconvert_exporter": "python",
   "pygments_lexer": "ipython3",
   "version": "3.7.3"
  }
 },
 "nbformat": 4,
 "nbformat_minor": 2
}
