{
 "cells": [
  {
   "cell_type": "code",
   "execution_count": 1,
   "metadata": {},
   "outputs": [
    {
     "ename": "SyntaxError",
     "evalue": "invalid syntax (<ipython-input-1-e85350d1ac5e>, line 2)",
     "output_type": "error",
     "traceback": [
      "\u001b[1;36m  File \u001b[1;32m\"<ipython-input-1-e85350d1ac5e>\"\u001b[1;36m, line \u001b[1;32m2\u001b[0m\n\u001b[1;33m    - class\u001b[0m\n\u001b[1;37m          ^\u001b[0m\n\u001b[1;31mSyntaxError\u001b[0m\u001b[1;31m:\u001b[0m invalid syntax\n"
     ]
    }
   ],
   "source": [
    "# class 변수의 접근\n",
    "- class "
   ]
  },
  {
   "cell_type": "code",
   "execution_count": 5,
   "metadata": {},
   "outputs": [],
   "source": [
    "class miner:\n",
    "    totalMineral = 0                   # class 정의 내 - method 정의 외\n",
    "    def __init__(self, mineral):\n",
    "        self.mineral = mineral\n",
    "        miner.totalMineral += mineral   # instance method 정의 내\n",
    "    def miningMineral(self):\n",
    "        self.mineral += 10\n",
    "        miner.totalMineral += 10"
   ]
  },
  {
   "cell_type": "code",
   "execution_count": 6,
   "metadata": {},
   "outputs": [],
   "source": [
    "SCV = miner(50)\n",
    "probe = miner(100)"
   ]
  },
  {
   "cell_type": "code",
   "execution_count": 7,
   "metadata": {},
   "outputs": [
    {
     "data": {
      "text/plain": [
       "150"
      ]
     },
     "execution_count": 7,
     "metadata": {},
     "output_type": "execute_result"
    }
   ],
   "source": [
    "miner.totalMineral        # class 정의 외 - class이름으로 접근"
   ]
  },
  {
   "cell_type": "code",
   "execution_count": 8,
   "metadata": {},
   "outputs": [],
   "source": [
    "SCV.miningMineral()"
   ]
  },
  {
   "cell_type": "code",
   "execution_count": 9,
   "metadata": {},
   "outputs": [
    {
     "data": {
      "text/plain": [
       "160"
      ]
     },
     "execution_count": 9,
     "metadata": {},
     "output_type": "execute_result"
    }
   ],
   "source": [
    "SCV.totalMineral               # class 정의 외 - instance이름으로 접근"
   ]
  },
  {
   "cell_type": "code",
   "execution_count": 11,
   "metadata": {},
   "outputs": [
    {
     "data": {
      "text/plain": [
       "(60, 100, 160, 160, 160)"
      ]
     },
     "execution_count": 11,
     "metadata": {},
     "output_type": "execute_result"
    }
   ],
   "source": [
    "SCV.mineral, probe.mineral, miner.totalMineral, probe.totalMineral, SCV.totalMineral"
   ]
  },
  {
   "cell_type": "code",
   "execution_count": 19,
   "metadata": {},
   "outputs": [],
   "source": [
    "class miner:\n",
    "    mineral = 0          # 이름을 겹치게 똑같이 바꿈(구별이 안되기 때문에 전역 말고 가까운 지역 호출)\n",
    "    def __init__(self, mineral):\n",
    "        self.mineral = mineral\n",
    "        miner.totalMineral += mineral   \n",
    "    def miningMineral(self):\n",
    "        self.mineral += 10\n",
    "        miner.totalMineral += 10"
   ]
  },
  {
   "cell_type": "code",
   "execution_count": 20,
   "metadata": {},
   "outputs": [
    {
     "ename": "AttributeError",
     "evalue": "type object 'miner' has no attribute 'totalMineral'",
     "output_type": "error",
     "traceback": [
      "\u001b[1;31m---------------------------------------------------------------------------\u001b[0m",
      "\u001b[1;31mAttributeError\u001b[0m                            Traceback (most recent call last)",
      "\u001b[1;32m<ipython-input-20-61cefc43963b>\u001b[0m in \u001b[0;36m<module>\u001b[1;34m\u001b[0m\n\u001b[1;32m----> 1\u001b[1;33m \u001b[0mSCV\u001b[0m \u001b[1;33m=\u001b[0m \u001b[0mminer\u001b[0m\u001b[1;33m(\u001b[0m\u001b[1;36m50\u001b[0m\u001b[1;33m)\u001b[0m\u001b[1;33m\u001b[0m\u001b[1;33m\u001b[0m\u001b[0m\n\u001b[0m\u001b[0;32m      2\u001b[0m \u001b[0mprobe\u001b[0m \u001b[1;33m=\u001b[0m \u001b[0mminer\u001b[0m\u001b[1;33m(\u001b[0m\u001b[1;36m100\u001b[0m\u001b[1;33m)\u001b[0m\u001b[1;33m\u001b[0m\u001b[1;33m\u001b[0m\u001b[0m\n",
      "\u001b[1;32m<ipython-input-19-551b7311fd9d>\u001b[0m in \u001b[0;36m__init__\u001b[1;34m(self, mineral)\u001b[0m\n\u001b[0;32m      3\u001b[0m     \u001b[1;32mdef\u001b[0m \u001b[0m__init__\u001b[0m\u001b[1;33m(\u001b[0m\u001b[0mself\u001b[0m\u001b[1;33m,\u001b[0m \u001b[0mmineral\u001b[0m\u001b[1;33m)\u001b[0m\u001b[1;33m:\u001b[0m\u001b[1;33m\u001b[0m\u001b[1;33m\u001b[0m\u001b[0m\n\u001b[0;32m      4\u001b[0m         \u001b[0mself\u001b[0m\u001b[1;33m.\u001b[0m\u001b[0mmineral\u001b[0m \u001b[1;33m=\u001b[0m \u001b[0mmineral\u001b[0m\u001b[1;33m\u001b[0m\u001b[1;33m\u001b[0m\u001b[0m\n\u001b[1;32m----> 5\u001b[1;33m         \u001b[0mminer\u001b[0m\u001b[1;33m.\u001b[0m\u001b[0mtotalMineral\u001b[0m \u001b[1;33m+=\u001b[0m \u001b[0mmineral\u001b[0m\u001b[1;33m\u001b[0m\u001b[1;33m\u001b[0m\u001b[0m\n\u001b[0m\u001b[0;32m      6\u001b[0m     \u001b[1;32mdef\u001b[0m \u001b[0mminingMineral\u001b[0m\u001b[1;33m(\u001b[0m\u001b[0mself\u001b[0m\u001b[1;33m)\u001b[0m\u001b[1;33m:\u001b[0m\u001b[1;33m\u001b[0m\u001b[1;33m\u001b[0m\u001b[0m\n\u001b[0;32m      7\u001b[0m         \u001b[0mself\u001b[0m\u001b[1;33m.\u001b[0m\u001b[0mmineral\u001b[0m \u001b[1;33m+=\u001b[0m \u001b[1;36m10\u001b[0m\u001b[1;33m\u001b[0m\u001b[1;33m\u001b[0m\u001b[0m\n",
      "\u001b[1;31mAttributeError\u001b[0m: type object 'miner' has no attribute 'totalMineral'"
     ]
    }
   ],
   "source": [
    "SCV = miner(50)\n",
    "probe = miner(100)"
   ]
  },
  {
   "cell_type": "code",
   "execution_count": 21,
   "metadata": {},
   "outputs": [
    {
     "data": {
      "text/plain": [
       "0"
      ]
     },
     "execution_count": 21,
     "metadata": {},
     "output_type": "execute_result"
    }
   ],
   "source": [
    "miner.mineral  "
   ]
  },
  {
   "cell_type": "code",
   "execution_count": 22,
   "metadata": {},
   "outputs": [
    {
     "ename": "AttributeError",
     "evalue": "type object 'miner' has no attribute 'totalMineral'",
     "output_type": "error",
     "traceback": [
      "\u001b[1;31m---------------------------------------------------------------------------\u001b[0m",
      "\u001b[1;31mAttributeError\u001b[0m                            Traceback (most recent call last)",
      "\u001b[1;32m<ipython-input-22-69eed9d3669d>\u001b[0m in \u001b[0;36m<module>\u001b[1;34m\u001b[0m\n\u001b[1;32m----> 1\u001b[1;33m \u001b[0mSCV\u001b[0m\u001b[1;33m.\u001b[0m\u001b[0mminingMineral\u001b[0m\u001b[1;33m(\u001b[0m\u001b[1;33m)\u001b[0m\u001b[1;33m\u001b[0m\u001b[1;33m\u001b[0m\u001b[0m\n\u001b[0m",
      "\u001b[1;32m<ipython-input-12-ae56b14f1143>\u001b[0m in \u001b[0;36mminingMineral\u001b[1;34m(self)\u001b[0m\n\u001b[0;32m      6\u001b[0m     \u001b[1;32mdef\u001b[0m \u001b[0mminingMineral\u001b[0m\u001b[1;33m(\u001b[0m\u001b[0mself\u001b[0m\u001b[1;33m)\u001b[0m\u001b[1;33m:\u001b[0m\u001b[1;33m\u001b[0m\u001b[1;33m\u001b[0m\u001b[0m\n\u001b[0;32m      7\u001b[0m         \u001b[0mself\u001b[0m\u001b[1;33m.\u001b[0m\u001b[0mmineral\u001b[0m \u001b[1;33m+=\u001b[0m \u001b[1;36m10\u001b[0m\u001b[1;33m\u001b[0m\u001b[1;33m\u001b[0m\u001b[0m\n\u001b[1;32m----> 8\u001b[1;33m         \u001b[0mminer\u001b[0m\u001b[1;33m.\u001b[0m\u001b[0mtotalMineral\u001b[0m \u001b[1;33m+=\u001b[0m \u001b[1;36m10\u001b[0m\u001b[1;33m\u001b[0m\u001b[1;33m\u001b[0m\u001b[0m\n\u001b[0m\u001b[0;32m      9\u001b[0m     \u001b[1;33m@\u001b[0m\u001b[0mclassmethod\u001b[0m\u001b[1;33m\u001b[0m\u001b[1;33m\u001b[0m\u001b[0m\n\u001b[0;32m     10\u001b[0m     \u001b[1;32mdef\u001b[0m \u001b[0mprintMineral\u001b[0m\u001b[1;33m(\u001b[0m\u001b[0mcls\u001b[0m\u001b[1;33m)\u001b[0m\u001b[1;33m:\u001b[0m\u001b[1;33m\u001b[0m\u001b[1;33m\u001b[0m\u001b[0m\n",
      "\u001b[1;31mAttributeError\u001b[0m: type object 'miner' has no attribute 'totalMineral'"
     ]
    }
   ],
   "source": [
    "SCV.miningMineral()"
   ]
  },
  {
   "cell_type": "code",
   "execution_count": 23,
   "metadata": {},
   "outputs": [
    {
     "data": {
      "text/plain": [
       "60"
      ]
     },
     "execution_count": 23,
     "metadata": {},
     "output_type": "execute_result"
    }
   ],
   "source": [
    "SCV.mineral  "
   ]
  },
  {
   "cell_type": "code",
   "execution_count": 24,
   "metadata": {},
   "outputs": [
    {
     "data": {
      "text/plain": [
       "(60, 100, 0, 100, 60)"
      ]
     },
     "execution_count": 24,
     "metadata": {},
     "output_type": "execute_result"
    }
   ],
   "source": [
    "SCV.mineral, probe.mineral, miner.mineral, probe.mineral, SCV.mineral"
   ]
  },
  {
   "cell_type": "code",
   "execution_count": 25,
   "metadata": {},
   "outputs": [],
   "source": [
    "class miner:\n",
    "    totalMineral = 0\n",
    "    def __init__(self, mineral):\n",
    "        self.mineral = mineral\n",
    "        miner.totalMineral += mineral\n",
    "    def miningMineral(self):\n",
    "        self.mineral += 10\n",
    "        miner.totalMineral += 10\n",
    "    @classmethod                       # 쓰는이유?? \n",
    "    def printMineral(cls):\n",
    "        print(cls.totalMineral)"
   ]
  },
  {
   "cell_type": "code",
   "execution_count": 26,
   "metadata": {},
   "outputs": [
    {
     "name": "stdout",
     "output_type": "stream",
     "text": [
      "50\n"
     ]
    }
   ],
   "source": [
    "SCV = miner(50)\n",
    "miner.printMineral()"
   ]
  },
  {
   "cell_type": "code",
   "execution_count": 27,
   "metadata": {},
   "outputs": [
    {
     "name": "stdout",
     "output_type": "stream",
     "text": [
      "60\n"
     ]
    }
   ],
   "source": [
    "SCV.miningMineral()\n",
    "SCV.printMineral()"
   ]
  },
  {
   "cell_type": "code",
   "execution_count": 28,
   "metadata": {},
   "outputs": [
    {
     "name": "stdout",
     "output_type": "stream",
     "text": [
      "60\n"
     ]
    }
   ],
   "source": [
    "miner.printMineral()"
   ]
  },
  {
   "cell_type": "code",
   "execution_count": 1,
   "metadata": {},
   "outputs": [],
   "source": [
    "class miner:\n",
    "    totalMineral = 0\n",
    "    totalGas = 0\n",
    "    minerNum = 0\n",
    "    def __init__(self, mineral, gas):\n",
    "        self.mineral = mineral\n",
    "        self.gas = gas\n",
    "        miner.totalMineral += mineral\n",
    "        miner.totalGas += gas\n",
    "        miner.minerNum += 1\n",
    "        print('+')\n",
    "    def __del__(self):\n",
    "        miner.minerNum -= 1\n",
    "        print('-')\n",
    "    def miningMineral(self):\n",
    "        self.mineral += 10\n",
    "        miner.totalMineral += 10\n",
    "    def miningGas(self):\n",
    "        self.gas += 5\n",
    "        miner.totalGas += 5\n",
    "    @classmethod\n",
    "    def printMinerNum(cls):\n",
    "        print(cls.minerNum)"
   ]
  },
  {
   "cell_type": "code",
   "execution_count": 6,
   "metadata": {},
   "outputs": [
    {
     "name": "stdout",
     "output_type": "stream",
     "text": [
      "Variable   Type     Data/Info\n",
      "-----------------------------\n",
      "SCV        miner    <__main__.miner object at 0x0000024B7609A390>\n",
      "miner      type     <class '__main__.miner'>\n",
      "probe      miner    <__main__.miner object at 0x0000024B7609A320>\n"
     ]
    }
   ],
   "source": [
    "%whos"
   ]
  },
  {
   "cell_type": "code",
   "execution_count": 3,
   "metadata": {},
   "outputs": [
    {
     "name": "stdout",
     "output_type": "stream",
     "text": [
      "0\n"
     ]
    }
   ],
   "source": [
    "miner.printMinerNum()"
   ]
  },
  {
   "cell_type": "code",
   "execution_count": 7,
   "metadata": {},
   "outputs": [
    {
     "name": "stdout",
     "output_type": "stream",
     "text": [
      "+\n",
      "-\n",
      "+\n",
      "-\n",
      "2\n"
     ]
    }
   ],
   "source": [
    "SCV = miner(50, 100)\n",
    "probe = miner(30, 5)\n",
    "miner.printMinerNum()"
   ]
  },
  {
   "cell_type": "code",
   "execution_count": 5,
   "metadata": {},
   "outputs": [],
   "source": [
    "class miner:\n",
    "    def __init__(self, mineral):\n",
    "        self.mineral = mineral \n",
    "    def add(self, other): \n",
    "        return miner(self.mineral + other.mineral)"
   ]
  },
  {
   "cell_type": "code",
   "execution_count": 6,
   "metadata": {},
   "outputs": [],
   "source": [
    "SCV = miner(50) \n",
    "probe = miner(100)"
   ]
  },
  {
   "cell_type": "code",
   "execution_count": 7,
   "metadata": {},
   "outputs": [
    {
     "data": {
      "text/plain": [
       "150"
      ]
     },
     "execution_count": 7,
     "metadata": {},
     "output_type": "execute_result"
    }
   ],
   "source": [
    "drone = SCV.add(probe) \n",
    "drone.mineral"
   ]
  },
  {
   "cell_type": "code",
   "execution_count": 8,
   "metadata": {},
   "outputs": [],
   "source": [
    "class miner:\n",
    "    def __init__(self, mineral):\n",
    "        self.mineral = mineral \n",
    "    def __add__(self, other):               # 이부분 바뀜\n",
    "        return miner(self.mineral + other.mineral)"
   ]
  },
  {
   "cell_type": "code",
   "execution_count": 9,
   "metadata": {},
   "outputs": [],
   "source": [
    "SCV = miner(50) \n",
    "probe = miner(100)"
   ]
  },
  {
   "cell_type": "code",
   "execution_count": 10,
   "metadata": {},
   "outputs": [
    {
     "data": {
      "text/plain": [
       "150"
      ]
     },
     "execution_count": 10,
     "metadata": {},
     "output_type": "execute_result"
    }
   ],
   "source": [
    "drone = SCV + probe  # SCV.__add__(probe)와 동일 \n",
    "drone.mineral"
   ]
  },
  {
   "cell_type": "code",
   "execution_count": 6,
   "metadata": {},
   "outputs": [],
   "source": [
    "class miner: \n",
    "    def __init__(self, mineral, gas): \n",
    "        self.mineral = mineral \n",
    "        self.gas = gas\n",
    "    def __add__(self, other):\n",
    "        return miner(self.mineral + other.mineral, self.gas + other.gas)\n",
    "    def __sub__(self, other):\n",
    "        self.mineral, other.mineral = other.mineral, self.mineral\n",
    "        self.gas, other.gas = other.gas, self.gas\n",
    "    def __mul__(self, other):\n",
    "        return miner(max(self.mineral, other.mineral), max(self.gas, other.gas))"
   ]
  },
  {
   "cell_type": "code",
   "execution_count": 7,
   "metadata": {},
   "outputs": [],
   "source": [
    "SCV = miner(50, 100)\n",
    "probe = miner(30, 5)"
   ]
  },
  {
   "cell_type": "code",
   "execution_count": 8,
   "metadata": {},
   "outputs": [
    {
     "data": {
      "text/plain": [
       "(80, 105)"
      ]
     },
     "execution_count": 8,
     "metadata": {},
     "output_type": "execute_result"
    }
   ],
   "source": [
    "drone1 = SCV + probe\n",
    "drone1.mineral, drone1.gas"
   ]
  },
  {
   "cell_type": "code",
   "execution_count": 9,
   "metadata": {},
   "outputs": [
    {
     "ename": "TypeError",
     "evalue": "'miner' object is not callable",
     "output_type": "error",
     "traceback": [
      "\u001b[1;31m---------------------------------------------------------------------------\u001b[0m",
      "\u001b[1;31mTypeError\u001b[0m                                 Traceback (most recent call last)",
      "\u001b[1;32m<ipython-input-9-14cf48c7529b>\u001b[0m in \u001b[0;36m<module>\u001b[1;34m\u001b[0m\n\u001b[1;32m----> 1\u001b[1;33m \u001b[0mSCV\u001b[0m\u001b[1;33m(\u001b[0m\u001b[1;33m)\u001b[0m\u001b[1;33m\u001b[0m\u001b[1;33m\u001b[0m\u001b[0m\n\u001b[0m\u001b[0;32m      2\u001b[0m \u001b[0mprobe\u001b[0m\u001b[1;33m(\u001b[0m\u001b[1;33m)\u001b[0m\u001b[1;33m\u001b[0m\u001b[1;33m\u001b[0m\u001b[0m\n\u001b[0;32m      3\u001b[0m \u001b[0mdrone2\u001b[0m \u001b[1;33m=\u001b[0m \u001b[0mSCV\u001b[0m \u001b[1;33m-\u001b[0m \u001b[0mprobe\u001b[0m\u001b[1;33m\u001b[0m\u001b[1;33m\u001b[0m\u001b[0m\n\u001b[0;32m      4\u001b[0m \u001b[0mSCV\u001b[0m\u001b[1;33m(\u001b[0m\u001b[1;33m)\u001b[0m\u001b[1;33m\u001b[0m\u001b[1;33m\u001b[0m\u001b[0m\n\u001b[0;32m      5\u001b[0m \u001b[0mprobe\u001b[0m\u001b[1;33m(\u001b[0m\u001b[1;33m)\u001b[0m\u001b[1;33m\u001b[0m\u001b[1;33m\u001b[0m\u001b[0m\n",
      "\u001b[1;31mTypeError\u001b[0m: 'miner' object is not callable"
     ]
    }
   ],
   "source": [
    "SCV()\n",
    "probe()\n",
    "drone2 = SCV - probe\n",
    "SCV()\n",
    "probe()"
   ]
  },
  {
   "cell_type": "code",
   "execution_count": 10,
   "metadata": {},
   "outputs": [
    {
     "ename": "TypeError",
     "evalue": "'miner' object is not callable",
     "output_type": "error",
     "traceback": [
      "\u001b[1;31m---------------------------------------------------------------------------\u001b[0m",
      "\u001b[1;31mTypeError\u001b[0m                                 Traceback (most recent call last)",
      "\u001b[1;32m<ipython-input-10-29b072fef2b7>\u001b[0m in \u001b[0;36m<module>\u001b[1;34m\u001b[0m\n\u001b[0;32m      1\u001b[0m \u001b[0mdrone3\u001b[0m \u001b[1;33m=\u001b[0m \u001b[0mSCV\u001b[0m \u001b[1;33m*\u001b[0m \u001b[0mprobe\u001b[0m\u001b[1;33m\u001b[0m\u001b[1;33m\u001b[0m\u001b[0m\n\u001b[1;32m----> 2\u001b[1;33m \u001b[0mdrone3\u001b[0m\u001b[1;33m(\u001b[0m\u001b[1;33m)\u001b[0m\u001b[1;33m\u001b[0m\u001b[1;33m\u001b[0m\u001b[0m\n\u001b[0m",
      "\u001b[1;31mTypeError\u001b[0m: 'miner' object is not callable"
     ]
    }
   ],
   "source": [
    "drone3 = SCV * probe\n",
    "drone3()"
   ]
  },
  {
   "cell_type": "code",
   "execution_count": 1,
   "metadata": {},
   "outputs": [],
   "source": [
    "class miner: \n",
    "    def __init__(self, mineral, gas): \n",
    "        self.mineral = mineral \n",
    "        self.gas = gas\n",
    "    def __call__(self): print(\"Mineral:\", self.mineral, \"Gas:\", self.gas)  # 이부분 바뀜\n",
    "    def __add__(self, other):\n",
    "        return miner(self.mineral + other.mineral, self.gas + other.gas)\n",
    "    def __sub__(self, other):\n",
    "        self.mineral, other.mineral = other.mineral, self.mineral\n",
    "        self.gas, other.gas = other.gas, self.gas\n",
    "        # self, other = other, self  이건 안됨(자체를 대체하면 새롭게 바인딩 하는거라 내부에만 영향을 미침)\n",
    "    def __mul__(self, other):\n",
    "        return miner(max(self.mineral, other.mineral), max(self.gas, other.gas))"
   ]
  },
  {
   "cell_type": "code",
   "execution_count": 2,
   "metadata": {},
   "outputs": [],
   "source": [
    "SCV = miner(50, 100)\n",
    "probe = miner(30, 5)"
   ]
  },
  {
   "cell_type": "code",
   "execution_count": 3,
   "metadata": {},
   "outputs": [
    {
     "data": {
      "text/plain": [
       "(80, 105)"
      ]
     },
     "execution_count": 3,
     "metadata": {},
     "output_type": "execute_result"
    }
   ],
   "source": [
    "drone1 = SCV + probe\n",
    "drone1.mineral, drone1.gas"
   ]
  },
  {
   "cell_type": "code",
   "execution_count": null,
   "metadata": {},
   "outputs": [],
   "source": [
    "SCV()\n",
    "probe()\n",
    "SCV, probe = probe, SCV\n",
    "SCV()\n",
    "probe()"
   ]
  },
  {
   "cell_type": "code",
   "execution_count": 4,
   "metadata": {},
   "outputs": [
    {
     "name": "stdout",
     "output_type": "stream",
     "text": [
      "Mineral: 50 Gas: 100\n",
      "Mineral: 30 Gas: 5\n",
      "Mineral: 30 Gas: 5\n",
      "Mineral: 50 Gas: 100\n"
     ]
    }
   ],
   "source": [
    "SCV()\n",
    "probe()\n",
    "drone2 = SCV - probe\n",
    "SCV()\n",
    "probe()"
   ]
  },
  {
   "cell_type": "code",
   "execution_count": 5,
   "metadata": {},
   "outputs": [
    {
     "name": "stdout",
     "output_type": "stream",
     "text": [
      "Mineral: 50 Gas: 100\n"
     ]
    }
   ],
   "source": [
    "drone3 = SCV * probe\n",
    "drone3()"
   ]
  },
  {
   "cell_type": "code",
   "execution_count": 13,
   "metadata": {},
   "outputs": [],
   "source": [
    "def addItem(ListIn, ItemIn):\n",
    "    #ListIn.append(ItemIn)\n",
    "    #ListIn = ListIn + [ItemIn]\n",
    "    ListIn += [ItemIn]\n",
    "    \n",
    "a = [1, 2, 3]"
   ]
  },
  {
   "cell_type": "code",
   "execution_count": 14,
   "metadata": {},
   "outputs": [
    {
     "data": {
      "text/plain": [
       "[1, 2, 3, 5]"
      ]
     },
     "execution_count": 14,
     "metadata": {},
     "output_type": "execute_result"
    }
   ],
   "source": [
    "addItem(a, 5)\n",
    "a"
   ]
  },
  {
   "cell_type": "code",
   "execution_count": 18,
   "metadata": {},
   "outputs": [],
   "source": [
    "class miner:\n",
    "    def __init__(self, mineral):\n",
    "        self.mineral = mineral\n",
    "    def miningMineral(self):\n",
    "        self.mineral += 10"
   ]
  },
  {
   "cell_type": "code",
   "execution_count": 19,
   "metadata": {},
   "outputs": [],
   "source": [
    "class goldMiner(miner):\n",
    "    def __init__(self, mineral, gold):\n",
    "        super().__init__(mineral)\n",
    "        self.gold = gold\n",
    "    def miningGold(self):\n",
    "        self.gold += 10"
   ]
  },
  {
   "cell_type": "code",
   "execution_count": 38,
   "metadata": {},
   "outputs": [],
   "source": [
    "class goldMiner(miner): \n",
    "    def __init__(self, mineral, gold): \n",
    "        super().__init__(mineral) \n",
    "        self.gold = gold \n",
    "    def miningMineral(self): \n",
    "        self.mineral += 10 + self.gold * 0.01"
   ]
  },
  {
   "cell_type": "code",
   "execution_count": 46,
   "metadata": {},
   "outputs": [
    {
     "name": "stdout",
     "output_type": "stream",
     "text": [
      "grandparent\n",
      "parent1\n",
      "grandparent\n",
      "parent2\n",
      "child\n"
     ]
    }
   ],
   "source": [
    "class grandparent:\n",
    "    def __init__(self):\n",
    "        print(\"grandparent\")\n",
    "class parent1(grandparent):\n",
    "    def __init__(self):\n",
    "        grandparent.__init__(self)\n",
    "        print(\"parent1\")\n",
    "class parent2(grandparent):\n",
    "    def __init__(self):\n",
    "        grandparent.__init__(self)\n",
    "        print(\"parent2\")\n",
    "class child(parent1, parent2):\n",
    "    def __init__(self):\n",
    "        parent1.__init__(self)\n",
    "        parent2.__init__(self)\n",
    "        print(\"child\")\n",
    "person = child()"
   ]
  },
  {
   "cell_type": "code",
   "execution_count": 47,
   "metadata": {},
   "outputs": [
    {
     "name": "stdout",
     "output_type": "stream",
     "text": [
      "grandparent\n",
      "parent2\n",
      "parent1\n",
      "child\n"
     ]
    }
   ],
   "source": [
    "class grandparent:\n",
    "    def __init__(self):\n",
    "        print(\"grandparent\")\n",
    "class parent1(grandparent):\n",
    "    def __init__(self):\n",
    "        super().__init__()\n",
    "        print(\"parent1\")\n",
    "class parent2(grandparent):\n",
    "    def __init__(self):\n",
    "        super().__init__()\n",
    "        print(\"parent2\")\n",
    "class child(parent1, parent2):\n",
    "    def __init__(self):\n",
    "        super().__init__()\n",
    "        print(\"child\")\n",
    "person = child()"
   ]
  },
  {
   "cell_type": "code",
   "execution_count": 15,
   "metadata": {},
   "outputs": [],
   "source": [
    "# Anaconda Prompt 접속 idle 치면 버전 3.6.5의 파이썬 shell이 열림 여기에 모듈 부분 넣기"
   ]
  },
  {
   "cell_type": "code",
   "execution_count": 16,
   "metadata": {},
   "outputs": [],
   "source": [
    "def addItem(ListIn, ItemIn):\n",
    "    #ListIn.append(ItemIn)\n",
    "    #ListIn = ListIn + [ItemIn]\n",
    "    ListIn += [ItemIn]"
   ]
  },
  {
   "cell_type": "code",
   "execution_count": null,
   "metadata": {},
   "outputs": [],
   "source": [
    "a = [1, 2, 3]"
   ]
  },
  {
   "cell_type": "code",
   "execution_count": null,
   "metadata": {},
   "outputs": [],
   "source": [
    "addItem(a, 4)"
   ]
  },
  {
   "cell_type": "code",
   "execution_count": null,
   "metadata": {},
   "outputs": [],
   "source": [
    "a"
   ]
  },
  {
   "cell_type": "code",
   "execution_count": null,
   "metadata": {},
   "outputs": [],
   "source": [
    "def add(x, y): return x + y \n",
    "def sub(x, y): return x – y\n",
    "\n",
    "print(add(3, 4)) \n",
    "print(sub(7, 2)) \n",
    "print(\"cal.py의이름:\", __name__)"
   ]
  },
  {
   "cell_type": "code",
   "execution_count": null,
   "metadata": {},
   "outputs": [],
   "source": [
    "def add(x, y): return x + y \n",
    "def sub(x, y): return x – y\n",
    "\n",
    "if __name__ == \"__main__\":    # 딱 이곳을 실행시키면 name이 바로 main 이 되어서 조건 성립\n",
    "    print(add(3, 4)) \n",
    "    print(sub(7, 2))"
   ]
  },
  {
   "cell_type": "code",
   "execution_count": null,
   "metadata": {},
   "outputs": [],
   "source": []
  },
  {
   "cell_type": "code",
   "execution_count": null,
   "metadata": {},
   "outputs": [],
   "source": []
  }
 ],
 "metadata": {
  "kernelspec": {
   "display_name": "Python 3",
   "language": "python",
   "name": "python3"
  },
  "language_info": {
   "codemirror_mode": {
    "name": "ipython",
    "version": 3
   },
   "file_extension": ".py",
   "mimetype": "text/x-python",
   "name": "python",
   "nbconvert_exporter": "python",
   "pygments_lexer": "ipython3",
   "version": "3.7.3"
  }
 },
 "nbformat": 4,
 "nbformat_minor": 2
}
