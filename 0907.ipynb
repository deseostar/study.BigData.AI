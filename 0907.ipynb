{
 "cells": [
  {
   "cell_type": "code",
   "execution_count": null,
   "metadata": {},
   "outputs": [],
   "source": [
    "import random\n",
    "inputChoice = input('1에서 10중 복권 예상 4개 번호를 입력하세요: ')\n",
    "choice = inputChoice.split()\n",
    "lottery = random.sample(range(1,11),4)\n",
    "choice = [int (i) for i in choice]\n",
    "total = choice + lottery\n",
    "\n",
    "print(total)\n",
    "\n",
    "n = 0\n",
    "while n < 9:\n",
    "    i = total.count(choice[n])\n",
    "    print(i)\n",
    "    if i == 2:\n",
    "        k = str(choice[n])\n",
    "        print(k)\n",
    "n += 1"
   ]
  },
  {
   "cell_type": "code",
   "execution_count": 4,
   "metadata": {},
   "outputs": [
    {
     "name": "stdout",
     "output_type": "stream",
     "text": [
      "1에서 10중 복권 예상 4개 번호를 입력하세요: 1 2 3 4\n",
      "['1', '2', '3', '4']\n",
      "이번주 복권 번호는 [1, 5, 8, 9] 입니다.\n",
      "맞춘 숫자는 [1] 입니다\n",
      "1개를 맞춰 당청금은 0원입니다.\n",
      "그만하시겠습니까? n\n",
      "1에서 10중 복권 예상 4개 번호를 입력하세요: 1 2 3 4\n",
      "['1', '2', '3', '4']\n",
      "이번주 복권 번호는 [4, 5, 7, 8] 입니다.\n",
      "맞춘 숫자는 [4] 입니다\n",
      "1개를 맞춰 당청금은 0원입니다.\n",
      "그만하시겠습니까? y\n",
      "총 당첨금은 0\n"
     ]
    }
   ],
   "source": [
    "import random\n",
    "winnings = [0,0,0,5000,10000]\n",
    "totalWinnings = 0\n",
    "\n",
    "while True:\n",
    "    # 1. 숫자 입력\n",
    "    inputChoice = input('1에서 10중 복권 예상 4개 번호를 입력하세요: ')\n",
    "    choice = inputChoice.split()\n",
    "    \n",
    "    # 2. 복권 번호 생성\n",
    "    lottery = sorted(random.sample(range(1,11),4))\n",
    "    print(choice)\n",
    "    print('이번주 복권 번호는', lottery, '입니다.')\n",
    "\n",
    "    # 3. 번호 비교\n",
    "    matchNums = []\n",
    "    i = 0\n",
    "    while i < 4:\n",
    "        if int(choice[i]) in lottery:\n",
    "            matchNums.append(int(choice[i]))\n",
    "        i += 1\n",
    "    print('맞춘 숫자는', matchNums, '입니다')\n",
    "    \n",
    "    # 4. 결과 출력\n",
    "    print('%d개를 맞춰 당청금은 %d원입니다.' % (len(matchNums), winnings[len(matchNums)]))\n",
    "    totalWinnings += winnings[len(matchNums)]\n",
    "    \n",
    "    # 5. 반복 여부 입력\n",
    "    if input('그만하시겠습니까? ').lower() == 'y' : break\n",
    "\n",
    "print('총 당첨금은', totalWinnings)"
   ]
  },
  {
   "cell_type": "code",
   "execution_count": 31,
   "metadata": {},
   "outputs": [
    {
     "name": "stdout",
     "output_type": "stream",
     "text": [
      "문장을 입력하세요: A gift in season is a double favor to  needys\n",
      "['A', 'gift', 'in', 'season', 'is', 'double', 'favor', 'to', 'needys']\n"
     ]
    }
   ],
   "source": [
    "words = input(\"문장을 입력하세요: \").split()\n",
    "\n",
    "while 'a' in words: words.remove('a')\n",
    "while 'an' in words: words.remove('an')\n",
    "while 'the' in words: words.remove('the')\n",
    "\n",
    "print(words)\n",
    "#A gift in season is a double favor to the needys."
   ]
  },
  {
   "cell_type": "code",
   "execution_count": 33,
   "metadata": {},
   "outputs": [
    {
     "name": "stdout",
     "output_type": "stream",
     "text": [
      "문장을 입력하세요: A gift in season is a double favor to  needys.\n",
      "['gift', 'in', 'season', 'is', 'double', 'favor', 'to', 'needys']\n"
     ]
    }
   ],
   "source": [
    "words = input(\"문장을 입력하세요: \").replace('.','').split()\n",
    "i = 0\n",
    "repeat = len(words)\n",
    "while i < repeat:\n",
    "    if words[i].lower() in ['a', 'an', 'the']:\n",
    "        del words[i]\n",
    "        repeat -= 1\n",
    "    else:\n",
    "        i += 1\n",
    "    \n",
    "print(words)\n",
    "#A gift in season is a double favor to the needys."
   ]
  },
  {
   "cell_type": "code",
   "execution_count": 1,
   "metadata": {},
   "outputs": [
    {
     "name": "stdout",
     "output_type": "stream",
     "text": [
      "문장을 입력하세요: #A gift in season is a double favor to the needys.\n",
      "['#A', 'gift', 'in', 'season', 'is', 'double', 'favor', 'to', 'needys']\n"
     ]
    }
   ],
   "source": [
    "words = input(\"문장을 입력하세요: \").replace('.','').split()\n",
    "newWords = []\n",
    "i = 0\n",
    "while i < len(words):\n",
    "    if words[i].lower() not in ['a', 'an', 'the']: \n",
    "        newWords.append(words[i])\n",
    "    i += 1    \n",
    "    \n",
    "print(newWords)\n",
    "#A gift in season is a double favor to the needys."
   ]
  },
  {
   "cell_type": "code",
   "execution_count": 2,
   "metadata": {},
   "outputs": [
    {
     "name": "stdout",
     "output_type": "stream",
     "text": [
      "구이름과 동이름을 입력하세요: 강동구 노원구 용산구 상암동 서울시 논현동 평창동 중구\n",
      "상암동\n",
      "논현동\n",
      "평창동\n"
     ]
    }
   ],
   "source": [
    "gudo = input(\"구이름과 동이름을 입력하세요: \").split()\n",
    "i = 0\n",
    "while i < len(gudo):\n",
    "    if gudo[i][-1] == '동':\n",
    "        print(gudo[i])\n",
    "    i += 1"
   ]
  },
  {
   "cell_type": "code",
   "execution_count": 10,
   "metadata": {},
   "outputs": [
    {
     "name": "stdout",
     "output_type": "stream",
     "text": [
      "상품관리(1. 삽입, 2. 삭제, 3. 상품 확인, 4. 재고 확인, 5. 종료): 1\n",
      "상품관리 1- 삽입) 삽입하고자 하는 상품은? 사과\n",
      "상품관리 1- 삽입) 삽입하고자 하는 위치는? 4\n",
      "상품관리(1. 삽입, 2. 삭제, 3. 상품 확인, 4. 재고 확인, 5. 종료): 2\n",
      "상품관리2-삭제) 삭제하고자 하는 상품은? 장난감\n",
      "상품관리(1. 삽입, 2. 삭제, 3. 상품 확인, 4. 재고 확인, 5. 종료): 3\n",
      "상품관리3-상품 확인) 확인하고자 하는 상품은? 베개\n",
      "True\n",
      "상품관리(1. 삽입, 2. 삭제, 3. 상품 확인, 4. 재고 확인, 5. 종료): 4\n",
      "상품관리4-재고 확인:  ['커피', '우유', '바나나', '사과', '감귤', '화장지', '장갑', '이불', '베개', '음료수', '빵']\n",
      "상품관리(1. 삽입, 2. 삭제, 3. 상품 확인, 4. 재고 확인, 5. 종료): 5\n"
     ]
    }
   ],
   "source": [
    "product = '커피, 우유, 바나나, 감귤, 화장지, 장갑, 이불, 베개, 장난감, 음료수, 빵'.split(', ')\n",
    "\n",
    "while True:\n",
    "    m = int(input(\"상품관리(1. 삽입, 2. 삭제, 3. 상품 확인, 4. 재고 확인, 5. 종료): \"))\n",
    "    if m == 1:\n",
    "        aa = input(\"상품관리 1- 삽입) 삽입하고자 하는 상품은? \")\n",
    "        ab = int(input(\"상품관리 1- 삽입) 삽입하고자 하는 위치는? \"))\n",
    "        product.insert(ab-1, aa)\n",
    "    elif m == 2:\n",
    "        bb = input(\"상품관리2-삭제) 삭제하고자 하는 상품은? \")\n",
    "        product.remove(bb)\n",
    "    elif m == 3:\n",
    "        cc = input(\"상품관리3-상품 확인) 확인하고자 하는 상품은? \")\n",
    "        print(cc in product)\n",
    "    elif m == 4:\n",
    "        print(\"상품관리4-재고 확인: \", product)\n",
    "    elif m == 5:\n",
    "        break\n",
    "    else :\n",
    "        break\n",
    "#커피, 우유, 바나나, 감귤, 화장지, 장갑, 이불, 베개, 장난감, 음료수, 빵"
   ]
  },
  {
   "cell_type": "code",
   "execution_count": 23,
   "metadata": {},
   "outputs": [
    {
     "data": {
      "text/plain": [
       "(1, 2, 3)"
      ]
     },
     "execution_count": 23,
     "metadata": {},
     "output_type": "execute_result"
    }
   ],
   "source": [
    "# 튜플(tuple)\n",
    "a = 1,2,3\n",
    "a"
   ]
  },
  {
   "cell_type": "code",
   "execution_count": 24,
   "metadata": {},
   "outputs": [
    {
     "data": {
      "text/plain": [
       "1"
      ]
     },
     "execution_count": 24,
     "metadata": {},
     "output_type": "execute_result"
    }
   ],
   "source": [
    "a, b, c = 1, 2, 3\n",
    "a"
   ]
  },
  {
   "cell_type": "code",
   "execution_count": 25,
   "metadata": {},
   "outputs": [
    {
     "data": {
      "text/plain": [
       "(2, 1)"
      ]
     },
     "execution_count": 25,
     "metadata": {},
     "output_type": "execute_result"
    }
   ],
   "source": [
    "a, b = b, a\n",
    "a, b"
   ]
  },
  {
   "cell_type": "code",
   "execution_count": 28,
   "metadata": {},
   "outputs": [
    {
     "data": {
      "text/plain": [
       "(1, 3, 4, 4, 5)"
      ]
     },
     "execution_count": 28,
     "metadata": {},
     "output_type": "execute_result"
    }
   ],
   "source": [
    "a = 1, 3, 4\n",
    "a + (4, 5)"
   ]
  },
  {
   "cell_type": "code",
   "execution_count": 29,
   "metadata": {},
   "outputs": [
    {
     "data": {
      "text/plain": [
       "1"
      ]
     },
     "execution_count": 29,
     "metadata": {},
     "output_type": "execute_result"
    }
   ],
   "source": [
    "a[0]"
   ]
  },
  {
   "cell_type": "code",
   "execution_count": 31,
   "metadata": {},
   "outputs": [
    {
     "data": {
      "text/plain": [
       "{1, 2, 3, 4, 5}"
      ]
     },
     "execution_count": 31,
     "metadata": {},
     "output_type": "execute_result"
    }
   ],
   "source": [
    "# set\n",
    "a = {1,2,3,4,5}\n",
    "a"
   ]
  },
  {
   "cell_type": "code",
   "execution_count": 33,
   "metadata": {},
   "outputs": [
    {
     "data": {
      "text/plain": [
       "{1, 2, 3, 4, 5}"
      ]
     },
     "execution_count": 33,
     "metadata": {},
     "output_type": "execute_result"
    }
   ],
   "source": [
    "b = set([3,1,2,2,3,5,4,4,2])\n",
    "b"
   ]
  },
  {
   "cell_type": "code",
   "execution_count": 34,
   "metadata": {},
   "outputs": [
    {
     "name": "stdout",
     "output_type": "stream",
     "text": [
      "{1, 3, 4, 5, 7, 9}\n",
      "{1}\n",
      "{0, 3}\n",
      "{0, 1, 3, 4, 9}\n",
      "{0, 1, 4, 9}\n"
     ]
    }
   ],
   "source": [
    "a = {7,3,1,5}\n",
    "b = {1,4,7,9,5}\n",
    "c= {0,3,1}\n",
    "print(a|b) #합집합\n",
    "print(b&c) #교집합\n",
    "print(c-(a&b)) #차집합\n",
    "print((a^b)|c) #대칭차집합(합집합-교집합)\n",
    "print(a^b^c)"
   ]
  },
  {
   "cell_type": "code",
   "execution_count": 6,
   "metadata": {},
   "outputs": [
    {
     "data": {
      "text/plain": [
       "{1, 2, 3, 4, 5, 7}"
      ]
     },
     "execution_count": 6,
     "metadata": {},
     "output_type": "execute_result"
    }
   ],
   "source": [
    "a = {1,2,3,4,5}\n",
    "a.add(7)\n",
    "a"
   ]
  },
  {
   "cell_type": "code",
   "execution_count": 7,
   "metadata": {},
   "outputs": [
    {
     "data": {
      "text/plain": [
       "{1, 2, 3, 5, 7}"
      ]
     },
     "execution_count": 7,
     "metadata": {},
     "output_type": "execute_result"
    }
   ],
   "source": [
    "a.remove(4)\n",
    "a"
   ]
  },
  {
   "cell_type": "code",
   "execution_count": 8,
   "metadata": {},
   "outputs": [
    {
     "data": {
      "text/plain": [
       "{2, 3, 5, 7}"
      ]
     },
     "execution_count": 8,
     "metadata": {},
     "output_type": "execute_result"
    }
   ],
   "source": [
    "a.pop() # 가장 먼저 있는 아이템 반환\n",
    "a"
   ]
  },
  {
   "cell_type": "code",
   "execution_count": 4,
   "metadata": {},
   "outputs": [
    {
     "data": {
      "text/plain": [
       "set()"
      ]
     },
     "execution_count": 4,
     "metadata": {},
     "output_type": "execute_result"
    }
   ],
   "source": [
    "a.clear()\n",
    "a"
   ]
  },
  {
   "cell_type": "code",
   "execution_count": null,
   "metadata": {},
   "outputs": [],
   "source": []
  }
 ],
 "metadata": {
  "kernelspec": {
   "display_name": "Python 3",
   "language": "python",
   "name": "python3"
  },
  "language_info": {
   "codemirror_mode": {
    "name": "ipython",
    "version": 3
   },
   "file_extension": ".py",
   "mimetype": "text/x-python",
   "name": "python",
   "nbconvert_exporter": "python",
   "pygments_lexer": "ipython3",
   "version": "3.7.3"
  }
 },
 "nbformat": 4,
 "nbformat_minor": 2
}
