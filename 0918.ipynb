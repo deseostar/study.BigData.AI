{
 "cells": [
  {
   "cell_type": "markdown",
   "metadata": {},
   "source": [
    "# def decorator(func):\n",
    "    - def wrapper():\n",
    "        - statements()\n",
    "        - func()\n",
    "        - statement1\n",
    "    - return wrapper\n",
    "\n",
    "#호출\n",
    "    - decorated_funce = decorator(func)\n",
    "    - decorate_func()\n",
    "    or\n",
    "    - @decorator\n",
    "    - func()"
   ]
  },
  {
   "cell_type": "code",
   "execution_count": 2,
   "metadata": {},
   "outputs": [],
   "source": [
    "def decorator(func):\n",
    "    def wrapper():\n",
    "        print('시작~')\n",
    "        func()\n",
    "        print('끝~')\n",
    "    return wrapper"
   ]
  },
  {
   "cell_type": "code",
   "execution_count": 3,
   "metadata": {},
   "outputs": [
    {
     "name": "stdout",
     "output_type": "stream",
     "text": [
      "시작~\n",
      "Hello~\n",
      "끝~\n"
     ]
    }
   ],
   "source": [
    "def sayHello():print('Hello~')\n",
    "decorated_sayHello = decorator(sayHello)\n",
    "decorated_sayHello()"
   ]
  },
  {
   "cell_type": "code",
   "execution_count": 4,
   "metadata": {},
   "outputs": [
    {
     "name": "stdout",
     "output_type": "stream",
     "text": [
      "시작~\n",
      "Hello~\n",
      "끝~\n"
     ]
    }
   ],
   "source": [
    "@decorator\n",
    "def sayHello(): print('Hello~')\n",
    "sayHello()"
   ]
  },
  {
   "cell_type": "code",
   "execution_count": 25,
   "metadata": {},
   "outputs": [],
   "source": [
    "def decorator(func):\n",
    "    def wrapper(x):\n",
    "        print('시작~')\n",
    "        func(x)\n",
    "        print('끝~')\n",
    "    return wrapper"
   ]
  },
  {
   "cell_type": "code",
   "execution_count": 27,
   "metadata": {},
   "outputs": [
    {
     "name": "stdout",
     "output_type": "stream",
     "text": [
      "시작~\n",
      "HELLO!!!\n",
      "끝~\n"
     ]
    }
   ],
   "source": [
    "@decorator\n",
    "def yell(text):print(text.upper() + '!!!')\n",
    "yell('Hello')"
   ]
  },
  {
   "cell_type": "code",
   "execution_count": 35,
   "metadata": {},
   "outputs": [],
   "source": [
    "# 러닝타임 시간측정을 위한 함수\n",
    "import timeit\n",
    "\n",
    "def runTime(func):\n",
    "    'Measure run time'\n",
    "    def wrapper(*args):\n",
    "        'Run time - wrapper'\n",
    "        startTime = timeit.default_timer()\n",
    "        result = func(*args)\n",
    "        print('RunTime:', timeit.default_timer() - startTime)\n",
    "        return result\n",
    "    return wrapper"
   ]
  },
  {
   "cell_type": "code",
   "execution_count": 36,
   "metadata": {},
   "outputs": [
    {
     "name": "stdout",
     "output_type": "stream",
     "text": [
      "RunTime: 0.09920039999997243\n",
      "333332833333500000\n",
      "RunTime: 0.4409619999996721\n",
      "333332833333500000\n"
     ]
    }
   ],
   "source": [
    "from functools import reduce\n",
    "@runTime\n",
    "def sumAll(nums):\n",
    "    'sum all values of nums'\n",
    "    return reduce(lambda x, y: x + y, nums)\n",
    "print(sumAll([x ** 2 for x in range(1000000)]))\n",
    "print(sumAll((x ** 2 for x in range(1000000))))"
   ]
  },
  {
   "cell_type": "code",
   "execution_count": 37,
   "metadata": {},
   "outputs": [
    {
     "data": {
      "text/plain": [
       "'wrapper'"
      ]
     },
     "execution_count": 37,
     "metadata": {},
     "output_type": "execute_result"
    }
   ],
   "source": [
    "sumAll.__name__"
   ]
  },
  {
   "cell_type": "code",
   "execution_count": 38,
   "metadata": {},
   "outputs": [
    {
     "data": {
      "text/plain": [
       "'Run time - wrapper'"
      ]
     },
     "execution_count": 38,
     "metadata": {},
     "output_type": "execute_result"
    }
   ],
   "source": [
    "sumAll.__doc__"
   ]
  },
  {
   "cell_type": "code",
   "execution_count": 39,
   "metadata": {},
   "outputs": [],
   "source": [
    "from functools import wraps    # 밑에 꺼를 쓰기 위해서 삽입\n",
    "import timeit\n",
    "def runTime(func):\n",
    "    'Measure run time'\n",
    "    @wraps(func)         # 이거 추가하면 실제 구동되는 함수 말고 원래 함수명이 나오게 만듬\n",
    "    def wrapper(*args):\n",
    "        'Run time - wrapper'\n",
    "        startTime = timeit.default_timer()\n",
    "        result = func(*args)\n",
    "        print('RunTime:', timeit.default_timer() - startTime)\n",
    "        return result\n",
    "    return wrapper"
   ]
  },
  {
   "cell_type": "code",
   "execution_count": 40,
   "metadata": {},
   "outputs": [
    {
     "name": "stdout",
     "output_type": "stream",
     "text": [
      "RunTime: 0.08054720000018278\n",
      "333332833333500000\n",
      "RunTime: 0.4459948000003351\n",
      "333332833333500000\n"
     ]
    }
   ],
   "source": [
    "from functools import reduce\n",
    "@runTime\n",
    "def sumAll(nums):\n",
    "    'sum all values of nums'\n",
    "    return reduce(lambda x, y: x + y, nums)\n",
    "print(sumAll([x ** 2 for x in range(1000000)]))\n",
    "print(sumAll((x ** 2 for x in range(1000000))))"
   ]
  },
  {
   "cell_type": "code",
   "execution_count": 41,
   "metadata": {},
   "outputs": [
    {
     "data": {
      "text/plain": [
       "'sumAll'"
      ]
     },
     "execution_count": 41,
     "metadata": {},
     "output_type": "execute_result"
    }
   ],
   "source": [
    "sumAll.__name__"
   ]
  },
  {
   "cell_type": "code",
   "execution_count": 42,
   "metadata": {},
   "outputs": [
    {
     "data": {
      "text/plain": [
       "'sum all values of nums'"
      ]
     },
     "execution_count": 42,
     "metadata": {},
     "output_type": "execute_result"
    }
   ],
   "source": [
    "sumAll.__doc__"
   ]
  },
  {
   "cell_type": "code",
   "execution_count": null,
   "metadata": {},
   "outputs": [],
   "source": []
  },
  {
   "cell_type": "code",
   "execution_count": 51,
   "metadata": {},
   "outputs": [],
   "source": [
    "class miner:\n",
    "    def genMiner(self):\n",
    "        print('광부가 생성되었습니다.')"
   ]
  },
  {
   "cell_type": "code",
   "execution_count": 52,
   "metadata": {},
   "outputs": [
    {
     "name": "stdout",
     "output_type": "stream",
     "text": [
      "광부가 생성되었습니다.\n"
     ]
    }
   ],
   "source": [
    "SCV = miner()\n",
    "SCV.genMiner()"
   ]
  },
  {
   "cell_type": "code",
   "execution_count": 55,
   "metadata": {},
   "outputs": [
    {
     "name": "stdout",
     "output_type": "stream",
     "text": [
      "광부가 생성되었습니다.\n"
     ]
    }
   ],
   "source": [
    "miner.genMiner(SCV)"
   ]
  },
  {
   "cell_type": "code",
   "execution_count": 63,
   "metadata": {},
   "outputs": [],
   "source": [
    "class miner:\n",
    "    def __init__(self, mineral):\n",
    "        self.mineral = mineral\n",
    "        print('광부가 생성되었습니다')\n",
    "    def __del__(self):\n",
    "        print('광부가 죽었습니다')"
   ]
  },
  {
   "cell_type": "code",
   "execution_count": 64,
   "metadata": {},
   "outputs": [
    {
     "name": "stdout",
     "output_type": "stream",
     "text": [
      "광부가 생성되었습니다\n"
     ]
    },
    {
     "data": {
      "text/plain": [
       "100"
      ]
     },
     "execution_count": 64,
     "metadata": {},
     "output_type": "execute_result"
    }
   ],
   "source": [
    "SCV = miner(100)\n",
    "SCV.mineral"
   ]
  },
  {
   "cell_type": "code",
   "execution_count": 65,
   "metadata": {},
   "outputs": [
    {
     "name": "stdout",
     "output_type": "stream",
     "text": [
      "광부가 죽었습니다\n"
     ]
    }
   ],
   "source": [
    "del SCV"
   ]
  },
  {
   "cell_type": "code",
   "execution_count": 66,
   "metadata": {},
   "outputs": [],
   "source": [
    "class miner:\n",
    "    def __init__(self, mineral):\n",
    "        self.mineral = mineral\n",
    "    def __call__(self):\n",
    "        print('현재 관물량은:', self.mineral)"
   ]
  },
  {
   "cell_type": "code",
   "execution_count": 67,
   "metadata": {},
   "outputs": [],
   "source": [
    "SCV = miner(100)"
   ]
  },
  {
   "cell_type": "code",
   "execution_count": 68,
   "metadata": {},
   "outputs": [
    {
     "name": "stdout",
     "output_type": "stream",
     "text": [
      "현재 관물량은: 100\n"
     ]
    }
   ],
   "source": [
    "SCV()"
   ]
  },
  {
   "cell_type": "code",
   "execution_count": 78,
   "metadata": {},
   "outputs": [],
   "source": [
    "class miner:\n",
    "    def __init__(self, mineral):\n",
    "        self.mineral = mineral\n",
    "    def miningMineral(self): self.mineral += 10\n",
    "SCV = miner(100)"
   ]
  },
  {
   "cell_type": "code",
   "execution_count": 79,
   "metadata": {},
   "outputs": [],
   "source": [
    "SCV.miningMineral()"
   ]
  },
  {
   "cell_type": "code",
   "execution_count": 80,
   "metadata": {},
   "outputs": [
    {
     "data": {
      "text/plain": [
       "110"
      ]
     },
     "execution_count": 80,
     "metadata": {},
     "output_type": "execute_result"
    }
   ],
   "source": [
    "SCV.mineral"
   ]
  },
  {
   "cell_type": "code",
   "execution_count": 81,
   "metadata": {},
   "outputs": [],
   "source": [
    "miner.miningMineral(SCV)"
   ]
  },
  {
   "cell_type": "code",
   "execution_count": 82,
   "metadata": {},
   "outputs": [
    {
     "data": {
      "text/plain": [
       "120"
      ]
     },
     "execution_count": 82,
     "metadata": {},
     "output_type": "execute_result"
    }
   ],
   "source": [
    "SCV.mineral"
   ]
  },
  {
   "cell_type": "code",
   "execution_count": 83,
   "metadata": {},
   "outputs": [],
   "source": [
    "class miner:\n",
    "    def __init__(self, mineral):\n",
    "        self.mineral = mineral\n",
    "SCV = miner(100)"
   ]
  },
  {
   "cell_type": "code",
   "execution_count": 84,
   "metadata": {},
   "outputs": [],
   "source": [
    "SCV.mineral += 10"
   ]
  },
  {
   "cell_type": "code",
   "execution_count": 85,
   "metadata": {},
   "outputs": [
    {
     "data": {
      "text/plain": [
       "110"
      ]
     },
     "execution_count": 85,
     "metadata": {},
     "output_type": "execute_result"
    }
   ],
   "source": [
    "SCV.mineral"
   ]
  },
  {
   "cell_type": "code",
   "execution_count": 86,
   "metadata": {},
   "outputs": [],
   "source": [
    "class miner:\n",
    "    def __init__(self, mineral):   \n",
    "        self.__mineral = mineral  # __ 추가 하면 외부에서 접근못하고 그런거 없다고 나온다\n",
    "SCV = miner(100)"
   ]
  },
  {
   "cell_type": "code",
   "execution_count": 87,
   "metadata": {},
   "outputs": [
    {
     "ename": "AttributeError",
     "evalue": "'miner' object has no attribute '__mineral'",
     "output_type": "error",
     "traceback": [
      "\u001b[1;31m---------------------------------------------------------------------------\u001b[0m",
      "\u001b[1;31mAttributeError\u001b[0m                            Traceback (most recent call last)",
      "\u001b[1;32m<ipython-input-87-c3f30a7f2ada>\u001b[0m in \u001b[0;36m<module>\u001b[1;34m\u001b[0m\n\u001b[1;32m----> 1\u001b[1;33m \u001b[0mSCV\u001b[0m\u001b[1;33m.\u001b[0m\u001b[0m__mineral\u001b[0m\u001b[1;33m\u001b[0m\u001b[1;33m\u001b[0m\u001b[0m\n\u001b[0m",
      "\u001b[1;31mAttributeError\u001b[0m: 'miner' object has no attribute '__mineral'"
     ]
    }
   ],
   "source": [
    "SCV.__mineral"
   ]
  },
  {
   "cell_type": "code",
   "execution_count": 88,
   "metadata": {},
   "outputs": [
    {
     "ename": "AttributeError",
     "evalue": "'miner' object has no attribute '__mineral'",
     "output_type": "error",
     "traceback": [
      "\u001b[1;31m---------------------------------------------------------------------------\u001b[0m",
      "\u001b[1;31mAttributeError\u001b[0m                            Traceback (most recent call last)",
      "\u001b[1;32m<ipython-input-88-ec383eb7272e>\u001b[0m in \u001b[0;36m<module>\u001b[1;34m\u001b[0m\n\u001b[1;32m----> 1\u001b[1;33m \u001b[0mSCV\u001b[0m\u001b[1;33m.\u001b[0m\u001b[0m__mineral\u001b[0m \u001b[1;33m+=\u001b[0m \u001b[1;36m10\u001b[0m\u001b[1;33m\u001b[0m\u001b[1;33m\u001b[0m\u001b[0m\n\u001b[0m",
      "\u001b[1;31mAttributeError\u001b[0m: 'miner' object has no attribute '__mineral'"
     ]
    }
   ],
   "source": [
    "SCV.__mineral += 10"
   ]
  },
  {
   "cell_type": "code",
   "execution_count": 95,
   "metadata": {},
   "outputs": [],
   "source": [
    "class miner:\n",
    "    def __init__(self, mineral):\n",
    "        self.__mineral = mineral\n",
    "    def getMineral(self): return self.__mineral\n",
    "    def setMineral(self, mineral): self.__mineral = mineral\n",
    "SCV = miner(100)"
   ]
  },
  {
   "cell_type": "code",
   "execution_count": 96,
   "metadata": {},
   "outputs": [
    {
     "data": {
      "text/plain": [
       "100"
      ]
     },
     "execution_count": 96,
     "metadata": {},
     "output_type": "execute_result"
    }
   ],
   "source": [
    "SCV.getMineral()"
   ]
  },
  {
   "cell_type": "code",
   "execution_count": 99,
   "metadata": {},
   "outputs": [],
   "source": [
    "SCV.setMineral(200)"
   ]
  },
  {
   "cell_type": "code",
   "execution_count": 100,
   "metadata": {},
   "outputs": [
    {
     "data": {
      "text/plain": [
       "200"
      ]
     },
     "execution_count": 100,
     "metadata": {},
     "output_type": "execute_result"
    }
   ],
   "source": [
    "SCV.getMineral()"
   ]
  },
  {
   "cell_type": "code",
   "execution_count": 103,
   "metadata": {},
   "outputs": [],
   "source": [
    "class miner:\n",
    "    def __init__(self, mineral):\n",
    "        self.__mineral = mineral\n",
    "    @property                                   #접근자(getter)  @property\n",
    "    def mineral(self): return self.__mineral\n",
    "    @mineral.setter                             #설정자(setter)  @접근자명.setter\n",
    "    def mineral(self, m): self.__mineral = m\n",
    "SCV = miner(100)"
   ]
  },
  {
   "cell_type": "code",
   "execution_count": 104,
   "metadata": {},
   "outputs": [
    {
     "data": {
      "text/plain": [
       "100"
      ]
     },
     "execution_count": 104,
     "metadata": {},
     "output_type": "execute_result"
    }
   ],
   "source": [
    "SCV.mineral"
   ]
  },
  {
   "cell_type": "code",
   "execution_count": 105,
   "metadata": {},
   "outputs": [],
   "source": [
    "SCV.mineral = 200"
   ]
  },
  {
   "cell_type": "code",
   "execution_count": 106,
   "metadata": {},
   "outputs": [
    {
     "data": {
      "text/plain": [
       "200"
      ]
     },
     "execution_count": 106,
     "metadata": {},
     "output_type": "execute_result"
    }
   ],
   "source": [
    "SCV.mineral"
   ]
  },
  {
   "cell_type": "code",
   "execution_count": 109,
   "metadata": {},
   "outputs": [],
   "source": [
    "class miner:\n",
    "    def __init__(self, mineral):\n",
    "        self.__mineral = mineral\n",
    "    @property                                   \n",
    "    def ABC(self): return self.__mineral  # ABC로 바꿔서 외부에 실제 이름 숨기기(public, private개념)\n",
    "    @ABC.setter                             \n",
    "    def ABC(self, m): self.__mineral = m\n",
    "SCV = miner(100)"
   ]
  },
  {
   "cell_type": "code",
   "execution_count": 110,
   "metadata": {},
   "outputs": [
    {
     "data": {
      "text/plain": [
       "100"
      ]
     },
     "execution_count": 110,
     "metadata": {},
     "output_type": "execute_result"
    }
   ],
   "source": [
    "SCV.ABC"
   ]
  },
  {
   "cell_type": "code",
   "execution_count": 111,
   "metadata": {},
   "outputs": [],
   "source": [
    "SCV.ABC = 200"
   ]
  },
  {
   "cell_type": "code",
   "execution_count": 112,
   "metadata": {},
   "outputs": [
    {
     "data": {
      "text/plain": [
       "200"
      ]
     },
     "execution_count": 112,
     "metadata": {},
     "output_type": "execute_result"
    }
   ],
   "source": [
    "SCV.ABC"
   ]
  },
  {
   "cell_type": "code",
   "execution_count": 124,
   "metadata": {},
   "outputs": [],
   "source": [
    "class miner:\n",
    "    def __init__(self, mineral, gas):\n",
    "        self.__mineral = mineral\n",
    "        self.__gas = gas\n",
    "        \n",
    "    @property\n",
    "    def mineral(self): return self.__mineral\n",
    "    @mineral.setter\n",
    "    def mineral(self, m): self.__mineral = m\n",
    "    def miningMineral(self, m): self.__mineral += m\n",
    "        \n",
    "    @property\n",
    "    def gas(self): return self.__gas\n",
    "    @gas.setter\n",
    "    def gas(self, g): self.__gas = g\n",
    "    def miningGas(self, g): self.__gas += 5\n",
    "        \n",
    "    def __call__(self):\n",
    "        print(\"Mineral:\", self.__mineral, \"Gas:\", self.__gas)"
   ]
  },
  {
   "cell_type": "code",
   "execution_count": 125,
   "metadata": {},
   "outputs": [
    {
     "name": "stdout",
     "output_type": "stream",
     "text": [
      "Mineral: 100 Gas: 50\n"
     ]
    }
   ],
   "source": [
    "SCV = miner(100, 50)\n",
    "SCV()"
   ]
  },
  {
   "cell_type": "code",
   "execution_count": 127,
   "metadata": {},
   "outputs": [
    {
     "data": {
      "text/plain": [
       "50"
      ]
     },
     "execution_count": 127,
     "metadata": {},
     "output_type": "execute_result"
    }
   ],
   "source": [
    "SCV.gas"
   ]
  },
  {
   "cell_type": "code",
   "execution_count": null,
   "metadata": {},
   "outputs": [],
   "source": []
  }
 ],
 "metadata": {
  "kernelspec": {
   "display_name": "Python 3",
   "language": "python",
   "name": "python3"
  },
  "language_info": {
   "codemirror_mode": {
    "name": "ipython",
    "version": 3
   },
   "file_extension": ".py",
   "mimetype": "text/x-python",
   "name": "python",
   "nbconvert_exporter": "python",
   "pygments_lexer": "ipython3",
   "version": "3.7.3"
  }
 },
 "nbformat": 4,
 "nbformat_minor": 2
}
