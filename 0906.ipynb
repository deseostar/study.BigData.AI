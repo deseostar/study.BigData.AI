{
 "cells": [
  {
   "cell_type": "code",
   "execution_count": 1,
   "metadata": {},
   "outputs": [
    {
     "name": "stdout",
     "output_type": "stream",
     "text": [
      "동전을 넣으세요: 1300\n",
      "\n",
      "현재금액은 1300\n",
      "콜라(0), 사이다(1), 환불(2):0\n",
      "콜라가 나왔습니다.\n",
      "\n",
      "현재금액은 800\n",
      "콜라(0), 사이다(1), 환불(2):9\n",
      "\n",
      "현재금액은 800\n",
      "콜라(0), 사이다(1), 환불(2):1\n",
      "사이다가 나왔습니다.\n",
      "\n",
      "금액이 부족합니다.\n",
      "거스름돈은 300 입니다.\n"
     ]
    }
   ],
   "source": [
    "coin = int(input('동전을 넣으세요: '))\n",
    "while coin >= 500:\n",
    "    print('\\n현재금액은', coin)\n",
    "    sel = int(input('콜라(0), 사이다(1), 환불(2):'))\n",
    "    if sel == 0: print('콜라가 나왔습니다.')\n",
    "    elif sel == 1: print('사이다가 나왔습니다.')\n",
    "    elif sel == 2: break\n",
    "    else: continue\n",
    "    coin -= 500\n",
    "else: print('\\n금액이 부족합니다.')\n",
    "print('거스름돈은', coin, '입니다.')"
   ]
  },
  {
   "cell_type": "markdown",
   "metadata": {},
   "source": [
    "# 리스트(list)\n",
    "- item들의 모음... 집합과 비슷, but 순서 있음, 중복 있음\n",
    "- [1,2,3,4,5]\n",
    "- [5,4,3,2,1] 바로 위와 서로 다름\n",
    "- [3,8,1,3,2]\n",
    "- [1,'a',[1,2],'b']\n",
    "- ['aa','b','cde','fghi']\n",
    "- 덧셈과 곱셈을 할 수 있는데 string과 같은 방식임"
   ]
  },
  {
   "cell_type": "code",
   "execution_count": 8,
   "metadata": {},
   "outputs": [
    {
     "name": "stdout",
     "output_type": "stream",
     "text": [
      "1\n",
      "2\n",
      "3\n",
      "3\n",
      "2\n",
      "1\n"
     ]
    }
   ],
   "source": [
    "# 인덱싱(indexing)\n",
    "a = [1,2,3]\n",
    "print(a[0])\n",
    "print(a[1])\n",
    "print(a[2])\n",
    "print(a[-1])\n",
    "print(a[-2])\n",
    "print(a[-3])"
   ]
  },
  {
   "cell_type": "markdown",
   "metadata": {},
   "source": [
    "# list 슬라이싱(slicing)\n",
    "- list의 일부분을 잘라 냄(결과는 list...부분 집합과 비슷)\n",
    "- 사용방법: 변수[시작:끝:증감]\n",
    "    - 시작: 범위의 시작, 생략 시 0\n",
    "    - 끝: 범위의 끝, 생략 시 list의 크기\n",
    "        - 끝 인덱스는 미포함(직전 값까지)\n",
    "    - 증감: 자료를 취하는 간격, 생략 시 1"
   ]
  },
  {
   "cell_type": "code",
   "execution_count": 24,
   "metadata": {},
   "outputs": [
    {
     "name": "stdout",
     "output_type": "stream",
     "text": [
      "[0, 1]\n",
      "[2, 3, 4, 5, 6]\n",
      "[0, 2]\n",
      "[4, 2, 0]\n",
      "[3, 4]\n",
      "[4, 5, 6]\n",
      "[0, 1, 2, 3]\n",
      "[]\n",
      "[]\n",
      "[6, 4]\n",
      "[5, 3, 1]\n",
      "[0, 2, 4]\n",
      "[0, 2, 4, 6]\n",
      "[6, 4, 2, 0]\n"
     ]
    }
   ],
   "source": [
    "a = [0,1,2,3,4,5,6]\n",
    "print(a[0:2])\n",
    "print(a[2:])\n",
    "print(a[:4:2])\n",
    "print(a[4::-2])\n",
    "print(a[-4:-2])\n",
    "print(a[-3:])\n",
    "print(a[:-3])\n",
    "print(a[-1:-6:2]) # -1 주소값이 6인데 6 이후엔 숫자가 없기에 2씩 오른쪽 이동 불가능\n",
    "print(a[0:5:-2]) # 0 주소값이 0인데 0 이전 숫자가 없기에 2씩 왼쪽 이동 불가능\n",
    "print(a[-1:-5:-2])\n",
    "print(a[5:0:-2])\n",
    "print(a[0:5:2])\n",
    "print(a[::2])\n",
    "print(a[::-2])"
   ]
  },
  {
   "cell_type": "code",
   "execution_count": 35,
   "metadata": {},
   "outputs": [
    {
     "name": "stdout",
     "output_type": "stream",
     "text": [
      "True\n",
      "False\n"
     ]
    }
   ],
   "source": [
    "a = [0,1,2,3,4,5]\n",
    "print(3 in a)\n",
    "print(7 in a)"
   ]
  },
  {
   "cell_type": "code",
   "execution_count": 37,
   "metadata": {},
   "outputs": [
    {
     "name": "stdout",
     "output_type": "stream",
     "text": [
      "True\n",
      "0\n"
     ]
    }
   ],
   "source": [
    "supported_colors = ['red','blue','green']\n",
    "print('red' in supported_colors)\n",
    "print(supported_colors.index('red'))"
   ]
  },
  {
   "cell_type": "code",
   "execution_count": 38,
   "metadata": {},
   "outputs": [
    {
     "ename": "ValueError",
     "evalue": "'black' is not in list",
     "output_type": "error",
     "traceback": [
      "\u001b[1;31m---------------------------------------------------------------------------\u001b[0m",
      "\u001b[1;31mValueError\u001b[0m                                Traceback (most recent call last)",
      "\u001b[1;32m<ipython-input-38-214878ac5011>\u001b[0m in \u001b[0;36m<module>\u001b[1;34m\u001b[0m\n\u001b[1;32m----> 1\u001b[1;33m \u001b[0msupported_colors\u001b[0m\u001b[1;33m.\u001b[0m\u001b[0mindex\u001b[0m\u001b[1;33m(\u001b[0m\u001b[1;34m'black'\u001b[0m\u001b[1;33m)\u001b[0m\u001b[1;33m\u001b[0m\u001b[1;33m\u001b[0m\u001b[0m\n\u001b[0m",
      "\u001b[1;31mValueError\u001b[0m: 'black' is not in list"
     ]
    }
   ],
   "source": [
    "supported_colors.index('black')"
   ]
  },
  {
   "cell_type": "code",
   "execution_count": 33,
   "metadata": {},
   "outputs": [
    {
     "name": "stdout",
     "output_type": "stream",
     "text": [
      "2\n",
      "1\n",
      "0\n"
     ]
    }
   ],
   "source": [
    "a = [6,2,3,3,8]\n",
    "print(a.count(3))\n",
    "print(a.count(6))\n",
    "print(a.count(9))"
   ]
  },
  {
   "cell_type": "code",
   "execution_count": 42,
   "metadata": {},
   "outputs": [
    {
     "name": "stdout",
     "output_type": "stream",
     "text": [
      "1\n",
      "2\n",
      "2\n"
     ]
    }
   ],
   "source": [
    "a = '123'\n",
    "print(a[0])\n",
    "print(a[1])\n",
    "print(a[-2])"
   ]
  },
  {
   "cell_type": "code",
   "execution_count": 24,
   "metadata": {},
   "outputs": [
    {
     "name": "stdout",
     "output_type": "stream",
     "text": [
      "01\n",
      "02\n",
      "23\n",
      "345\n",
      "True\n",
      "3\n",
      "12345\n"
     ]
    },
    {
     "ename": "TypeError",
     "evalue": "argument of type 'int' is not iterable",
     "output_type": "error",
     "traceback": [
      "\u001b[1;31m---------------------------------------------------------------------------\u001b[0m",
      "\u001b[1;31mTypeError\u001b[0m                                 Traceback (most recent call last)",
      "\u001b[1;32m<ipython-input-24-bd9ea24b9d1d>\u001b[0m in \u001b[0;36m<module>\u001b[1;34m\u001b[0m\n\u001b[0;32m     11\u001b[0m \u001b[0mlist\u001b[0m\u001b[1;33m(\u001b[0m\u001b[1;34m'c'\u001b[0m\u001b[1;33m)\u001b[0m\u001b[1;33m\u001b[0m\u001b[1;33m\u001b[0m\u001b[0m\n\u001b[0;32m     12\u001b[0m \u001b[0mprint\u001b[0m\u001b[1;33m(\u001b[0m\u001b[0mc\u001b[0m\u001b[1;33m)\u001b[0m\u001b[1;33m\u001b[0m\u001b[1;33m\u001b[0m\u001b[0m\n\u001b[1;32m---> 13\u001b[1;33m \u001b[0mprint\u001b[0m\u001b[1;33m(\u001b[0m\u001b[1;36m3\u001b[0m \u001b[1;32min\u001b[0m \u001b[0mc\u001b[0m\u001b[1;33m)\u001b[0m\u001b[1;33m\u001b[0m\u001b[1;33m\u001b[0m\u001b[0m\n\u001b[0m",
      "\u001b[1;31mTypeError\u001b[0m: argument of type 'int' is not iterable"
     ]
    }
   ],
   "source": [
    "a = '012345'\n",
    "print(a[0:2])\n",
    "print(a[:4:2])\n",
    "print(a[-4:-2])\n",
    "print(a[-3:])\n",
    "print('3' in a)\n",
    "print(a.index('3'))\n",
    "\n",
    "b = '12345'\n",
    "c = int(b)\n",
    "print(3 in c)"
   ]
  },
  {
   "cell_type": "code",
   "execution_count": 12,
   "metadata": {},
   "outputs": [
    {
     "name": "stdout",
     "output_type": "stream",
     "text": [
      "b\n",
      "[1, 52, 3]\n",
      "5\n",
      "[4,3,9]\n",
      "5\n",
      "3\n",
      "5\n",
      "52\n",
      ",\n"
     ]
    }
   ],
   "source": [
    "a = [1,2,'a','b','3','76',[1,52,3],'c',5,'ac','[4,3,9]']\n",
    "print(a[3])\n",
    "print(a[6])\n",
    "print(a[8])\n",
    "print(a[-1])\n",
    "print(a[-3])\n",
    "print(a[4])\n",
    "print(a[-3])\n",
    "print(a[6][1])\n",
    "print(a[-1][2])"
   ]
  },
  {
   "cell_type": "code",
   "execution_count": 20,
   "metadata": {},
   "outputs": [
    {
     "name": "stdout",
     "output_type": "stream",
     "text": [
      "['a', 'b', '3']\n",
      "['c', 5, 'ac']\n",
      "['[4,3,9]', 'ac', 5, 'c']\n",
      "[[1, 52, 3], '76', '3']\n",
      "[2, 'b', '76']\n",
      "[1, 'a', 'ac', 'c']\n"
     ]
    }
   ],
   "source": [
    "print(a[2:5])\n",
    "print(a[-4:-1])\n",
    "print(a[-1:-5:-1])\n",
    "print(a[-5:-8:-1])\n",
    "print(a[1:6:2])\n",
    "print(a[0:3:2]+a[-2:-5:-2])"
   ]
  },
  {
   "cell_type": "code",
   "execution_count": 25,
   "metadata": {},
   "outputs": [
    {
     "data": {
      "text/plain": [
       "['1', '2', '3', '4', '5']"
      ]
     },
     "execution_count": 25,
     "metadata": {},
     "output_type": "execute_result"
    }
   ],
   "source": [
    "# 문자열을 list로\n",
    "list('12345')"
   ]
  },
  {
   "cell_type": "code",
   "execution_count": 29,
   "metadata": {},
   "outputs": [
    {
     "name": "stdout",
     "output_type": "stream",
     "text": [
      "['1', '2', '3', '4', '5']\n",
      "['12345']\n",
      "['1', '2', '3', '4', '5']\n"
     ]
    }
   ],
   "source": [
    "# split 함수: 문자열을 분리하여 list 생성\n",
    "a = '1 2 3 4 5'\n",
    "b = a.split()   # 공백(' ')을 기준으로 문자열을 나눠 list 생성\n",
    "print(b)\n",
    "c = '12345'\n",
    "d = c.split()\n",
    "print(d)\n",
    "e = '1:2:3:4:5'\n",
    "f = e.split(':')  # 문자를 기준으로 문자열을 나눠 list 생성\n",
    "print(f)"
   ]
  },
  {
   "cell_type": "code",
   "execution_count": 41,
   "metadata": {},
   "outputs": [
    {
     "name": "stdout",
     "output_type": "stream",
     "text": [
      "Hello world\n",
      "['H', 'e', 'l', 'l', 'o', ' ', 'w', 'o', 'r', 'l', 'd']\n",
      "['Hello', 'world']\n",
      "['Hell', ' w', 'rld']\n",
      "['H', 'lo world']\n",
      "['Hello worl', '']\n"
     ]
    }
   ],
   "source": [
    "a = 'Hello world'\n",
    "b = list(a)\n",
    "c = a.split()\n",
    "d = a.split('o')\n",
    "print(a)\n",
    "print(b)\n",
    "print(c)\n",
    "print(d)\n",
    "e = a.split('el')\n",
    "print(e)\n",
    "f = a.split('d')\n",
    "print(f)"
   ]
  },
  {
   "cell_type": "markdown",
   "metadata": {},
   "source": [
    "# 숫자로 된 list 생성 range 함수: 규칙적인 숫자열로 구성된 list 생성\n",
    "- range의 시작,끝,증감의 지정 방식은 slicing과 동일, 즉 끝은 미포함\n",
    "- range 함수의 결과는 list 형태로 나오지 않음 -> list 함수로 list화 필요\n",
    "- 인자 구성(끝),(시작,끝),(시작,끝,증감),(시작,끝,-증감)"
   ]
  },
  {
   "cell_type": "code",
   "execution_count": 44,
   "metadata": {},
   "outputs": [
    {
     "data": {
      "text/plain": [
       "range(0, 10)"
      ]
     },
     "execution_count": 44,
     "metadata": {},
     "output_type": "execute_result"
    }
   ],
   "source": [
    "range(10)"
   ]
  },
  {
   "cell_type": "code",
   "execution_count": 45,
   "metadata": {},
   "outputs": [
    {
     "data": {
      "text/plain": [
       "[0, 1, 2, 3, 4, 5, 6, 7, 8, 9]"
      ]
     },
     "execution_count": 45,
     "metadata": {},
     "output_type": "execute_result"
    }
   ],
   "source": [
    "list(range(10))"
   ]
  },
  {
   "cell_type": "code",
   "execution_count": 48,
   "metadata": {},
   "outputs": [
    {
     "name": "stdout",
     "output_type": "stream",
     "text": [
      "[3, 4, 5, 6]\n",
      "[10, 8, 6, 4, 2]\n",
      "[]\n"
     ]
    }
   ],
   "source": [
    "print(list(range(3,7)))\n",
    "print(list(range(10,1,-2)))\n",
    "print(list(range(1,7,-1)))"
   ]
  },
  {
   "cell_type": "code",
   "execution_count": 1,
   "metadata": {},
   "outputs": [
    {
     "data": {
      "text/plain": [
       "[1, 2, 3]"
      ]
     },
     "execution_count": 1,
     "metadata": {},
     "output_type": "execute_result"
    }
   ],
   "source": [
    "# list 수정하기\n",
    "a = [1,2,3]\n",
    "a"
   ]
  },
  {
   "cell_type": "code",
   "execution_count": 2,
   "metadata": {},
   "outputs": [
    {
     "data": {
      "text/plain": [
       "[1, 2, 3, 4]"
      ]
     },
     "execution_count": 2,
     "metadata": {},
     "output_type": "execute_result"
    }
   ],
   "source": [
    "a.append(4)  # 수정 맨 뒤에 하나(item)를 넣음\n",
    "a"
   ]
  },
  {
   "cell_type": "code",
   "execution_count": 3,
   "metadata": {},
   "outputs": [
    {
     "data": {
      "text/plain": [
       "[1, 2, 3, 4, 4, 5]"
      ]
     },
     "execution_count": 3,
     "metadata": {},
     "output_type": "execute_result"
    }
   ],
   "source": [
    "a.extend([4,5])  # 수정 맨 뒤에 여러값(list)을 넣음\n",
    "a"
   ]
  },
  {
   "cell_type": "code",
   "execution_count": 4,
   "metadata": {},
   "outputs": [
    {
     "data": {
      "text/plain": [
       "[1, 5, 2, 3, 4, 4, 5]"
      ]
     },
     "execution_count": 4,
     "metadata": {},
     "output_type": "execute_result"
    }
   ],
   "source": [
    "a.insert(1, 5)  # 수정임 주소값(인덱스)에 대체값(item)을 넣음\n",
    "a"
   ]
  },
  {
   "cell_type": "code",
   "execution_count": 5,
   "metadata": {},
   "outputs": [
    {
     "data": {
      "text/plain": [
       "[1, 5, 2, 3, 4, 4, 5, 4]"
      ]
     },
     "execution_count": 5,
     "metadata": {},
     "output_type": "execute_result"
    }
   ],
   "source": [
    "b = a + [4]  # append와 다르게 수정이 아니라 대체한거임\n",
    "b"
   ]
  },
  {
   "cell_type": "code",
   "execution_count": 6,
   "metadata": {},
   "outputs": [
    {
     "data": {
      "text/plain": [
       "[1, 5, 3, 4, 4, 5]"
      ]
     },
     "execution_count": 6,
     "metadata": {},
     "output_type": "execute_result"
    }
   ],
   "source": [
    "del a[2]   # list에서 인덱스 위치의 값을 지움\n",
    "a"
   ]
  },
  {
   "cell_type": "code",
   "execution_count": 7,
   "metadata": {},
   "outputs": [
    {
     "data": {
      "text/plain": [
       "[1, 5, 3, 4, 5]"
      ]
     },
     "execution_count": 7,
     "metadata": {},
     "output_type": "execute_result"
    }
   ],
   "source": [
    "a.remove(4)   # list에서 첫번째로 나오는 지정된 값(item)을 지움\n",
    "a"
   ]
  },
  {
   "cell_type": "code",
   "execution_count": 11,
   "metadata": {},
   "outputs": [],
   "source": [
    "while 1 in a:\n",
    "    a.remove(1)"
   ]
  },
  {
   "cell_type": "code",
   "execution_count": 12,
   "metadata": {},
   "outputs": [
    {
     "data": {
      "text/plain": [
       "[5, 3, 4, 5]"
      ]
     },
     "execution_count": 12,
     "metadata": {},
     "output_type": "execute_result"
    }
   ],
   "source": [
    "a"
   ]
  },
  {
   "cell_type": "code",
   "execution_count": 13,
   "metadata": {},
   "outputs": [],
   "source": [
    "while 5 in a:\n",
    "    a.remove(5)"
   ]
  },
  {
   "cell_type": "code",
   "execution_count": 14,
   "metadata": {},
   "outputs": [
    {
     "data": {
      "text/plain": [
       "[3, 4]"
      ]
     },
     "execution_count": 14,
     "metadata": {},
     "output_type": "execute_result"
    }
   ],
   "source": [
    "a"
   ]
  },
  {
   "cell_type": "code",
   "execution_count": 16,
   "metadata": {},
   "outputs": [
    {
     "ename": "IndexError",
     "evalue": "list assignment index out of range",
     "output_type": "error",
     "traceback": [
      "\u001b[1;31m---------------------------------------------------------------------------\u001b[0m",
      "\u001b[1;31mIndexError\u001b[0m                                Traceback (most recent call last)",
      "\u001b[1;32m<ipython-input-16-e3bd0ad2e71d>\u001b[0m in \u001b[0;36m<module>\u001b[1;34m\u001b[0m\n\u001b[0;32m      1\u001b[0m \u001b[1;32mwhile\u001b[0m \u001b[1;32mTrue\u001b[0m\u001b[1;33m:\u001b[0m\u001b[1;33m\u001b[0m\u001b[1;33m\u001b[0m\u001b[0m\n\u001b[1;32m----> 2\u001b[1;33m     \u001b[1;32mdel\u001b[0m \u001b[0ma\u001b[0m\u001b[1;33m[\u001b[0m\u001b[1;36m0\u001b[0m\u001b[1;33m]\u001b[0m\u001b[1;33m\u001b[0m\u001b[1;33m\u001b[0m\u001b[0m\n\u001b[0m\u001b[0;32m      3\u001b[0m \u001b[0ma\u001b[0m\u001b[1;33m\u001b[0m\u001b[1;33m\u001b[0m\u001b[0m\n",
      "\u001b[1;31mIndexError\u001b[0m: list assignment index out of range"
     ]
    }
   ],
   "source": [
    "while True:\n",
    "    del a[0]\n",
    "a"
   ]
  },
  {
   "cell_type": "code",
   "execution_count": 17,
   "metadata": {},
   "outputs": [
    {
     "data": {
      "text/plain": [
       "[]"
      ]
     },
     "execution_count": 17,
     "metadata": {},
     "output_type": "execute_result"
    }
   ],
   "source": [
    "a"
   ]
  },
  {
   "cell_type": "code",
   "execution_count": 18,
   "metadata": {},
   "outputs": [
    {
     "data": {
      "text/plain": [
       "[1, 2, 3]"
      ]
     },
     "execution_count": 18,
     "metadata": {},
     "output_type": "execute_result"
    }
   ],
   "source": [
    "# 정렬\n",
    "a = [3,1,2]\n",
    "a.sort()     # 반환값이 없어서 따로 a 찍어서 결과값을 봐야함\n",
    "a"
   ]
  },
  {
   "cell_type": "code",
   "execution_count": 19,
   "metadata": {},
   "outputs": [
    {
     "data": {
      "text/plain": [
       "[0, 2, 5, 6]"
      ]
     },
     "execution_count": 19,
     "metadata": {},
     "output_type": "execute_result"
    }
   ],
   "source": [
    "a = [5,2,6,0]\n",
    "sorted(a)     # 반환값이 있어서 따로 프린트 찍어서 볼 필요없음"
   ]
  },
  {
   "cell_type": "code",
   "execution_count": 20,
   "metadata": {},
   "outputs": [
    {
     "name": "stdout",
     "output_type": "stream",
     "text": [
      "input scores: 32 70 46 88\n",
      "Sum :  236\n"
     ]
    }
   ],
   "source": [
    "inputScores = input('input scores: ')\n",
    "scores = inputScores.split()\n",
    "sum = 0\n",
    "index = 0\n",
    "while index < len(scores):\n",
    "    sum += int(scores[index])\n",
    "    index += 1\n",
    "print(\"Sum : \", sum)"
   ]
  },
  {
   "cell_type": "code",
   "execution_count": 22,
   "metadata": {},
   "outputs": [
    {
     "name": "stdout",
     "output_type": "stream",
     "text": [
      "input scores: 32,70,46,88\n",
      "Sum :  236\n"
     ]
    }
   ],
   "source": [
    "inputScores = input('input scores: ')\n",
    "scores = inputScores.split(',')\n",
    "sum = 0\n",
    "index = 0\n",
    "while index < len(scores):\n",
    "    sum += int(scores[index])\n",
    "    index += 1\n",
    "print(\"Sum : \", sum)"
   ]
  },
  {
   "cell_type": "code",
   "execution_count": 20,
   "metadata": {},
   "outputs": [
    {
     "name": "stdout",
     "output_type": "stream",
     "text": [
      "input scores: 32 70 46 88\n",
      "Sum :  236\n",
      "Avg :  59.0\n"
     ]
    }
   ],
   "source": [
    "inputScores = input('input scores: ')\n",
    "scores = inputScores.split()\n",
    "sum = 0\n",
    "index = 0\n",
    "while index < len(scores):\n",
    "    sum += int(scores[index])     # 값을 입력받을때 빈칸이 있더라도 int가 무시해줌!!!\n",
    "    index += 1\n",
    "avg = sum / len(scores)    \n",
    "print(\"Sum : \", sum)\n",
    "print(\"Avg : \", avg)"
   ]
  },
  {
   "cell_type": "code",
   "execution_count": 24,
   "metadata": {},
   "outputs": [
    {
     "name": "stdout",
     "output_type": "stream",
     "text": [
      "동전을 넣으세요: 1300\n",
      "\n",
      "현재 금액: 1300 원\n",
      "콜라(0), 사이다(1), 환타(2): 2\n",
      "환타가 나왔습니다\n",
      "\n",
      "현재 금액: 800 원\n",
      "콜라(0), 사이다(1), 환타(2): 1\n",
      "사이다가 나왔습니다\n",
      "거스름돈: 300 원\n"
     ]
    }
   ],
   "source": [
    "drinks = ['콜라', '사이다', '환타']\n",
    "coin = int(input(\"동전을 넣으세요: \"))\n",
    "while coin >= 500:\n",
    "    print(\"\\n현재 금액:\", coin, \"원\")\n",
    "    sel = int(input(\"콜라(0), 사이다(1), 환타(2): \"))\n",
    "    print(drinks[sel] + '가 나왔습니다')    # list 주소값(인덱스)으로 나오게\n",
    "    coin -= 500\n",
    "print(\"거스름돈:\", coin, \"원\")"
   ]
  }
 ],
 "metadata": {
  "kernelspec": {
   "display_name": "Python 3",
   "language": "python",
   "name": "python3"
  },
  "language_info": {
   "codemirror_mode": {
    "name": "ipython",
    "version": 3
   },
   "file_extension": ".py",
   "mimetype": "text/x-python",
   "name": "python",
   "nbconvert_exporter": "python",
   "pygments_lexer": "ipython3",
   "version": "3.7.3"
  }
 },
 "nbformat": 4,
 "nbformat_minor": 2
}
